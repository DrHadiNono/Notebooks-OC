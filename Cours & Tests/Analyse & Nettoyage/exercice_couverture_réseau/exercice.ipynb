{
 "cells": [
  {
   "cell_type": "code",
   "execution_count": 94,
   "metadata": {},
   "outputs": [],
   "source": [
    "import pandas as pd\n",
    "import seaborn as sns\n",
    "sns.set()"
   ]
  },
  {
   "cell_type": "markdown",
   "metadata": {},
   "source": [
    "## Énoncé\n",
    "En tant que data analyst de l'entreprise Rmote, votre rôle est d'aider les salariés/freelances à trouver le lieu idéal pour travailler à distance. C'est votre deuxième mois chez Rmote, après avoir suivi un onboarding qui vous a fait découvrir le fonctionnement interne, on vous assigne maintenant votre première mission !\n",
    "\n",
    "## Mission\n",
    "À la suite d'une enquête de satisfaction dans le but d'améliorer nos services, certains utilisateurs ont fait remonter le besoin d'une connection mobile fiable. C'est nécessaire pour accéder à des documents en déplacement ou même lorsque la connexion Wifi principale tombe. On vous demande donc à partir de données disponibles en open data, d'établir un classement des communes et départements disposant des meilleures couvertures mobiles pour plusieurs opérateurs français. En effet, on doit aussi prendre en compte l'opérateur mobile de nos utilisateurs, car ils ne sont pas tous disposés à en changer.\n",
    "\n",
    "Pour cette mission, vous aurez à disposition 2 fichiers :\n",
    "- la taille de la population par commune ([source](https://www.insee.fr/fr/statistiques/4265429?sommaire=4265511))\n",
    "- des informations sur la connectivité mobile par commune ([source](https://www.data.gouv.fr/fr/datasets/mon-reseau-mobile/))"
   ]
  },
  {
   "cell_type": "markdown",
   "metadata": {},
   "source": [
    "# Exercice\n",
    "## Partie 1 - Répartition de la population (40 minutes)\n",
    "### 1 - Chargement des données\n",
    "<img src='./oc2.png' width=15px /> Téléchargez l'[archive suivante](https://www.insee.fr/fr/statistiques/fichier/4265429/ensemble.zip) puis chargez le fichier `Communes.csv` à l'aide de Pandas. Stockez le résultat du chargement dans la variable `df_pop`.\n",
    "\n",
    "Les colonnes du fichier sont uniquement séparées par des points-virgules.\n",
    "\n",
    "**Petit coup de pouce pour démarrer**, pour chacune des conditions suivantes, trouvez le paramètre de la fonction `read_csv` adapté :\n",
    "- les colonnes sont séparées par des points-virgules\n",
    "- l'encodage à utiliser est *UTF-8*"
   ]
  },
  {
   "cell_type": "code",
   "execution_count": 95,
   "metadata": {},
   "outputs": [],
   "source": [
    "df_pop = pd.read_csv('./data/Communes.csv', sep=';', encoding='UTF-8')"
   ]
  },
  {
   "cell_type": "markdown",
   "metadata": {},
   "source": [
    " "
   ]
  },
  {
   "cell_type": "markdown",
   "metadata": {},
   "source": [
    "<img src='./oc2.png' width=15px /> Pouvez-vous afficher les 5 premières lignes du dataframe pour vérifier que les données sont bien chargées ?"
   ]
  },
  {
   "cell_type": "code",
   "execution_count": 96,
   "metadata": {},
   "outputs": [
    {
     "data": {
      "text/html": [
       "<div>\n",
       "<style scoped>\n",
       "    .dataframe tbody tr th:only-of-type {\n",
       "        vertical-align: middle;\n",
       "    }\n",
       "\n",
       "    .dataframe tbody tr th {\n",
       "        vertical-align: top;\n",
       "    }\n",
       "\n",
       "    .dataframe thead th {\n",
       "        text-align: right;\n",
       "    }\n",
       "</style>\n",
       "<table border=\"1\" class=\"dataframe\">\n",
       "  <thead>\n",
       "    <tr style=\"text-align: right;\">\n",
       "      <th></th>\n",
       "      <th>DEPCOM</th>\n",
       "      <th>COM</th>\n",
       "      <th>PMUN</th>\n",
       "      <th>PCAP</th>\n",
       "      <th>PTOT</th>\n",
       "    </tr>\n",
       "  </thead>\n",
       "  <tbody>\n",
       "    <tr>\n",
       "      <th>0</th>\n",
       "      <td>01001</td>\n",
       "      <td>L' Abergement-Clémenciat</td>\n",
       "      <td>776</td>\n",
       "      <td>18</td>\n",
       "      <td>794</td>\n",
       "    </tr>\n",
       "    <tr>\n",
       "      <th>1</th>\n",
       "      <td>01002</td>\n",
       "      <td>L' Abergement-de-Varey</td>\n",
       "      <td>248</td>\n",
       "      <td>1</td>\n",
       "      <td>249</td>\n",
       "    </tr>\n",
       "    <tr>\n",
       "      <th>2</th>\n",
       "      <td>01004</td>\n",
       "      <td>Ambérieu-en-Bugey</td>\n",
       "      <td>14035</td>\n",
       "      <td>393</td>\n",
       "      <td>14428</td>\n",
       "    </tr>\n",
       "    <tr>\n",
       "      <th>3</th>\n",
       "      <td>01005</td>\n",
       "      <td>Ambérieux-en-Dombes</td>\n",
       "      <td>1689</td>\n",
       "      <td>34</td>\n",
       "      <td>1723</td>\n",
       "    </tr>\n",
       "    <tr>\n",
       "      <th>4</th>\n",
       "      <td>01006</td>\n",
       "      <td>Ambléon</td>\n",
       "      <td>111</td>\n",
       "      <td>6</td>\n",
       "      <td>117</td>\n",
       "    </tr>\n",
       "  </tbody>\n",
       "</table>\n",
       "</div>"
      ],
      "text/plain": [
       "  DEPCOM                       COM   PMUN  PCAP   PTOT\n",
       "0  01001  L' Abergement-Clémenciat    776    18    794\n",
       "1  01002    L' Abergement-de-Varey    248     1    249\n",
       "2  01004         Ambérieu-en-Bugey  14035   393  14428\n",
       "3  01005       Ambérieux-en-Dombes   1689    34   1723\n",
       "4  01006                   Ambléon    111     6    117"
      ]
     },
     "execution_count": 96,
     "metadata": {},
     "output_type": "execute_result"
    }
   ],
   "source": [
    "df_pop.head()"
   ]
  },
  {
   "cell_type": "markdown",
   "metadata": {},
   "source": [
    " "
   ]
  },
  {
   "cell_type": "markdown",
   "metadata": {},
   "source": [
    "<img src='./oc2.png' width=15px /> À l'aide de la fonction `loc`, sélectionnez uniquement les colonnes `DEPCOM`, `COM` et `PTOT`."
   ]
  },
  {
   "cell_type": "code",
   "execution_count": 97,
   "metadata": {},
   "outputs": [
    {
     "data": {
      "text/html": [
       "<div>\n",
       "<style scoped>\n",
       "    .dataframe tbody tr th:only-of-type {\n",
       "        vertical-align: middle;\n",
       "    }\n",
       "\n",
       "    .dataframe tbody tr th {\n",
       "        vertical-align: top;\n",
       "    }\n",
       "\n",
       "    .dataframe thead th {\n",
       "        text-align: right;\n",
       "    }\n",
       "</style>\n",
       "<table border=\"1\" class=\"dataframe\">\n",
       "  <thead>\n",
       "    <tr style=\"text-align: right;\">\n",
       "      <th></th>\n",
       "      <th>DEPCOM</th>\n",
       "      <th>COM</th>\n",
       "      <th>PTOT</th>\n",
       "    </tr>\n",
       "  </thead>\n",
       "  <tbody>\n",
       "    <tr>\n",
       "      <th>0</th>\n",
       "      <td>01001</td>\n",
       "      <td>L' Abergement-Clémenciat</td>\n",
       "      <td>794</td>\n",
       "    </tr>\n",
       "    <tr>\n",
       "      <th>1</th>\n",
       "      <td>01002</td>\n",
       "      <td>L' Abergement-de-Varey</td>\n",
       "      <td>249</td>\n",
       "    </tr>\n",
       "    <tr>\n",
       "      <th>2</th>\n",
       "      <td>01004</td>\n",
       "      <td>Ambérieu-en-Bugey</td>\n",
       "      <td>14428</td>\n",
       "    </tr>\n",
       "    <tr>\n",
       "      <th>3</th>\n",
       "      <td>01005</td>\n",
       "      <td>Ambérieux-en-Dombes</td>\n",
       "      <td>1723</td>\n",
       "    </tr>\n",
       "    <tr>\n",
       "      <th>4</th>\n",
       "      <td>01006</td>\n",
       "      <td>Ambléon</td>\n",
       "      <td>117</td>\n",
       "    </tr>\n",
       "    <tr>\n",
       "      <th>...</th>\n",
       "      <td>...</td>\n",
       "      <td>...</td>\n",
       "      <td>...</td>\n",
       "    </tr>\n",
       "    <tr>\n",
       "      <th>34990</th>\n",
       "      <td>97419</td>\n",
       "      <td>Sainte-Rose</td>\n",
       "      <td>6497</td>\n",
       "    </tr>\n",
       "    <tr>\n",
       "      <th>34991</th>\n",
       "      <td>97420</td>\n",
       "      <td>Sainte-Suzanne</td>\n",
       "      <td>23704</td>\n",
       "    </tr>\n",
       "    <tr>\n",
       "      <th>34992</th>\n",
       "      <td>97421</td>\n",
       "      <td>Salazie</td>\n",
       "      <td>7387</td>\n",
       "    </tr>\n",
       "    <tr>\n",
       "      <th>34993</th>\n",
       "      <td>97422</td>\n",
       "      <td>Le Tampon</td>\n",
       "      <td>79705</td>\n",
       "    </tr>\n",
       "    <tr>\n",
       "      <th>34994</th>\n",
       "      <td>97423</td>\n",
       "      <td>Les Trois-Bassins</td>\n",
       "      <td>7234</td>\n",
       "    </tr>\n",
       "  </tbody>\n",
       "</table>\n",
       "<p>34995 rows × 3 columns</p>\n",
       "</div>"
      ],
      "text/plain": [
       "      DEPCOM                       COM   PTOT\n",
       "0      01001  L' Abergement-Clémenciat    794\n",
       "1      01002    L' Abergement-de-Varey    249\n",
       "2      01004         Ambérieu-en-Bugey  14428\n",
       "3      01005       Ambérieux-en-Dombes   1723\n",
       "4      01006                   Ambléon    117\n",
       "...      ...                       ...    ...\n",
       "34990  97419               Sainte-Rose   6497\n",
       "34991  97420            Sainte-Suzanne  23704\n",
       "34992  97421                   Salazie   7387\n",
       "34993  97422                 Le Tampon  79705\n",
       "34994  97423         Les Trois-Bassins   7234\n",
       "\n",
       "[34995 rows x 3 columns]"
      ]
     },
     "execution_count": 97,
     "metadata": {},
     "output_type": "execute_result"
    }
   ],
   "source": [
    "df_pop.loc[:,['DEPCOM','COM','PTOT']]"
   ]
  },
  {
   "cell_type": "markdown",
   "metadata": {},
   "source": [
    "### Description des colonnes\n",
    "**DEPCOM** : numéro de commune\n",
    "\n",
    "**COM** : nom de la commune\n",
    "\n",
    "**PMUN** : la population municipale comprend les personnes ayant leur résidence habituelle sur le territoire de la commune, dans un logement ou une communauté, les personnes détenues dans les établissements pénitentiaires de la commune, les personnes sans abri recensées sur le territoire de la commune et les personnes résidant habituellement dans une habitation mobile recensées sur le territoire de la commune.\n",
    "\n",
    "**PCAP** : La population comptée à part comprend certaines personnes dont la résidence habituelle est dans une autre commune mais qui ont conservé une résidence sur le territoire de la commune.\n",
    "\n",
    "**PTOT** : la population totale est la somme de la population municipale et de la population comptée à part."
   ]
  },
  {
   "cell_type": "markdown",
   "metadata": {},
   "source": [
    "### 2 - Le dataframe\n",
    "\n",
    "<img src='./oc2.png' width=15px /> Quel est le type de la variable `df_pop` ?"
   ]
  },
  {
   "cell_type": "code",
   "execution_count": 98,
   "metadata": {},
   "outputs": [
    {
     "data": {
      "text/plain": [
       "pandas.core.frame.DataFrame"
      ]
     },
     "execution_count": 98,
     "metadata": {},
     "output_type": "execute_result"
    }
   ],
   "source": [
    "type(df_pop)"
   ]
  },
  {
   "cell_type": "markdown",
   "metadata": {},
   "source": [
    " "
   ]
  },
  {
   "cell_type": "markdown",
   "metadata": {},
   "source": [
    "<img src='./oc2.png' width=15px /> Combien de lignes et colonnes sont contenues dans `df_pop` ?"
   ]
  },
  {
   "cell_type": "code",
   "execution_count": 99,
   "metadata": {},
   "outputs": [
    {
     "data": {
      "text/plain": [
       "(34995, 5)"
      ]
     },
     "execution_count": 99,
     "metadata": {},
     "output_type": "execute_result"
    }
   ],
   "source": [
    "df_pop.shape"
   ]
  },
  {
   "cell_type": "markdown",
   "metadata": {},
   "source": [
    " "
   ]
  },
  {
   "cell_type": "markdown",
   "metadata": {},
   "source": [
    "<img src='./oc2.png' width=15px /> Affichez le type des colonnes"
   ]
  },
  {
   "cell_type": "code",
   "execution_count": 100,
   "metadata": {},
   "outputs": [
    {
     "data": {
      "text/plain": [
       "DEPCOM    object\n",
       "COM       object\n",
       "PMUN       int64\n",
       "PCAP       int64\n",
       "PTOT       int64\n",
       "dtype: object"
      ]
     },
     "execution_count": 100,
     "metadata": {},
     "output_type": "execute_result"
    }
   ],
   "source": [
    "df_pop.dtypes"
   ]
  },
  {
   "cell_type": "markdown",
   "metadata": {},
   "source": [
    " "
   ]
  },
  {
   "cell_type": "markdown",
   "metadata": {},
   "source": [
    "### 3 - Qualité des données\n",
    "\n",
    "Un jeu de données contient parfois des [valeurs manquantes](https://fr.wikipedia.org/wiki/Donn%C3%A9es_manquantes), ce sont des valeurs qui ne sont pas renseignées, cela pour plusieurs raisons :\n",
    "- volontairement (ex: la valeur n'existe pas)\n",
    "- involontairement (ex: la valeur n'est pas lisible)\n",
    "- etc"
   ]
  },
  {
   "cell_type": "markdown",
   "metadata": {},
   "source": [
    "<img src='./oc2.png' width=15px /> Existe-t-il des valeurs manquantes dans ce jeu de données ?"
   ]
  },
  {
   "cell_type": "code",
   "execution_count": 101,
   "metadata": {},
   "outputs": [
    {
     "data": {
      "text/plain": [
       "DEPCOM    0\n",
       "COM       0\n",
       "PMUN      0\n",
       "PCAP      0\n",
       "PTOT      0\n",
       "dtype: int64"
      ]
     },
     "execution_count": 101,
     "metadata": {},
     "output_type": "execute_result"
    }
   ],
   "source": [
    "df_pop.isnull().sum()"
   ]
  },
  {
   "cell_type": "markdown",
   "metadata": {},
   "source": [
    " "
   ]
  },
  {
   "cell_type": "markdown",
   "metadata": {},
   "source": [
    "<img src='./oc2.png' width=15px /> Existe-t-il des duplicatas ?"
   ]
  },
  {
   "cell_type": "code",
   "execution_count": 102,
   "metadata": {},
   "outputs": [
    {
     "data": {
      "text/plain": [
       "0"
      ]
     },
     "execution_count": 102,
     "metadata": {},
     "output_type": "execute_result"
    }
   ],
   "source": [
    "df_pop.duplicated().sum()"
   ]
  },
  {
   "cell_type": "markdown",
   "metadata": {},
   "source": [
    "### 4 - Analyse des données\n",
    "\n",
    "<img src='./oc2.png' width=15px /> Quel est le top 15 des communes les plus peuplées ?"
   ]
  },
  {
   "cell_type": "code",
   "execution_count": 103,
   "metadata": {},
   "outputs": [
    {
     "data": {
      "text/html": [
       "<div>\n",
       "<style scoped>\n",
       "    .dataframe tbody tr th:only-of-type {\n",
       "        vertical-align: middle;\n",
       "    }\n",
       "\n",
       "    .dataframe tbody tr th {\n",
       "        vertical-align: top;\n",
       "    }\n",
       "\n",
       "    .dataframe thead th {\n",
       "        text-align: right;\n",
       "    }\n",
       "</style>\n",
       "<table border=\"1\" class=\"dataframe\">\n",
       "  <thead>\n",
       "    <tr style=\"text-align: right;\">\n",
       "      <th></th>\n",
       "      <th>DEPCOM</th>\n",
       "      <th>COM</th>\n",
       "      <th>PMUN</th>\n",
       "      <th>PCAP</th>\n",
       "      <th>PTOT</th>\n",
       "    </tr>\n",
       "  </thead>\n",
       "  <tbody>\n",
       "    <tr>\n",
       "      <th>11831</th>\n",
       "      <td>31555</td>\n",
       "      <td>Toulouse</td>\n",
       "      <td>479553</td>\n",
       "      <td>5256</td>\n",
       "      <td>484809</td>\n",
       "    </tr>\n",
       "    <tr>\n",
       "      <th>1958</th>\n",
       "      <td>06088</td>\n",
       "      <td>Nice</td>\n",
       "      <td>340017</td>\n",
       "      <td>2962</td>\n",
       "      <td>342979</td>\n",
       "    </tr>\n",
       "    <tr>\n",
       "      <th>16332</th>\n",
       "      <td>44109</td>\n",
       "      <td>Nantes</td>\n",
       "      <td>309346</td>\n",
       "      <td>5157</td>\n",
       "      <td>314503</td>\n",
       "    </tr>\n",
       "    <tr>\n",
       "      <th>13035</th>\n",
       "      <td>34172</td>\n",
       "      <td>Montpellier</td>\n",
       "      <td>285121</td>\n",
       "      <td>3479</td>\n",
       "      <td>288600</td>\n",
       "    </tr>\n",
       "    <tr>\n",
       "      <th>26571</th>\n",
       "      <td>67482</td>\n",
       "      <td>Strasbourg</td>\n",
       "      <td>280966</td>\n",
       "      <td>2779</td>\n",
       "      <td>283745</td>\n",
       "    </tr>\n",
       "    <tr>\n",
       "      <th>12386</th>\n",
       "      <td>33063</td>\n",
       "      <td>Bordeaux</td>\n",
       "      <td>254436</td>\n",
       "      <td>3368</td>\n",
       "      <td>257804</td>\n",
       "    </tr>\n",
       "    <tr>\n",
       "      <th>29311</th>\n",
       "      <td>75115</td>\n",
       "      <td>Paris 15e Arrondissement</td>\n",
       "      <td>233392</td>\n",
       "      <td>1786</td>\n",
       "      <td>235178</td>\n",
       "    </tr>\n",
       "    <tr>\n",
       "      <th>22165</th>\n",
       "      <td>59350</td>\n",
       "      <td>Lille</td>\n",
       "      <td>232787</td>\n",
       "      <td>2055</td>\n",
       "      <td>234842</td>\n",
       "    </tr>\n",
       "    <tr>\n",
       "      <th>13425</th>\n",
       "      <td>35238</td>\n",
       "      <td>Rennes</td>\n",
       "      <td>216815</td>\n",
       "      <td>4110</td>\n",
       "      <td>220925</td>\n",
       "    </tr>\n",
       "    <tr>\n",
       "      <th>29316</th>\n",
       "      <td>75120</td>\n",
       "      <td>Paris 20e Arrondissement</td>\n",
       "      <td>195814</td>\n",
       "      <td>925</td>\n",
       "      <td>196739</td>\n",
       "    </tr>\n",
       "    <tr>\n",
       "      <th>29314</th>\n",
       "      <td>75118</td>\n",
       "      <td>Paris 18e Arrondissement</td>\n",
       "      <td>195233</td>\n",
       "      <td>898</td>\n",
       "      <td>196131</td>\n",
       "    </tr>\n",
       "    <tr>\n",
       "      <th>29315</th>\n",
       "      <td>75119</td>\n",
       "      <td>Paris 19e Arrondissement</td>\n",
       "      <td>187015</td>\n",
       "      <td>1051</td>\n",
       "      <td>188066</td>\n",
       "    </tr>\n",
       "    <tr>\n",
       "      <th>18585</th>\n",
       "      <td>51454</td>\n",
       "      <td>Reims</td>\n",
       "      <td>182460</td>\n",
       "      <td>3116</td>\n",
       "      <td>185576</td>\n",
       "    </tr>\n",
       "    <tr>\n",
       "      <th>29309</th>\n",
       "      <td>75113</td>\n",
       "      <td>Paris 13e Arrondissement</td>\n",
       "      <td>182099</td>\n",
       "      <td>1300</td>\n",
       "      <td>183399</td>\n",
       "    </tr>\n",
       "    <tr>\n",
       "      <th>15856</th>\n",
       "      <td>42218</td>\n",
       "      <td>Saint-Étienne</td>\n",
       "      <td>172565</td>\n",
       "      <td>1955</td>\n",
       "      <td>174520</td>\n",
       "    </tr>\n",
       "  </tbody>\n",
       "</table>\n",
       "</div>"
      ],
      "text/plain": [
       "      DEPCOM                       COM    PMUN  PCAP    PTOT\n",
       "11831  31555                  Toulouse  479553  5256  484809\n",
       "1958   06088                      Nice  340017  2962  342979\n",
       "16332  44109                    Nantes  309346  5157  314503\n",
       "13035  34172               Montpellier  285121  3479  288600\n",
       "26571  67482                Strasbourg  280966  2779  283745\n",
       "12386  33063                  Bordeaux  254436  3368  257804\n",
       "29311  75115  Paris 15e Arrondissement  233392  1786  235178\n",
       "22165  59350                     Lille  232787  2055  234842\n",
       "13425  35238                    Rennes  216815  4110  220925\n",
       "29316  75120  Paris 20e Arrondissement  195814   925  196739\n",
       "29314  75118  Paris 18e Arrondissement  195233   898  196131\n",
       "29315  75119  Paris 19e Arrondissement  187015  1051  188066\n",
       "18585  51454                     Reims  182460  3116  185576\n",
       "29309  75113  Paris 13e Arrondissement  182099  1300  183399\n",
       "15856  42218             Saint-Étienne  172565  1955  174520"
      ]
     },
     "execution_count": 103,
     "metadata": {},
     "output_type": "execute_result"
    }
   ],
   "source": [
    "top15 = df_pop.sort_values(['PTOT'], ascending=False).head(15)\n",
    "top15"
   ]
  },
  {
   "cell_type": "markdown",
   "metadata": {},
   "source": [
    " "
   ]
  },
  {
   "cell_type": "markdown",
   "metadata": {},
   "source": [
    "<img src='./oc2.png' width=15px /> Illustrez ce top 15 à l'aide d'un barplot de la librairie seaborn. https://seaborn.pydata.org/generated/seaborn.barplot.html?highlight=barplot#seaborn.barplot"
   ]
  },
  {
   "cell_type": "code",
   "execution_count": 104,
   "metadata": {},
   "outputs": [
    {
     "data": {
      "image/png": "[encoded data removed]",
      "text/plain": [
       "<Figure size 432x288 with 1 Axes>"
      ]
     },
     "metadata": {},
     "output_type": "display_data"
    }
   ],
   "source": [
    "ax = sns.barplot(data=top15, y='COM', x='PTOT', orient='h')"
   ]
  },
  {
   "cell_type": "markdown",
   "metadata": {},
   "source": [
    " \n"
   ]
  },
  {
   "cell_type": "markdown",
   "metadata": {},
   "source": [
    "<img src='./oc2.png' width=15px /> Affichez les statistiques élémentaires (min, max, moyenne). Quel est la taille de la plus petite population ?"
   ]
  },
  {
   "cell_type": "code",
   "execution_count": 105,
   "metadata": {},
   "outputs": [
    {
     "data": {
      "text/plain": [
       "min          0.000000\n",
       "max     484809.000000\n",
       "mean      1936.307815\n",
       "Name: PTOT, dtype: float64"
      ]
     },
     "execution_count": 105,
     "metadata": {},
     "output_type": "execute_result"
    }
   ],
   "source": [
    "df_pop.describe().loc[['min','max','mean'],'PTOT']"
   ]
  },
  {
   "cell_type": "markdown",
   "metadata": {},
   "source": [
    " "
   ]
  },
  {
   "cell_type": "markdown",
   "metadata": {},
   "source": [
    "<img src='./oc2.png' width=15px /> Pensez-vous que la distribution des données est très homogène autour de la valeur médiane, ou au contraire très variable ? Pour répondre à cette question vous pouvez faire un diagramme en boîte."
   ]
  },
  {
   "cell_type": "code",
   "execution_count": 106,
   "metadata": {},
   "outputs": [
    {
     "data": {
      "image/png": "[encoded data removed]",
      "text/plain": [
       "<Figure size 432x288 with 1 Axes>"
      ]
     },
     "metadata": {},
     "output_type": "display_data"
    }
   ],
   "source": [
    "ax = sns.boxplot(y=df_pop['PTOT'], width=0.5, showfliers = False)"
   ]
  },
  {
   "cell_type": "markdown",
   "metadata": {},
   "source": [
    " "
   ]
  },
  {
   "cell_type": "markdown",
   "metadata": {},
   "source": [
    "<img src='./oc2.png' width=15px /> Essayez également d'illustrer la distribution de la variable `PTOT` avec un kde plot de la librairie seaborn. https://seaborn.pydata.org/generated/seaborn.displot.html?highlight=displot#seaborn.displot\n",
    "\n",
    "Avez-vous une meilleure vision de la distribution ?"
   ]
  },
  {
   "cell_type": "code",
   "execution_count": 107,
   "metadata": {},
   "outputs": [
    {
     "data": {
      "image/png": "[encoded data removed]",
      "text/plain": [
       "<Figure size 432x288 with 1 Axes>"
      ]
     },
     "metadata": {},
     "output_type": "display_data"
    }
   ],
   "source": [
    "ax = sns.kdeplot(x=df_pop['PTOT'])"
   ]
  },
  {
   "cell_type": "markdown",
   "metadata": {},
   "source": [
    " \n",
    " "
   ]
  },
  {
   "cell_type": "markdown",
   "metadata": {},
   "source": [
    "<img src='./oc2.png' width=15px /> Quelles sont les communes n'ayant aucun habitant ?"
   ]
  },
  {
   "cell_type": "code",
   "execution_count": 108,
   "metadata": {},
   "outputs": [
    {
     "data": {
      "text/html": [
       "<div>\n",
       "<style scoped>\n",
       "    .dataframe tbody tr th:only-of-type {\n",
       "        vertical-align: middle;\n",
       "    }\n",
       "\n",
       "    .dataframe tbody tr th {\n",
       "        vertical-align: top;\n",
       "    }\n",
       "\n",
       "    .dataframe thead th {\n",
       "        text-align: right;\n",
       "    }\n",
       "</style>\n",
       "<table border=\"1\" class=\"dataframe\">\n",
       "  <thead>\n",
       "    <tr style=\"text-align: right;\">\n",
       "      <th></th>\n",
       "      <th>DEPCOM</th>\n",
       "      <th>COM</th>\n",
       "      <th>PMUN</th>\n",
       "      <th>PCAP</th>\n",
       "      <th>PTOT</th>\n",
       "    </tr>\n",
       "  </thead>\n",
       "  <tbody>\n",
       "    <tr>\n",
       "      <th>20074</th>\n",
       "      <td>55039</td>\n",
       "      <td>Beaumont-en-Verdunois</td>\n",
       "      <td>0</td>\n",
       "      <td>0</td>\n",
       "      <td>0</td>\n",
       "    </tr>\n",
       "    <tr>\n",
       "      <th>20085</th>\n",
       "      <td>55050</td>\n",
       "      <td>Bezonvaux</td>\n",
       "      <td>0</td>\n",
       "      <td>0</td>\n",
       "      <td>0</td>\n",
       "    </tr>\n",
       "    <tr>\n",
       "      <th>20161</th>\n",
       "      <td>55139</td>\n",
       "      <td>Cumières-le-Mort-Homme</td>\n",
       "      <td>0</td>\n",
       "      <td>0</td>\n",
       "      <td>0</td>\n",
       "    </tr>\n",
       "    <tr>\n",
       "      <th>20205</th>\n",
       "      <td>55189</td>\n",
       "      <td>Fleury-devant-Douaumont</td>\n",
       "      <td>0</td>\n",
       "      <td>0</td>\n",
       "      <td>0</td>\n",
       "    </tr>\n",
       "    <tr>\n",
       "      <th>20243</th>\n",
       "      <td>55239</td>\n",
       "      <td>Haumont-près-Samogneux</td>\n",
       "      <td>0</td>\n",
       "      <td>0</td>\n",
       "      <td>0</td>\n",
       "    </tr>\n",
       "    <tr>\n",
       "      <th>20301</th>\n",
       "      <td>55307</td>\n",
       "      <td>Louvemont-Côte-du-Poivre</td>\n",
       "      <td>0</td>\n",
       "      <td>0</td>\n",
       "      <td>0</td>\n",
       "    </tr>\n",
       "  </tbody>\n",
       "</table>\n",
       "</div>"
      ],
      "text/plain": [
       "      DEPCOM                       COM  PMUN  PCAP  PTOT\n",
       "20074  55039     Beaumont-en-Verdunois     0     0     0\n",
       "20085  55050                 Bezonvaux     0     0     0\n",
       "20161  55139    Cumières-le-Mort-Homme     0     0     0\n",
       "20205  55189   Fleury-devant-Douaumont     0     0     0\n",
       "20243  55239    Haumont-près-Samogneux     0     0     0\n",
       "20301  55307  Louvemont-Côte-du-Poivre     0     0     0"
      ]
     },
     "execution_count": 108,
     "metadata": {},
     "output_type": "execute_result"
    }
   ],
   "source": [
    "df_pop[df_pop['PTOT']==0]"
   ]
  },
  {
   "cell_type": "markdown",
   "metadata": {},
   "source": [
    "Toutes les communes n'ayant aucun habitant sont dans le département 55 !"
   ]
  },
  {
   "cell_type": "markdown",
   "metadata": {},
   "source": [
    " "
   ]
  },
  {
   "cell_type": "markdown",
   "metadata": {},
   "source": [
    "<img src='./oc2.png' width=15px /> Quel est le total de la population ?"
   ]
  },
  {
   "cell_type": "code",
   "execution_count": 109,
   "metadata": {},
   "outputs": [
    {
     "data": {
      "text/plain": [
       "67761092"
      ]
     },
     "execution_count": 109,
     "metadata": {},
     "output_type": "execute_result"
    }
   ],
   "source": [
    "df_pop['PTOT'].sum()"
   ]
  },
  {
   "cell_type": "markdown",
   "metadata": {},
   "source": [
    " "
   ]
  },
  {
   "cell_type": "markdown",
   "metadata": {},
   "source": [
    "<img src='./oc2.png' width=15px /> Pour simplifier le travail, on exploitera uniquement `PTOT` comme indicateur de la taille de la population. Supprimez donc `PMUN` et `PCAP`."
   ]
  },
  {
   "cell_type": "code",
   "execution_count": 110,
   "metadata": {},
   "outputs": [],
   "source": [
    "df_pop.drop(['PMUN','PCAP'], axis='columns', inplace=True)"
   ]
  },
  {
   "cell_type": "markdown",
   "metadata": {},
   "source": [
    " "
   ]
  },
  {
   "cell_type": "markdown",
   "metadata": {},
   "source": [
    "<img src='./oc2.png' width=15px /> Renommez la colonne `PTOT` en `population`, `DEPCOM` en `code_dep`, `COM` en `nom_dep`."
   ]
  },
  {
   "cell_type": "code",
   "execution_count": 111,
   "metadata": {},
   "outputs": [
    {
     "data": {
      "text/html": [
       "<div>\n",
       "<style scoped>\n",
       "    .dataframe tbody tr th:only-of-type {\n",
       "        vertical-align: middle;\n",
       "    }\n",
       "\n",
       "    .dataframe tbody tr th {\n",
       "        vertical-align: top;\n",
       "    }\n",
       "\n",
       "    .dataframe thead th {\n",
       "        text-align: right;\n",
       "    }\n",
       "</style>\n",
       "<table border=\"1\" class=\"dataframe\">\n",
       "  <thead>\n",
       "    <tr style=\"text-align: right;\">\n",
       "      <th></th>\n",
       "      <th>code_dep</th>\n",
       "      <th>nom_dep</th>\n",
       "      <th>population</th>\n",
       "    </tr>\n",
       "  </thead>\n",
       "  <tbody>\n",
       "    <tr>\n",
       "      <th>0</th>\n",
       "      <td>01001</td>\n",
       "      <td>L' Abergement-Clémenciat</td>\n",
       "      <td>794</td>\n",
       "    </tr>\n",
       "    <tr>\n",
       "      <th>1</th>\n",
       "      <td>01002</td>\n",
       "      <td>L' Abergement-de-Varey</td>\n",
       "      <td>249</td>\n",
       "    </tr>\n",
       "    <tr>\n",
       "      <th>2</th>\n",
       "      <td>01004</td>\n",
       "      <td>Ambérieu-en-Bugey</td>\n",
       "      <td>14428</td>\n",
       "    </tr>\n",
       "    <tr>\n",
       "      <th>3</th>\n",
       "      <td>01005</td>\n",
       "      <td>Ambérieux-en-Dombes</td>\n",
       "      <td>1723</td>\n",
       "    </tr>\n",
       "    <tr>\n",
       "      <th>4</th>\n",
       "      <td>01006</td>\n",
       "      <td>Ambléon</td>\n",
       "      <td>117</td>\n",
       "    </tr>\n",
       "    <tr>\n",
       "      <th>...</th>\n",
       "      <td>...</td>\n",
       "      <td>...</td>\n",
       "      <td>...</td>\n",
       "    </tr>\n",
       "    <tr>\n",
       "      <th>34990</th>\n",
       "      <td>97419</td>\n",
       "      <td>Sainte-Rose</td>\n",
       "      <td>6497</td>\n",
       "    </tr>\n",
       "    <tr>\n",
       "      <th>34991</th>\n",
       "      <td>97420</td>\n",
       "      <td>Sainte-Suzanne</td>\n",
       "      <td>23704</td>\n",
       "    </tr>\n",
       "    <tr>\n",
       "      <th>34992</th>\n",
       "      <td>97421</td>\n",
       "      <td>Salazie</td>\n",
       "      <td>7387</td>\n",
       "    </tr>\n",
       "    <tr>\n",
       "      <th>34993</th>\n",
       "      <td>97422</td>\n",
       "      <td>Le Tampon</td>\n",
       "      <td>79705</td>\n",
       "    </tr>\n",
       "    <tr>\n",
       "      <th>34994</th>\n",
       "      <td>97423</td>\n",
       "      <td>Les Trois-Bassins</td>\n",
       "      <td>7234</td>\n",
       "    </tr>\n",
       "  </tbody>\n",
       "</table>\n",
       "<p>34995 rows × 3 columns</p>\n",
       "</div>"
      ],
      "text/plain": [
       "      code_dep                   nom_dep  population\n",
       "0        01001  L' Abergement-Clémenciat         794\n",
       "1        01002    L' Abergement-de-Varey         249\n",
       "2        01004         Ambérieu-en-Bugey       14428\n",
       "3        01005       Ambérieux-en-Dombes        1723\n",
       "4        01006                   Ambléon         117\n",
       "...        ...                       ...         ...\n",
       "34990    97419               Sainte-Rose        6497\n",
       "34991    97420            Sainte-Suzanne       23704\n",
       "34992    97421                   Salazie        7387\n",
       "34993    97422                 Le Tampon       79705\n",
       "34994    97423         Les Trois-Bassins        7234\n",
       "\n",
       "[34995 rows x 3 columns]"
      ]
     },
     "execution_count": 111,
     "metadata": {},
     "output_type": "execute_result"
    }
   ],
   "source": [
    "df_pop.rename(columns={'PTOT':'population', 'DEPCOM':'code_dep', 'COM':'nom_dep'}, inplace=True)\n",
    "df_pop"
   ]
  },
  {
   "cell_type": "markdown",
   "metadata": {},
   "source": [
    " "
   ]
  },
  {
   "cell_type": "markdown",
   "metadata": {},
   "source": [
    "<img src='./oc2.png' width=15px /> Nous allons utiliser ce fichier de données dans la suite du projet, seulement un problème persiste, les villes avec des arrondissements doivent être fusionnées, pour ne pas prendre en considération ces derniers. Première étape, lister les communes dont le nom termine par `Arrondissement`. ([aide](https://pandas.pydata.org/pandas-docs/stable/reference/api/pandas.Series.str.endswith.html))"
   ]
  },
  {
   "cell_type": "code",
   "execution_count": 112,
   "metadata": {},
   "outputs": [
    {
     "data": {
      "text/html": [
       "<div>\n",
       "<style scoped>\n",
       "    .dataframe tbody tr th:only-of-type {\n",
       "        vertical-align: middle;\n",
       "    }\n",
       "\n",
       "    .dataframe tbody tr th {\n",
       "        vertical-align: top;\n",
       "    }\n",
       "\n",
       "    .dataframe thead th {\n",
       "        text-align: right;\n",
       "    }\n",
       "</style>\n",
       "<table border=\"1\" class=\"dataframe\">\n",
       "  <thead>\n",
       "    <tr style=\"text-align: right;\">\n",
       "      <th></th>\n",
       "      <th>code_dep</th>\n",
       "      <th>nom_dep</th>\n",
       "      <th>population</th>\n",
       "    </tr>\n",
       "  </thead>\n",
       "  <tbody>\n",
       "    <tr>\n",
       "      <th>4349</th>\n",
       "      <td>13201</td>\n",
       "      <td>Marseille 1er Arrondissement</td>\n",
       "      <td>39967</td>\n",
       "    </tr>\n",
       "    <tr>\n",
       "      <th>4350</th>\n",
       "      <td>13202</td>\n",
       "      <td>Marseille 2e Arrondissement</td>\n",
       "      <td>24873</td>\n",
       "    </tr>\n",
       "    <tr>\n",
       "      <th>4351</th>\n",
       "      <td>13203</td>\n",
       "      <td>Marseille 3e Arrondissement</td>\n",
       "      <td>48990</td>\n",
       "    </tr>\n",
       "    <tr>\n",
       "      <th>4352</th>\n",
       "      <td>13204</td>\n",
       "      <td>Marseille 4e Arrondissement</td>\n",
       "      <td>48791</td>\n",
       "    </tr>\n",
       "    <tr>\n",
       "      <th>4353</th>\n",
       "      <td>13205</td>\n",
       "      <td>Marseille 5e Arrondissement</td>\n",
       "      <td>46499</td>\n",
       "    </tr>\n",
       "  </tbody>\n",
       "</table>\n",
       "</div>"
      ],
      "text/plain": [
       "     code_dep                       nom_dep  population\n",
       "4349    13201  Marseille 1er Arrondissement       39967\n",
       "4350    13202   Marseille 2e Arrondissement       24873\n",
       "4351    13203   Marseille 3e Arrondissement       48990\n",
       "4352    13204   Marseille 4e Arrondissement       48791\n",
       "4353    13205   Marseille 5e Arrondissement       46499"
      ]
     },
     "execution_count": 112,
     "metadata": {},
     "output_type": "execute_result"
    }
   ],
   "source": [
    "df_pop[df_pop['nom_dep'].str.endswith('Arrondissement')].head()"
   ]
  },
  {
   "cell_type": "markdown",
   "metadata": {},
   "source": [
    " "
   ]
  },
  {
   "cell_type": "markdown",
   "metadata": {},
   "source": [
    "<img src='./oc2.png' width=15px /> Calculez la population totale de Marseille, de même pour Lyon et Paris."
   ]
  },
  {
   "cell_type": "code",
   "execution_count": 113,
   "metadata": {},
   "outputs": [
    {
     "data": {
      "text/plain": [
       "{'Marseille': 872698, 'Lyon': 552772, 'Paris': 2249649}"
      ]
     },
     "execution_count": 113,
     "metadata": {},
     "output_type": "execute_result"
    }
   ],
   "source": [
    "{'Marseille': df_pop[df_pop['nom_dep'].str.contains('Marseille')]['population'].sum(),\n",
    "'Lyon': df_pop[df_pop['nom_dep'].str.contains('Lyon')]['population'].sum(),\n",
    "'Paris': df_pop[df_pop['nom_dep'].str.contains('Paris')]['population'].sum()}"
   ]
  },
  {
   "cell_type": "markdown",
   "metadata": {},
   "source": [
    " "
   ]
  },
  {
   "cell_type": "markdown",
   "metadata": {},
   "source": [
    "<img src='./oc2.png' width=15px /> Supprimez les communes dont le nom termine par `Arrondissement`."
   ]
  },
  {
   "cell_type": "code",
   "execution_count": 114,
   "metadata": {},
   "outputs": [
    {
     "data": {
      "text/html": [
       "<div>\n",
       "<style scoped>\n",
       "    .dataframe tbody tr th:only-of-type {\n",
       "        vertical-align: middle;\n",
       "    }\n",
       "\n",
       "    .dataframe tbody tr th {\n",
       "        vertical-align: top;\n",
       "    }\n",
       "\n",
       "    .dataframe thead th {\n",
       "        text-align: right;\n",
       "    }\n",
       "</style>\n",
       "<table border=\"1\" class=\"dataframe\">\n",
       "  <thead>\n",
       "    <tr style=\"text-align: right;\">\n",
       "      <th></th>\n",
       "      <th>code_dep</th>\n",
       "      <th>nom_dep</th>\n",
       "      <th>population</th>\n",
       "    </tr>\n",
       "  </thead>\n",
       "  <tbody>\n",
       "  </tbody>\n",
       "</table>\n",
       "</div>"
      ],
      "text/plain": [
       "Empty DataFrame\n",
       "Columns: [code_dep, nom_dep, population]\n",
       "Index: []"
      ]
     },
     "execution_count": 114,
     "metadata": {},
     "output_type": "execute_result"
    }
   ],
   "source": [
    "df_pop.drop(index=df_pop[df_pop['nom_dep'].str.endswith('Arrondissement')].index, inplace=True)\n",
    "df_pop[df_pop['nom_dep'].str.endswith('Arrondissement')]"
   ]
  },
  {
   "cell_type": "markdown",
   "metadata": {},
   "source": [
    " "
   ]
  },
  {
   "cell_type": "markdown",
   "metadata": {},
   "source": [
    "<img src='./oc2.png' width=15px /> Ajouter les communes fusionnées dans le dataframe (3 lignes). ([aide](https://pandas.pydata.org/pandas-docs/stable/reference/api/pandas.DataFrame.append.html))"
   ]
  },
  {
   "cell_type": "code",
   "execution_count": 115,
   "metadata": {},
   "outputs": [
    {
     "data": {
      "text/html": [
       "<div>\n",
       "<style scoped>\n",
       "    .dataframe tbody tr th:only-of-type {\n",
       "        vertical-align: middle;\n",
       "    }\n",
       "\n",
       "    .dataframe tbody tr th {\n",
       "        vertical-align: top;\n",
       "    }\n",
       "\n",
       "    .dataframe thead th {\n",
       "        text-align: right;\n",
       "    }\n",
       "</style>\n",
       "<table border=\"1\" class=\"dataframe\">\n",
       "  <thead>\n",
       "    <tr style=\"text-align: right;\">\n",
       "      <th></th>\n",
       "      <th>code_dep</th>\n",
       "      <th>nom_dep</th>\n",
       "      <th>population</th>\n",
       "    </tr>\n",
       "  </thead>\n",
       "  <tbody>\n",
       "    <tr>\n",
       "      <th>0</th>\n",
       "      <td>01001</td>\n",
       "      <td>L' Abergement-Clémenciat</td>\n",
       "      <td>794</td>\n",
       "    </tr>\n",
       "    <tr>\n",
       "      <th>1</th>\n",
       "      <td>01002</td>\n",
       "      <td>L' Abergement-de-Varey</td>\n",
       "      <td>249</td>\n",
       "    </tr>\n",
       "    <tr>\n",
       "      <th>2</th>\n",
       "      <td>01004</td>\n",
       "      <td>Ambérieu-en-Bugey</td>\n",
       "      <td>14428</td>\n",
       "    </tr>\n",
       "    <tr>\n",
       "      <th>3</th>\n",
       "      <td>01005</td>\n",
       "      <td>Ambérieux-en-Dombes</td>\n",
       "      <td>1723</td>\n",
       "    </tr>\n",
       "    <tr>\n",
       "      <th>4</th>\n",
       "      <td>01006</td>\n",
       "      <td>Ambléon</td>\n",
       "      <td>117</td>\n",
       "    </tr>\n",
       "    <tr>\n",
       "      <th>...</th>\n",
       "      <td>...</td>\n",
       "      <td>...</td>\n",
       "      <td>...</td>\n",
       "    </tr>\n",
       "    <tr>\n",
       "      <th>34990</th>\n",
       "      <td>97419</td>\n",
       "      <td>Sainte-Rose</td>\n",
       "      <td>6497</td>\n",
       "    </tr>\n",
       "    <tr>\n",
       "      <th>34991</th>\n",
       "      <td>97420</td>\n",
       "      <td>Sainte-Suzanne</td>\n",
       "      <td>23704</td>\n",
       "    </tr>\n",
       "    <tr>\n",
       "      <th>34992</th>\n",
       "      <td>97421</td>\n",
       "      <td>Salazie</td>\n",
       "      <td>7387</td>\n",
       "    </tr>\n",
       "    <tr>\n",
       "      <th>34993</th>\n",
       "      <td>97422</td>\n",
       "      <td>Le Tampon</td>\n",
       "      <td>79705</td>\n",
       "    </tr>\n",
       "    <tr>\n",
       "      <th>34994</th>\n",
       "      <td>97423</td>\n",
       "      <td>Les Trois-Bassins</td>\n",
       "      <td>7234</td>\n",
       "    </tr>\n",
       "  </tbody>\n",
       "</table>\n",
       "<p>34950 rows × 3 columns</p>\n",
       "</div>"
      ],
      "text/plain": [
       "      code_dep                   nom_dep  population\n",
       "0        01001  L' Abergement-Clémenciat         794\n",
       "1        01002    L' Abergement-de-Varey         249\n",
       "2        01004         Ambérieu-en-Bugey       14428\n",
       "3        01005       Ambérieux-en-Dombes        1723\n",
       "4        01006                   Ambléon         117\n",
       "...        ...                       ...         ...\n",
       "34990    97419               Sainte-Rose        6497\n",
       "34991    97420            Sainte-Suzanne       23704\n",
       "34992    97421                   Salazie        7387\n",
       "34993    97422                 Le Tampon       79705\n",
       "34994    97423         Les Trois-Bassins        7234\n",
       "\n",
       "[34950 rows x 3 columns]"
      ]
     },
     "execution_count": 115,
     "metadata": {},
     "output_type": "execute_result"
    }
   ],
   "source": [
    "df_pop"
   ]
  },
  {
   "cell_type": "markdown",
   "metadata": {},
   "source": [
    " "
   ]
  },
  {
   "cell_type": "markdown",
   "metadata": {},
   "source": [
    "<img src='./oc2.png' width=15px /> Réinitialiser les index du dataframe."
   ]
  },
  {
   "cell_type": "code",
   "execution_count": 116,
   "metadata": {},
   "outputs": [],
   "source": [
    "df_pop.reset_index(drop=True, inplace=True)"
   ]
  },
  {
   "cell_type": "markdown",
   "metadata": {},
   "source": [
    "-----------\n",
    "\n",
    "## Partie 2 - Qualité de la couverture du réseau mobile (50 minutes)\n",
    "### 1 - Chargement des données"
   ]
  },
  {
   "cell_type": "markdown",
   "metadata": {},
   "source": [
    "<img src='./oc2.png' width=15px /> Téléchargez et importez le fichier à [l'URL suivante](https://www.data.gouv.fr/fr/datasets/r/77ca5457-c1fe-4450-9761-1a6a598921c0), stockez le résultat du chargement dans la variable `df_reseau`.\n",
    "\n",
    "**Petit coup de pouce pour démarrer**, pour chacune des conditions suivantes, trouvez le paramètre de la fonction `read_csv` adapté :\n",
    "- les colonnes sont séparées par des points-virgules\n",
    "- l'encodage a utiliser est *iso-8859-1*"
   ]
  },
  {
   "cell_type": "code",
   "execution_count": 117,
   "metadata": {},
   "outputs": [
    {
     "name": "stderr",
     "output_type": "stream",
     "text": [
      "C:\\Users\\el-ha\\anaconda3\\lib\\site-packages\\IPython\\core\\interactiveshell.py:3444: DtypeWarning: Columns (3,4,9) have mixed types.Specify dtype option on import or set low_memory=False.\n",
      "  exec(code_obj, self.user_global_ns, self.user_ns)\n"
     ]
    },
    {
     "data": {
      "text/html": [
       "<div>\n",
       "<style scoped>\n",
       "    .dataframe tbody tr th:only-of-type {\n",
       "        vertical-align: middle;\n",
       "    }\n",
       "\n",
       "    .dataframe tbody tr th {\n",
       "        vertical-align: top;\n",
       "    }\n",
       "\n",
       "    .dataframe thead th {\n",
       "        text-align: right;\n",
       "    }\n",
       "</style>\n",
       "<table border=\"1\" class=\"dataframe\">\n",
       "  <thead>\n",
       "    <tr style=\"text-align: right;\">\n",
       "      <th></th>\n",
       "      <th>code_op</th>\n",
       "      <th>nom_op</th>\n",
       "      <th>num_site</th>\n",
       "      <th>x_lambert_93</th>\n",
       "      <th>y_lambert_93</th>\n",
       "      <th>nom_reg</th>\n",
       "      <th>nom_dep</th>\n",
       "      <th>insee_dep</th>\n",
       "      <th>nom_com</th>\n",
       "      <th>insee_com</th>\n",
       "      <th>site_2g</th>\n",
       "      <th>site_3g</th>\n",
       "      <th>site_4g</th>\n",
       "      <th>mes_4g_trim</th>\n",
       "      <th>site_ZB</th>\n",
       "      <th>site_DCC</th>\n",
       "    </tr>\n",
       "  </thead>\n",
       "  <tbody>\n",
       "    <tr>\n",
       "      <th>0</th>\n",
       "      <td>20801</td>\n",
       "      <td>Orange</td>\n",
       "      <td>0012290010</td>\n",
       "      <td>872639</td>\n",
       "      <td>6570768</td>\n",
       "      <td>AUVERGNE RHONE ALPES</td>\n",
       "      <td>AIN</td>\n",
       "      <td>01</td>\n",
       "      <td>BOURG EN BRESSE</td>\n",
       "      <td>01053</td>\n",
       "      <td>1</td>\n",
       "      <td>1</td>\n",
       "      <td>1</td>\n",
       "      <td>0</td>\n",
       "      <td>0</td>\n",
       "      <td>0</td>\n",
       "    </tr>\n",
       "    <tr>\n",
       "      <th>1</th>\n",
       "      <td>20801</td>\n",
       "      <td>Orange</td>\n",
       "      <td>0012290011</td>\n",
       "      <td>860279</td>\n",
       "      <td>6529851</td>\n",
       "      <td>AUVERGNE RHONE ALPES</td>\n",
       "      <td>AIN</td>\n",
       "      <td>01</td>\n",
       "      <td>DAGNEUX</td>\n",
       "      <td>01142</td>\n",
       "      <td>1</td>\n",
       "      <td>1</td>\n",
       "      <td>1</td>\n",
       "      <td>0</td>\n",
       "      <td>0</td>\n",
       "      <td>0</td>\n",
       "    </tr>\n",
       "    <tr>\n",
       "      <th>2</th>\n",
       "      <td>20801</td>\n",
       "      <td>Orange</td>\n",
       "      <td>0012290012</td>\n",
       "      <td>852231</td>\n",
       "      <td>6532639</td>\n",
       "      <td>AUVERGNE RHONE ALPES</td>\n",
       "      <td>AIN</td>\n",
       "      <td>01</td>\n",
       "      <td>TRAMOYES</td>\n",
       "      <td>01424</td>\n",
       "      <td>1</td>\n",
       "      <td>1</td>\n",
       "      <td>1</td>\n",
       "      <td>0</td>\n",
       "      <td>0</td>\n",
       "      <td>0</td>\n",
       "    </tr>\n",
       "    <tr>\n",
       "      <th>3</th>\n",
       "      <td>20801</td>\n",
       "      <td>Orange</td>\n",
       "      <td>0012290014</td>\n",
       "      <td>901020</td>\n",
       "      <td>6564540</td>\n",
       "      <td>AUVERGNE RHONE ALPES</td>\n",
       "      <td>AIN</td>\n",
       "      <td>01</td>\n",
       "      <td>NANTUA</td>\n",
       "      <td>01269</td>\n",
       "      <td>1</td>\n",
       "      <td>1</td>\n",
       "      <td>1</td>\n",
       "      <td>0</td>\n",
       "      <td>0</td>\n",
       "      <td>0</td>\n",
       "    </tr>\n",
       "    <tr>\n",
       "      <th>4</th>\n",
       "      <td>20801</td>\n",
       "      <td>Orange</td>\n",
       "      <td>0012290016</td>\n",
       "      <td>903596</td>\n",
       "      <td>6563175</td>\n",
       "      <td>AUVERGNE RHONE ALPES</td>\n",
       "      <td>AIN</td>\n",
       "      <td>01</td>\n",
       "      <td>NEYROLLES</td>\n",
       "      <td>01274</td>\n",
       "      <td>1</td>\n",
       "      <td>1</td>\n",
       "      <td>1</td>\n",
       "      <td>0</td>\n",
       "      <td>0</td>\n",
       "      <td>0</td>\n",
       "    </tr>\n",
       "  </tbody>\n",
       "</table>\n",
       "</div>"
      ],
      "text/plain": [
       "   code_op  nom_op    num_site x_lambert_93 y_lambert_93  \\\n",
       "0    20801  Orange  0012290010       872639      6570768   \n",
       "1    20801  Orange  0012290011       860279      6529851   \n",
       "2    20801  Orange  0012290012       852231      6532639   \n",
       "3    20801  Orange  0012290014       901020      6564540   \n",
       "4    20801  Orange  0012290016       903596      6563175   \n",
       "\n",
       "                nom_reg nom_dep insee_dep          nom_com insee_com  site_2g  \\\n",
       "0  AUVERGNE RHONE ALPES     AIN        01  BOURG EN BRESSE     01053        1   \n",
       "1  AUVERGNE RHONE ALPES     AIN        01          DAGNEUX     01142        1   \n",
       "2  AUVERGNE RHONE ALPES     AIN        01         TRAMOYES     01424        1   \n",
       "3  AUVERGNE RHONE ALPES     AIN        01           NANTUA     01269        1   \n",
       "4  AUVERGNE RHONE ALPES     AIN        01        NEYROLLES     01274        1   \n",
       "\n",
       "   site_3g  site_4g  mes_4g_trim  site_ZB  site_DCC  \n",
       "0        1        1            0        0         0  \n",
       "1        1        1            0        0         0  \n",
       "2        1        1            0        0         0  \n",
       "3        1        1            0        0         0  \n",
       "4        1        1            0        0         0  "
      ]
     },
     "execution_count": 117,
     "metadata": {},
     "output_type": "execute_result"
    }
   ],
   "source": [
    "df_reseau = pd.read_csv('./data/2020-t2-metropole-sites.csv', sep=';', encoding='iso-8859-1')\n",
    "df_reseau.head()"
   ]
  },
  {
   "cell_type": "markdown",
   "metadata": {},
   "source": [
    " "
   ]
  },
  {
   "cell_type": "markdown",
   "metadata": {},
   "source": [
    "<img src='./oc2.png' width=15px /> Familliarisez vous avec les données, le détails des colonnes est disponible [ici](https://www.data.gouv.fr/fr/datasets/mon-reseau-mobile/#resource-77ca5457-c1fe-4450-9761-1a6a598921c0)."
   ]
  },
  {
   "cell_type": "markdown",
   "metadata": {},
   "source": [
    "### 2 - Qualité des données"
   ]
  },
  {
   "cell_type": "markdown",
   "metadata": {},
   "source": [
    "<img src='./oc2.png' width=15px /> Calculer le nombre de valeurs manquantes par colonne."
   ]
  },
  {
   "cell_type": "code",
   "execution_count": 118,
   "metadata": {},
   "outputs": [
    {
     "data": {
      "text/plain": [
       "code_op          0\n",
       "nom_op           0\n",
       "num_site         0\n",
       "x_lambert_93     0\n",
       "y_lambert_93     0\n",
       "nom_reg          0\n",
       "nom_dep          0\n",
       "insee_dep        0\n",
       "nom_com         11\n",
       "insee_com        0\n",
       "site_2g          0\n",
       "site_3g          0\n",
       "site_4g          0\n",
       "mes_4g_trim      0\n",
       "site_ZB          0\n",
       "site_DCC         0\n",
       "dtype: int64"
      ]
     },
     "execution_count": 118,
     "metadata": {},
     "output_type": "execute_result"
    }
   ],
   "source": [
    "df_reseau.isna().sum()"
   ]
  },
  {
   "cell_type": "markdown",
   "metadata": {},
   "source": [
    " "
   ]
  },
  {
   "cell_type": "markdown",
   "metadata": {},
   "source": [
    "<img src='./oc2.png' width=15px /> Existe-t-il des duplicatas ? si oui, supprimez les."
   ]
  },
  {
   "cell_type": "code",
   "execution_count": 119,
   "metadata": {},
   "outputs": [
    {
     "data": {
      "text/plain": [
       "0"
      ]
     },
     "execution_count": 119,
     "metadata": {},
     "output_type": "execute_result"
    }
   ],
   "source": [
    "df_reseau.duplicated().sum()\n",
    "df_reseau.drop_duplicates(inplace=True)\n",
    "df_reseau.duplicated().sum()"
   ]
  },
  {
   "cell_type": "markdown",
   "metadata": {},
   "source": [
    " "
   ]
  },
  {
   "cell_type": "markdown",
   "metadata": {},
   "source": [
    "<img src='./oc2.png' width=15px /> Supprimez les variables suivantes ['num_site', 'code_op', 'x_lambert_93', 'y_lambert_93', 'site_ZB', 'site_DCC']."
   ]
  },
  {
   "cell_type": "code",
   "execution_count": 120,
   "metadata": {},
   "outputs": [],
   "source": [
    "df_reseau.drop(columns=['num_site', 'code_op', 'x_lambert_93', 'y_lambert_93', 'site_ZB', 'site_DCC'], inplace=True)\n"
   ]
  },
  {
   "cell_type": "code",
   "execution_count": 121,
   "metadata": {},
   "outputs": [
    {
     "data": {
      "text/html": [
       "<div>\n",
       "<style scoped>\n",
       "    .dataframe tbody tr th:only-of-type {\n",
       "        vertical-align: middle;\n",
       "    }\n",
       "\n",
       "    .dataframe tbody tr th {\n",
       "        vertical-align: top;\n",
       "    }\n",
       "\n",
       "    .dataframe thead th {\n",
       "        text-align: right;\n",
       "    }\n",
       "</style>\n",
       "<table border=\"1\" class=\"dataframe\">\n",
       "  <thead>\n",
       "    <tr style=\"text-align: right;\">\n",
       "      <th></th>\n",
       "      <th>nom_op</th>\n",
       "      <th>nom_reg</th>\n",
       "      <th>nom_dep</th>\n",
       "      <th>insee_dep</th>\n",
       "      <th>nom_com</th>\n",
       "      <th>insee_com</th>\n",
       "      <th>site_2g</th>\n",
       "      <th>site_3g</th>\n",
       "      <th>site_4g</th>\n",
       "      <th>mes_4g_trim</th>\n",
       "    </tr>\n",
       "  </thead>\n",
       "  <tbody>\n",
       "    <tr>\n",
       "      <th>0</th>\n",
       "      <td>Orange</td>\n",
       "      <td>AUVERGNE RHONE ALPES</td>\n",
       "      <td>AIN</td>\n",
       "      <td>01</td>\n",
       "      <td>BOURG EN BRESSE</td>\n",
       "      <td>01053</td>\n",
       "      <td>1</td>\n",
       "      <td>1</td>\n",
       "      <td>1</td>\n",
       "      <td>0</td>\n",
       "    </tr>\n",
       "    <tr>\n",
       "      <th>1</th>\n",
       "      <td>Orange</td>\n",
       "      <td>AUVERGNE RHONE ALPES</td>\n",
       "      <td>AIN</td>\n",
       "      <td>01</td>\n",
       "      <td>DAGNEUX</td>\n",
       "      <td>01142</td>\n",
       "      <td>1</td>\n",
       "      <td>1</td>\n",
       "      <td>1</td>\n",
       "      <td>0</td>\n",
       "    </tr>\n",
       "    <tr>\n",
       "      <th>2</th>\n",
       "      <td>Orange</td>\n",
       "      <td>AUVERGNE RHONE ALPES</td>\n",
       "      <td>AIN</td>\n",
       "      <td>01</td>\n",
       "      <td>TRAMOYES</td>\n",
       "      <td>01424</td>\n",
       "      <td>1</td>\n",
       "      <td>1</td>\n",
       "      <td>1</td>\n",
       "      <td>0</td>\n",
       "    </tr>\n",
       "    <tr>\n",
       "      <th>3</th>\n",
       "      <td>Orange</td>\n",
       "      <td>AUVERGNE RHONE ALPES</td>\n",
       "      <td>AIN</td>\n",
       "      <td>01</td>\n",
       "      <td>NANTUA</td>\n",
       "      <td>01269</td>\n",
       "      <td>1</td>\n",
       "      <td>1</td>\n",
       "      <td>1</td>\n",
       "      <td>0</td>\n",
       "    </tr>\n",
       "    <tr>\n",
       "      <th>4</th>\n",
       "      <td>Orange</td>\n",
       "      <td>AUVERGNE RHONE ALPES</td>\n",
       "      <td>AIN</td>\n",
       "      <td>01</td>\n",
       "      <td>NEYROLLES</td>\n",
       "      <td>01274</td>\n",
       "      <td>1</td>\n",
       "      <td>1</td>\n",
       "      <td>1</td>\n",
       "      <td>0</td>\n",
       "    </tr>\n",
       "  </tbody>\n",
       "</table>\n",
       "</div>"
      ],
      "text/plain": [
       "   nom_op               nom_reg nom_dep insee_dep          nom_com insee_com  \\\n",
       "0  Orange  AUVERGNE RHONE ALPES     AIN        01  BOURG EN BRESSE     01053   \n",
       "1  Orange  AUVERGNE RHONE ALPES     AIN        01          DAGNEUX     01142   \n",
       "2  Orange  AUVERGNE RHONE ALPES     AIN        01         TRAMOYES     01424   \n",
       "3  Orange  AUVERGNE RHONE ALPES     AIN        01           NANTUA     01269   \n",
       "4  Orange  AUVERGNE RHONE ALPES     AIN        01        NEYROLLES     01274   \n",
       "\n",
       "   site_2g  site_3g  site_4g  mes_4g_trim  \n",
       "0        1        1        1            0  \n",
       "1        1        1        1            0  \n",
       "2        1        1        1            0  \n",
       "3        1        1        1            0  \n",
       "4        1        1        1            0  "
      ]
     },
     "execution_count": 121,
     "metadata": {},
     "output_type": "execute_result"
    }
   ],
   "source": [
    "df_reseau.head()"
   ]
  },
  {
   "cell_type": "markdown",
   "metadata": {},
   "source": [
    "<img src='./oc2.png' width=15px /> Quels sont les départements listés dans ce fichier ? rien d'anormal ?"
   ]
  },
  {
   "cell_type": "code",
   "execution_count": 122,
   "metadata": {},
   "outputs": [
    {
     "data": {
      "text/plain": [
       "array(['AIN', 'AISNE', 'ALLIER', 'ALPES-DE-HAUTE-PROVENCE',\n",
       "       'HAUTES-ALPES', 'ALPES-MARITIMES', 'ARDECHE', 'ARDENNES', 'ARIEGE',\n",
       "       'AUBE'], dtype=object)"
      ]
     },
     "execution_count": 122,
     "metadata": {},
     "output_type": "execute_result"
    }
   ],
   "source": [
    "df_reseau['nom_dep'].unique()[:10]"
   ]
  },
  {
   "cell_type": "code",
   "execution_count": 123,
   "metadata": {},
   "outputs": [],
   "source": [
    "df_reseau['nom_dep'] = df_reseau['nom_dep'].str.lower().replace('-', ' ')\n",
    "df_reseau['nom_reg'] = df_reseau['nom_reg'].str.lower().replace('-', ' ')"
   ]
  },
  {
   "cell_type": "markdown",
   "metadata": {},
   "source": [
    " "
   ]
  },
  {
   "cell_type": "markdown",
   "metadata": {},
   "source": [
    "### 3 - Analyse des données"
   ]
  },
  {
   "cell_type": "markdown",
   "metadata": {},
   "source": [
    "<img src='./oc2.png' width=15px /> Quels sont les opérateurs français référencés dans ce fichier ?"
   ]
  },
  {
   "cell_type": "code",
   "execution_count": 124,
   "metadata": {},
   "outputs": [
    {
     "data": {
      "text/plain": [
       "array(['Orange', 'SFR', 'Free Mobile', 'Bouygues Telecom'], dtype=object)"
      ]
     },
     "execution_count": 124,
     "metadata": {},
     "output_type": "execute_result"
    }
   ],
   "source": [
    "df_reseau['nom_op'].unique()"
   ]
  },
  {
   "cell_type": "markdown",
   "metadata": {},
   "source": [
    " "
   ]
  },
  {
   "cell_type": "markdown",
   "metadata": {},
   "source": [
    "<img src='./oc2.png' width=15px /> Affichez le nombre de sites pour chacun des opérateurs."
   ]
  },
  {
   "cell_type": "code",
   "execution_count": 125,
   "metadata": {},
   "outputs": [
    {
     "data": {
      "text/plain": [
       "Orange              25141\n",
       "SFR                 22267\n",
       "Bouygues Telecom    21005\n",
       "Free Mobile         17918\n",
       "Name: nom_op, dtype: int64"
      ]
     },
     "execution_count": 125,
     "metadata": {},
     "output_type": "execute_result"
    }
   ],
   "source": [
    "# df_reseau.groupby(by=['nom_op']).count()\n",
    "df_reseau['nom_op'].value_counts()"
   ]
  },
  {
   "cell_type": "markdown",
   "metadata": {},
   "source": [
    " "
   ]
  },
  {
   "cell_type": "markdown",
   "metadata": {},
   "source": [
    "<img src='./oc2.png' width=15px /> Affichez le nombre d'antennes en fonction des opérateurs et des technologies (indice : tableau pivot)."
   ]
  },
  {
   "cell_type": "code",
   "execution_count": 126,
   "metadata": {},
   "outputs": [
    {
     "data": {
      "text/html": [
       "<div>\n",
       "<style scoped>\n",
       "    .dataframe tbody tr th:only-of-type {\n",
       "        vertical-align: middle;\n",
       "    }\n",
       "\n",
       "    .dataframe tbody tr th {\n",
       "        vertical-align: top;\n",
       "    }\n",
       "\n",
       "    .dataframe thead th {\n",
       "        text-align: right;\n",
       "    }\n",
       "</style>\n",
       "<table border=\"1\" class=\"dataframe\">\n",
       "  <thead>\n",
       "    <tr style=\"text-align: right;\">\n",
       "      <th></th>\n",
       "      <th>site_2g</th>\n",
       "      <th>site_3g</th>\n",
       "      <th>site_4g</th>\n",
       "    </tr>\n",
       "    <tr>\n",
       "      <th>nom_op</th>\n",
       "      <th></th>\n",
       "      <th></th>\n",
       "      <th></th>\n",
       "    </tr>\n",
       "  </thead>\n",
       "  <tbody>\n",
       "    <tr>\n",
       "      <th>Bouygues Telecom</th>\n",
       "      <td>19988</td>\n",
       "      <td>20823</td>\n",
       "      <td>19158</td>\n",
       "    </tr>\n",
       "    <tr>\n",
       "      <th>Free Mobile</th>\n",
       "      <td>0</td>\n",
       "      <td>17918</td>\n",
       "      <td>16605</td>\n",
       "    </tr>\n",
       "    <tr>\n",
       "      <th>Orange</th>\n",
       "      <td>19766</td>\n",
       "      <td>24770</td>\n",
       "      <td>22620</td>\n",
       "    </tr>\n",
       "    <tr>\n",
       "      <th>SFR</th>\n",
       "      <td>20621</td>\n",
       "      <td>22093</td>\n",
       "      <td>19758</td>\n",
       "    </tr>\n",
       "    <tr>\n",
       "      <th>All</th>\n",
       "      <td>60375</td>\n",
       "      <td>85604</td>\n",
       "      <td>78141</td>\n",
       "    </tr>\n",
       "  </tbody>\n",
       "</table>\n",
       "</div>"
      ],
      "text/plain": [
       "                  site_2g  site_3g  site_4g\n",
       "nom_op                                     \n",
       "Bouygues Telecom    19988    20823    19158\n",
       "Free Mobile             0    17918    16605\n",
       "Orange              19766    24770    22620\n",
       "SFR                 20621    22093    19758\n",
       "All                 60375    85604    78141"
      ]
     },
     "execution_count": 126,
     "metadata": {},
     "output_type": "execute_result"
    }
   ],
   "source": [
    "df_reseau.pivot_table(index=['nom_op'], values=['site_2g', 'site_3g', 'site_4g'], aggfunc='sum', margins=True)"
   ]
  },
  {
   "cell_type": "code",
   "execution_count": null,
   "metadata": {},
   "outputs": [],
   "source": []
  },
  {
   "cell_type": "markdown",
   "metadata": {},
   "source": [
    " "
   ]
  },
  {
   "cell_type": "markdown",
   "metadata": {},
   "source": [
    "<img src='./oc2.png' width=15px /> Quelles sont les 15 communes disposant du plus d'antennes, tous types confondus ? utilisez le code commune comme indicateur de regroupement (indice groupby)."
   ]
  },
  {
   "cell_type": "code",
   "execution_count": 127,
   "metadata": {},
   "outputs": [
    {
     "data": {
      "text/plain": [
       "Index(['75056', '31555', '06088', '13055', '34172', '67482', '44109', '59350',\n",
       "       '69123', '33063', '35238', '13001', '30189', '42218',   31555],\n",
       "      dtype='object', name='insee_com')"
      ]
     },
     "execution_count": 127,
     "metadata": {},
     "output_type": "execute_result"
    }
   ],
   "source": [
    "top15_com = df_reseau.groupby('insee_com').sum()[['site_2g', 'site_3g', 'site_4g']].sum(axis='columns').sort_values(ascending=False).head(15)\n",
    "top15_com.index"
   ]
  },
  {
   "cell_type": "markdown",
   "metadata": {},
   "source": [
    " "
   ]
  },
  {
   "cell_type": "markdown",
   "metadata": {},
   "source": [
    "<img src='./oc2.png' width=15px /> Avec ce top 15 des codes communes, retrouvez la taille de population associée (utilisez le fichier population). Une autre façon d'expliquer : affichez la taille de population des communes dont le numéro est contenu dans le top 15. (indice isin)"
   ]
  },
  {
   "cell_type": "code",
   "execution_count": 129,
   "metadata": {},
   "outputs": [
    {
     "data": {
      "text/html": [
       "<div>\n",
       "<style scoped>\n",
       "    .dataframe tbody tr th:only-of-type {\n",
       "        vertical-align: middle;\n",
       "    }\n",
       "\n",
       "    .dataframe tbody tr th {\n",
       "        vertical-align: top;\n",
       "    }\n",
       "\n",
       "    .dataframe thead th {\n",
       "        text-align: right;\n",
       "    }\n",
       "</style>\n",
       "<table border=\"1\" class=\"dataframe\">\n",
       "  <thead>\n",
       "    <tr style=\"text-align: right;\">\n",
       "      <th></th>\n",
       "      <th>code_dep</th>\n",
       "      <th>nom_dep</th>\n",
       "      <th>population</th>\n",
       "    </tr>\n",
       "  </thead>\n",
       "  <tbody>\n",
       "    <tr>\n",
       "      <th>1958</th>\n",
       "      <td>06088</td>\n",
       "      <td>Nice</td>\n",
       "      <td>342979</td>\n",
       "    </tr>\n",
       "    <tr>\n",
       "      <th>4293</th>\n",
       "      <td>13001</td>\n",
       "      <td>Aix-en-Provence</td>\n",
       "      <td>145676</td>\n",
       "    </tr>\n",
       "    <tr>\n",
       "      <th>11098</th>\n",
       "      <td>30189</td>\n",
       "      <td>Nîmes</td>\n",
       "      <td>152952</td>\n",
       "    </tr>\n",
       "    <tr>\n",
       "      <th>11815</th>\n",
       "      <td>31555</td>\n",
       "      <td>Toulouse</td>\n",
       "      <td>484809</td>\n",
       "    </tr>\n",
       "    <tr>\n",
       "      <th>12370</th>\n",
       "      <td>33063</td>\n",
       "      <td>Bordeaux</td>\n",
       "      <td>257804</td>\n",
       "    </tr>\n",
       "    <tr>\n",
       "      <th>13019</th>\n",
       "      <td>34172</td>\n",
       "      <td>Montpellier</td>\n",
       "      <td>288600</td>\n",
       "    </tr>\n",
       "    <tr>\n",
       "      <th>13409</th>\n",
       "      <td>35238</td>\n",
       "      <td>Rennes</td>\n",
       "      <td>220925</td>\n",
       "    </tr>\n",
       "    <tr>\n",
       "      <th>15840</th>\n",
       "      <td>42218</td>\n",
       "      <td>Saint-Étienne</td>\n",
       "      <td>174520</td>\n",
       "    </tr>\n",
       "    <tr>\n",
       "      <th>16316</th>\n",
       "      <td>44109</td>\n",
       "      <td>Nantes</td>\n",
       "      <td>314503</td>\n",
       "    </tr>\n",
       "    <tr>\n",
       "      <th>22149</th>\n",
       "      <td>59350</td>\n",
       "      <td>Lille</td>\n",
       "      <td>234842</td>\n",
       "    </tr>\n",
       "    <tr>\n",
       "      <th>26555</th>\n",
       "      <td>67482</td>\n",
       "      <td>Strasbourg</td>\n",
       "      <td>283745</td>\n",
       "    </tr>\n",
       "  </tbody>\n",
       "</table>\n",
       "</div>"
      ],
      "text/plain": [
       "      code_dep          nom_dep  population\n",
       "1958     06088             Nice      342979\n",
       "4293     13001  Aix-en-Provence      145676\n",
       "11098    30189            Nîmes      152952\n",
       "11815    31555         Toulouse      484809\n",
       "12370    33063         Bordeaux      257804\n",
       "13019    34172      Montpellier      288600\n",
       "13409    35238           Rennes      220925\n",
       "15840    42218    Saint-Étienne      174520\n",
       "16316    44109           Nantes      314503\n",
       "22149    59350            Lille      234842\n",
       "26555    67482       Strasbourg      283745"
      ]
     },
     "execution_count": 129,
     "metadata": {},
     "output_type": "execute_result"
    }
   ],
   "source": [
    "df_pop[df_pop['code_dep'].isin(top15_com.index)]"
   ]
  },
  {
   "cell_type": "markdown",
   "metadata": {},
   "source": [
    " \n"
   ]
  },
  {
   "cell_type": "markdown",
   "metadata": {},
   "source": [
    "<img src='./oc2.png' width=15px /> Faites une jointure des tables réseau et population pour récupérer la population totale associée à chacune des communes."
   ]
  },
  {
   "cell_type": "code",
   "execution_count": 174,
   "metadata": {},
   "outputs": [
    {
     "data": {
      "text/html": [
       "<div>\n",
       "<style scoped>\n",
       "    .dataframe tbody tr th:only-of-type {\n",
       "        vertical-align: middle;\n",
       "    }\n",
       "\n",
       "    .dataframe tbody tr th {\n",
       "        vertical-align: top;\n",
       "    }\n",
       "\n",
       "    .dataframe thead th {\n",
       "        text-align: right;\n",
       "    }\n",
       "</style>\n",
       "<table border=\"1\" class=\"dataframe\">\n",
       "  <thead>\n",
       "    <tr style=\"text-align: right;\">\n",
       "      <th></th>\n",
       "      <th>code_dep</th>\n",
       "      <th>population</th>\n",
       "      <th>nom_op</th>\n",
       "      <th>nom_reg</th>\n",
       "      <th>nom_dep</th>\n",
       "      <th>insee_dep</th>\n",
       "      <th>nom_com</th>\n",
       "      <th>insee_com</th>\n",
       "      <th>site_2g</th>\n",
       "      <th>site_3g</th>\n",
       "      <th>site_4g</th>\n",
       "      <th>mes_4g_trim</th>\n",
       "    </tr>\n",
       "  </thead>\n",
       "  <tbody>\n",
       "    <tr>\n",
       "      <th>0</th>\n",
       "      <td>01053</td>\n",
       "      <td>43306.0</td>\n",
       "      <td>Orange</td>\n",
       "      <td>auvergne rhone alpes</td>\n",
       "      <td>ain</td>\n",
       "      <td>01</td>\n",
       "      <td>BOURG EN BRESSE</td>\n",
       "      <td>01053</td>\n",
       "      <td>1</td>\n",
       "      <td>1</td>\n",
       "      <td>1</td>\n",
       "      <td>0</td>\n",
       "    </tr>\n",
       "    <tr>\n",
       "      <th>1</th>\n",
       "      <td>01142</td>\n",
       "      <td>4772.0</td>\n",
       "      <td>Orange</td>\n",
       "      <td>auvergne rhone alpes</td>\n",
       "      <td>ain</td>\n",
       "      <td>01</td>\n",
       "      <td>DAGNEUX</td>\n",
       "      <td>01142</td>\n",
       "      <td>1</td>\n",
       "      <td>1</td>\n",
       "      <td>1</td>\n",
       "      <td>0</td>\n",
       "    </tr>\n",
       "    <tr>\n",
       "      <th>2</th>\n",
       "      <td>01424</td>\n",
       "      <td>1724.0</td>\n",
       "      <td>Orange</td>\n",
       "      <td>auvergne rhone alpes</td>\n",
       "      <td>ain</td>\n",
       "      <td>01</td>\n",
       "      <td>TRAMOYES</td>\n",
       "      <td>01424</td>\n",
       "      <td>1</td>\n",
       "      <td>1</td>\n",
       "      <td>1</td>\n",
       "      <td>0</td>\n",
       "    </tr>\n",
       "    <tr>\n",
       "      <th>3</th>\n",
       "      <td>01269</td>\n",
       "      <td>3584.0</td>\n",
       "      <td>Orange</td>\n",
       "      <td>auvergne rhone alpes</td>\n",
       "      <td>ain</td>\n",
       "      <td>01</td>\n",
       "      <td>NANTUA</td>\n",
       "      <td>01269</td>\n",
       "      <td>1</td>\n",
       "      <td>1</td>\n",
       "      <td>1</td>\n",
       "      <td>0</td>\n",
       "    </tr>\n",
       "    <tr>\n",
       "      <th>4</th>\n",
       "      <td>01274</td>\n",
       "      <td>654.0</td>\n",
       "      <td>Orange</td>\n",
       "      <td>auvergne rhone alpes</td>\n",
       "      <td>ain</td>\n",
       "      <td>01</td>\n",
       "      <td>NEYROLLES</td>\n",
       "      <td>01274</td>\n",
       "      <td>1</td>\n",
       "      <td>1</td>\n",
       "      <td>1</td>\n",
       "      <td>0</td>\n",
       "    </tr>\n",
       "    <tr>\n",
       "      <th>...</th>\n",
       "      <td>...</td>\n",
       "      <td>...</td>\n",
       "      <td>...</td>\n",
       "      <td>...</td>\n",
       "      <td>...</td>\n",
       "      <td>...</td>\n",
       "      <td>...</td>\n",
       "      <td>...</td>\n",
       "      <td>...</td>\n",
       "      <td>...</td>\n",
       "      <td>...</td>\n",
       "      <td>...</td>\n",
       "    </tr>\n",
       "    <tr>\n",
       "      <th>86326</th>\n",
       "      <td>NaN</td>\n",
       "      <td>NaN</td>\n",
       "      <td>Bouygues Telecom</td>\n",
       "      <td>provence-alpes-cote d'azur</td>\n",
       "      <td>vaucluse</td>\n",
       "      <td>84</td>\n",
       "      <td>GRAMBOIS</td>\n",
       "      <td>84052</td>\n",
       "      <td>0</td>\n",
       "      <td>1</td>\n",
       "      <td>0</td>\n",
       "      <td>0</td>\n",
       "    </tr>\n",
       "    <tr>\n",
       "      <th>86327</th>\n",
       "      <td>NaN</td>\n",
       "      <td>NaN</td>\n",
       "      <td>Bouygues Telecom</td>\n",
       "      <td>grand est</td>\n",
       "      <td>vosges</td>\n",
       "      <td>88</td>\n",
       "      <td>MARTIGNY-LES-GERBONVAUX</td>\n",
       "      <td>88290</td>\n",
       "      <td>0</td>\n",
       "      <td>1</td>\n",
       "      <td>0</td>\n",
       "      <td>0</td>\n",
       "    </tr>\n",
       "    <tr>\n",
       "      <th>86328</th>\n",
       "      <td>NaN</td>\n",
       "      <td>NaN</td>\n",
       "      <td>Bouygues Telecom</td>\n",
       "      <td>grand est</td>\n",
       "      <td>vosges</td>\n",
       "      <td>88</td>\n",
       "      <td>GRIGNONCOURT</td>\n",
       "      <td>88220</td>\n",
       "      <td>0</td>\n",
       "      <td>1</td>\n",
       "      <td>1</td>\n",
       "      <td>0</td>\n",
       "    </tr>\n",
       "    <tr>\n",
       "      <th>86329</th>\n",
       "      <td>NaN</td>\n",
       "      <td>NaN</td>\n",
       "      <td>Bouygues Telecom</td>\n",
       "      <td>grand est</td>\n",
       "      <td>vosges</td>\n",
       "      <td>88</td>\n",
       "      <td>PROVENCHERES-LES-DARNEY</td>\n",
       "      <td>88360</td>\n",
       "      <td>0</td>\n",
       "      <td>1</td>\n",
       "      <td>1</td>\n",
       "      <td>0</td>\n",
       "    </tr>\n",
       "    <tr>\n",
       "      <th>86330</th>\n",
       "      <td>NaN</td>\n",
       "      <td>NaN</td>\n",
       "      <td>Bouygues Telecom</td>\n",
       "      <td>nouvelle-aquitaine</td>\n",
       "      <td>dordogne</td>\n",
       "      <td>24</td>\n",
       "      <td>VALEUIL</td>\n",
       "      <td>24064</td>\n",
       "      <td>0</td>\n",
       "      <td>1</td>\n",
       "      <td>1</td>\n",
       "      <td>1</td>\n",
       "    </tr>\n",
       "  </tbody>\n",
       "</table>\n",
       "<p>86331 rows × 12 columns</p>\n",
       "</div>"
      ],
      "text/plain": [
       "      code_dep  population            nom_op                     nom_reg  \\\n",
       "0        01053     43306.0            Orange        auvergne rhone alpes   \n",
       "1        01142      4772.0            Orange        auvergne rhone alpes   \n",
       "2        01424      1724.0            Orange        auvergne rhone alpes   \n",
       "3        01269      3584.0            Orange        auvergne rhone alpes   \n",
       "4        01274       654.0            Orange        auvergne rhone alpes   \n",
       "...        ...         ...               ...                         ...   \n",
       "86326      NaN         NaN  Bouygues Telecom  provence-alpes-cote d'azur   \n",
       "86327      NaN         NaN  Bouygues Telecom                   grand est   \n",
       "86328      NaN         NaN  Bouygues Telecom                   grand est   \n",
       "86329      NaN         NaN  Bouygues Telecom                   grand est   \n",
       "86330      NaN         NaN  Bouygues Telecom          nouvelle-aquitaine   \n",
       "\n",
       "        nom_dep insee_dep                  nom_com insee_com  site_2g  \\\n",
       "0           ain        01          BOURG EN BRESSE     01053        1   \n",
       "1           ain        01                  DAGNEUX     01142        1   \n",
       "2           ain        01                 TRAMOYES     01424        1   \n",
       "3           ain        01                   NANTUA     01269        1   \n",
       "4           ain        01                NEYROLLES     01274        1   \n",
       "...         ...       ...                      ...       ...      ...   \n",
       "86326  vaucluse        84                 GRAMBOIS     84052        0   \n",
       "86327    vosges        88  MARTIGNY-LES-GERBONVAUX     88290        0   \n",
       "86328    vosges        88             GRIGNONCOURT     88220        0   \n",
       "86329    vosges        88  PROVENCHERES-LES-DARNEY     88360        0   \n",
       "86330  dordogne        24                  VALEUIL     24064        0   \n",
       "\n",
       "       site_3g  site_4g  mes_4g_trim  \n",
       "0            1        1            0  \n",
       "1            1        1            0  \n",
       "2            1        1            0  \n",
       "3            1        1            0  \n",
       "4            1        1            0  \n",
       "...        ...      ...          ...  \n",
       "86326        1        0            0  \n",
       "86327        1        0            0  \n",
       "86328        1        1            0  \n",
       "86329        1        1            0  \n",
       "86330        1        1            1  \n",
       "\n",
       "[86331 rows x 12 columns]"
      ]
     },
     "execution_count": 174,
     "metadata": {},
     "output_type": "execute_result"
    }
   ],
   "source": [
    "jointure = pd.merge(df_pop[['code_dep', 'population']], df_reseau, left_on= \"code_dep\", right_on= \"insee_com\", how='right')\n",
    "jointure"
   ]
  },
  {
   "cell_type": "markdown",
   "metadata": {},
   "source": [
    " "
   ]
  },
  {
   "cell_type": "markdown",
   "metadata": {},
   "source": [
    "<img src='./oc2.png' width=15px /> La jointure n'est pas complète car certaines communes ne sont pas référencées dans la table population. Vérifiez la qualité des données après jointure des tables."
   ]
  },
  {
   "cell_type": "code",
   "execution_count": 143,
   "metadata": {},
   "outputs": [
    {
     "data": {
      "text/plain": [
       "nom_com       0.000127\n",
       "population    0.287904\n",
       "dtype: float64"
      ]
     },
     "execution_count": 143,
     "metadata": {},
     "output_type": "execute_result"
    }
   ],
   "source": [
    "jointure.isna().mean()"
   ]
  },
  {
   "cell_type": "markdown",
   "metadata": {},
   "source": [
    " \n",
    " "
   ]
  },
  {
   "cell_type": "markdown",
   "metadata": {},
   "source": [
    "<img src='./oc2.png' width=15px /> Un utilisateur nous demande de lui trouver une **commune dans le rhone**, dont la population est inférieure à **1 000 habitants** et disposant d'une bonne couverture réseau pour l'opérateur **Orange**, à vous de jouer."
   ]
  },
  {
   "cell_type": "code",
   "execution_count": 223,
   "metadata": {},
   "outputs": [
    {
     "data": {
      "text/html": [
       "<div>\n",
       "<style scoped>\n",
       "    .dataframe tbody tr th:only-of-type {\n",
       "        vertical-align: middle;\n",
       "    }\n",
       "\n",
       "    .dataframe tbody tr th {\n",
       "        vertical-align: top;\n",
       "    }\n",
       "\n",
       "    .dataframe thead th {\n",
       "        text-align: right;\n",
       "    }\n",
       "</style>\n",
       "<table border=\"1\" class=\"dataframe\">\n",
       "  <thead>\n",
       "    <tr style=\"text-align: right;\">\n",
       "      <th></th>\n",
       "      <th>code_dep</th>\n",
       "      <th>population</th>\n",
       "      <th>nom_op</th>\n",
       "      <th>nom_reg</th>\n",
       "      <th>nom_dep</th>\n",
       "      <th>insee_dep</th>\n",
       "      <th>nom_com</th>\n",
       "      <th>insee_com</th>\n",
       "      <th>site_2g</th>\n",
       "      <th>site_3g</th>\n",
       "      <th>site_4g</th>\n",
       "      <th>mes_4g_trim</th>\n",
       "    </tr>\n",
       "  </thead>\n",
       "  <tbody>\n",
       "    <tr>\n",
       "      <th>17561</th>\n",
       "      <td>69174</td>\n",
       "      <td>625.0</td>\n",
       "      <td>Orange</td>\n",
       "      <td>auvergne rhone alpes</td>\n",
       "      <td>rhone</td>\n",
       "      <td>69</td>\n",
       "      <td>SAUVAGES</td>\n",
       "      <td>69174</td>\n",
       "      <td>1</td>\n",
       "      <td>1</td>\n",
       "      <td>1</td>\n",
       "      <td>0</td>\n",
       "    </tr>\n",
       "    <tr>\n",
       "      <th>17571</th>\n",
       "      <td>69095</td>\n",
       "      <td>832.0</td>\n",
       "      <td>Orange</td>\n",
       "      <td>auvergne rhone alpes</td>\n",
       "      <td>rhone</td>\n",
       "      <td>69</td>\n",
       "      <td>GREZIEU LE MARCHE</td>\n",
       "      <td>69095</td>\n",
       "      <td>1</td>\n",
       "      <td>1</td>\n",
       "      <td>1</td>\n",
       "      <td>0</td>\n",
       "    </tr>\n",
       "    <tr>\n",
       "      <th>17584</th>\n",
       "      <td>69252</td>\n",
       "      <td>746.0</td>\n",
       "      <td>Orange</td>\n",
       "      <td>auvergne rhone alpes</td>\n",
       "      <td>rhone</td>\n",
       "      <td>69</td>\n",
       "      <td>TREVES</td>\n",
       "      <td>69252</td>\n",
       "      <td>1</td>\n",
       "      <td>1</td>\n",
       "      <td>1</td>\n",
       "      <td>0</td>\n",
       "    </tr>\n",
       "    <tr>\n",
       "      <th>17585</th>\n",
       "      <td>69172</td>\n",
       "      <td>819.0</td>\n",
       "      <td>Orange</td>\n",
       "      <td>auvergne rhone alpes</td>\n",
       "      <td>rhone</td>\n",
       "      <td>69</td>\n",
       "      <td>SALLES ARBUISSONNAS EN BEAUJOLAIS</td>\n",
       "      <td>69172</td>\n",
       "      <td>1</td>\n",
       "      <td>1</td>\n",
       "      <td>1</td>\n",
       "      <td>0</td>\n",
       "    </tr>\n",
       "    <tr>\n",
       "      <th>17588</th>\n",
       "      <td>69012</td>\n",
       "      <td>637.0</td>\n",
       "      <td>Orange</td>\n",
       "      <td>auvergne rhone alpes</td>\n",
       "      <td>rhone</td>\n",
       "      <td>69</td>\n",
       "      <td>ARDILLATS</td>\n",
       "      <td>69012</td>\n",
       "      <td>1</td>\n",
       "      <td>1</td>\n",
       "      <td>1</td>\n",
       "      <td>0</td>\n",
       "    </tr>\n",
       "    <tr>\n",
       "      <th>17652</th>\n",
       "      <td>69229</td>\n",
       "      <td>804.0</td>\n",
       "      <td>Orange</td>\n",
       "      <td>auvergne rhone alpes</td>\n",
       "      <td>rhone</td>\n",
       "      <td>69</td>\n",
       "      <td>SAINT NIZIER D AZERGUES</td>\n",
       "      <td>69229</td>\n",
       "      <td>1</td>\n",
       "      <td>1</td>\n",
       "      <td>1</td>\n",
       "      <td>0</td>\n",
       "    </tr>\n",
       "    <tr>\n",
       "      <th>17657</th>\n",
       "      <td>69060</td>\n",
       "      <td>730.0</td>\n",
       "      <td>Orange</td>\n",
       "      <td>auvergne rhone alpes</td>\n",
       "      <td>rhone</td>\n",
       "      <td>69</td>\n",
       "      <td>CLAVEISOLLES</td>\n",
       "      <td>69060</td>\n",
       "      <td>1</td>\n",
       "      <td>1</td>\n",
       "      <td>1</td>\n",
       "      <td>0</td>\n",
       "    </tr>\n",
       "    <tr>\n",
       "      <th>17683</th>\n",
       "      <td>69184</td>\n",
       "      <td>1000.0</td>\n",
       "      <td>Orange</td>\n",
       "      <td>auvergne rhone alpes</td>\n",
       "      <td>rhone</td>\n",
       "      <td>69</td>\n",
       "      <td>SAINTE CATHERINE</td>\n",
       "      <td>69184</td>\n",
       "      <td>1</td>\n",
       "      <td>1</td>\n",
       "      <td>1</td>\n",
       "      <td>0</td>\n",
       "    </tr>\n",
       "    <tr>\n",
       "      <th>17722</th>\n",
       "      <td>69188</td>\n",
       "      <td>918.0</td>\n",
       "      <td>Orange</td>\n",
       "      <td>auvergne rhone alpes</td>\n",
       "      <td>rhone</td>\n",
       "      <td>69</td>\n",
       "      <td>SAINT CLEMENT SUR VALSONNE</td>\n",
       "      <td>69188</td>\n",
       "      <td>1</td>\n",
       "      <td>1</td>\n",
       "      <td>1</td>\n",
       "      <td>0</td>\n",
       "    </tr>\n",
       "    <tr>\n",
       "      <th>17753</th>\n",
       "      <td>69236</td>\n",
       "      <td>584.0</td>\n",
       "      <td>Orange</td>\n",
       "      <td>auvergne rhone alpes</td>\n",
       "      <td>rhone</td>\n",
       "      <td>69</td>\n",
       "      <td>SAINT ROMAIN EN GIER</td>\n",
       "      <td>69236</td>\n",
       "      <td>1</td>\n",
       "      <td>1</td>\n",
       "      <td>1</td>\n",
       "      <td>0</td>\n",
       "    </tr>\n",
       "    <tr>\n",
       "      <th>17766</th>\n",
       "      <td>69240</td>\n",
       "      <td>636.0</td>\n",
       "      <td>Orange</td>\n",
       "      <td>auvergne rhone alpes</td>\n",
       "      <td>rhone</td>\n",
       "      <td>69</td>\n",
       "      <td>SAINT VINCENT DE REINS</td>\n",
       "      <td>69240</td>\n",
       "      <td>1</td>\n",
       "      <td>1</td>\n",
       "      <td>1</td>\n",
       "      <td>0</td>\n",
       "    </tr>\n",
       "    <tr>\n",
       "      <th>17868</th>\n",
       "      <td>69062</td>\n",
       "      <td>791.0</td>\n",
       "      <td>Orange</td>\n",
       "      <td>auvergne rhone alpes</td>\n",
       "      <td>rhone</td>\n",
       "      <td>69</td>\n",
       "      <td>COISE</td>\n",
       "      <td>69062</td>\n",
       "      <td>1</td>\n",
       "      <td>1</td>\n",
       "      <td>1</td>\n",
       "      <td>1</td>\n",
       "    </tr>\n",
       "    <tr>\n",
       "      <th>17881</th>\n",
       "      <td>69225</td>\n",
       "      <td>538.0</td>\n",
       "      <td>Orange</td>\n",
       "      <td>auvergne rhone alpes</td>\n",
       "      <td>rhone</td>\n",
       "      <td>69</td>\n",
       "      <td>SAINT MARCEL L ECLAIRE</td>\n",
       "      <td>69225</td>\n",
       "      <td>1</td>\n",
       "      <td>1</td>\n",
       "      <td>1</td>\n",
       "      <td>0</td>\n",
       "    </tr>\n",
       "    <tr>\n",
       "      <th>17904</th>\n",
       "      <td>69104</td>\n",
       "      <td>444.0</td>\n",
       "      <td>Orange</td>\n",
       "      <td>auvergne rhone alpes</td>\n",
       "      <td>rhone</td>\n",
       "      <td>69</td>\n",
       "      <td>JULLIE</td>\n",
       "      <td>69104</td>\n",
       "      <td>1</td>\n",
       "      <td>1</td>\n",
       "      <td>1</td>\n",
       "      <td>0</td>\n",
       "    </tr>\n",
       "    <tr>\n",
       "      <th>17950</th>\n",
       "      <td>69077</td>\n",
       "      <td>969.0</td>\n",
       "      <td>Orange</td>\n",
       "      <td>auvergne rhone alpes</td>\n",
       "      <td>rhone</td>\n",
       "      <td>69</td>\n",
       "      <td>DRACE</td>\n",
       "      <td>69077</td>\n",
       "      <td>1</td>\n",
       "      <td>1</td>\n",
       "      <td>1</td>\n",
       "      <td>0</td>\n",
       "    </tr>\n",
       "  </tbody>\n",
       "</table>\n",
       "</div>"
      ],
      "text/plain": [
       "      code_dep  population  nom_op               nom_reg nom_dep insee_dep  \\\n",
       "17561    69174       625.0  Orange  auvergne rhone alpes   rhone        69   \n",
       "17571    69095       832.0  Orange  auvergne rhone alpes   rhone        69   \n",
       "17584    69252       746.0  Orange  auvergne rhone alpes   rhone        69   \n",
       "17585    69172       819.0  Orange  auvergne rhone alpes   rhone        69   \n",
       "17588    69012       637.0  Orange  auvergne rhone alpes   rhone        69   \n",
       "17652    69229       804.0  Orange  auvergne rhone alpes   rhone        69   \n",
       "17657    69060       730.0  Orange  auvergne rhone alpes   rhone        69   \n",
       "17683    69184      1000.0  Orange  auvergne rhone alpes   rhone        69   \n",
       "17722    69188       918.0  Orange  auvergne rhone alpes   rhone        69   \n",
       "17753    69236       584.0  Orange  auvergne rhone alpes   rhone        69   \n",
       "17766    69240       636.0  Orange  auvergne rhone alpes   rhone        69   \n",
       "17868    69062       791.0  Orange  auvergne rhone alpes   rhone        69   \n",
       "17881    69225       538.0  Orange  auvergne rhone alpes   rhone        69   \n",
       "17904    69104       444.0  Orange  auvergne rhone alpes   rhone        69   \n",
       "17950    69077       969.0  Orange  auvergne rhone alpes   rhone        69   \n",
       "\n",
       "                                 nom_com insee_com  site_2g  site_3g  site_4g  \\\n",
       "17561                           SAUVAGES     69174        1        1        1   \n",
       "17571                  GREZIEU LE MARCHE     69095        1        1        1   \n",
       "17584                             TREVES     69252        1        1        1   \n",
       "17585  SALLES ARBUISSONNAS EN BEAUJOLAIS     69172        1        1        1   \n",
       "17588                          ARDILLATS     69012        1        1        1   \n",
       "17652            SAINT NIZIER D AZERGUES     69229        1        1        1   \n",
       "17657                       CLAVEISOLLES     69060        1        1        1   \n",
       "17683                   SAINTE CATHERINE     69184        1        1        1   \n",
       "17722         SAINT CLEMENT SUR VALSONNE     69188        1        1        1   \n",
       "17753               SAINT ROMAIN EN GIER     69236        1        1        1   \n",
       "17766             SAINT VINCENT DE REINS     69240        1        1        1   \n",
       "17868                              COISE     69062        1        1        1   \n",
       "17881             SAINT MARCEL L ECLAIRE     69225        1        1        1   \n",
       "17904                             JULLIE     69104        1        1        1   \n",
       "17950                              DRACE     69077        1        1        1   \n",
       "\n",
       "       mes_4g_trim  \n",
       "17561            0  \n",
       "17571            0  \n",
       "17584            0  \n",
       "17585            0  \n",
       "17588            0  \n",
       "17652            0  \n",
       "17657            0  \n",
       "17683            0  \n",
       "17722            0  \n",
       "17753            0  \n",
       "17766            0  \n",
       "17868            1  \n",
       "17881            0  \n",
       "17904            0  \n",
       "17950            0  "
      ]
     },
     "execution_count": 223,
     "metadata": {},
     "output_type": "execute_result"
    }
   ],
   "source": [
    "jointure_top_com = jointure[(jointure['nom_dep']=='rhone') & (jointure['population']<=1000) & (jointure['nom_op']=='Orange')]\n",
    "top_com =  jointure_top_com.groupby('nom_com')[['site_2g', 'site_3g', 'site_4g']].sum().sum(axis=1).sort_values(ascending=False).head(15).index\n",
    "\n",
    "top_com_df =  jointure_top_com[jointure_top_com['nom_com'].isin(top_com)]\n",
    "top_com_df"
   ]
  },
  {
   "cell_type": "markdown",
   "metadata": {},
   "source": [
    " \n",
    " "
   ]
  },
  {
   "cell_type": "markdown",
   "metadata": {},
   "source": [
    "<img src='./oc2.png' width=15px /> Pouvez-vous faire une fonction pour automatiser cette recherche ?"
   ]
  },
  {
   "cell_type": "code",
   "execution_count": 224,
   "metadata": {},
   "outputs": [],
   "source": [
    "def chercher_com(jointure, dep, pop, op):\n",
    "    jointure_top_com = jointure[(jointure['nom_dep']==dep) & (jointure['population']<=pop) & (jointure['nom_op']==op)]\n",
    "    top_com =  jointure_top_com.groupby('nom_com')[['site_2g', 'site_3g', 'site_4g']].sum().sum(axis=1).sort_values(ascending=False).head(15).index\n",
    "\n",
    "    top_com_df =  jointure_top_com[jointure_top_com['nom_com'].isin(top_com)]\n",
    "    top_com_df\n",
    "    return top_com_df"
   ]
  },
  {
   "cell_type": "markdown",
   "metadata": {},
   "source": [
    " "
   ]
  },
  {
   "cell_type": "markdown",
   "metadata": {},
   "source": [
    "<img src='./oc2.png' width=15px /> En utilisant la fonction précédente, ré-implémentez la recherche précédente."
   ]
  },
  {
   "cell_type": "code",
   "execution_count": 225,
   "metadata": {},
   "outputs": [
    {
     "name": "stdout",
     "output_type": "stream",
     "text": [
      "22.9 ms ± 4.1 ms per loop (mean ± std. dev. of 7 runs, 10 loops each)\n"
     ]
    },
    {
     "data": {
      "text/html": [
       "<div>\n",
       "<style scoped>\n",
       "    .dataframe tbody tr th:only-of-type {\n",
       "        vertical-align: middle;\n",
       "    }\n",
       "\n",
       "    .dataframe tbody tr th {\n",
       "        vertical-align: top;\n",
       "    }\n",
       "\n",
       "    .dataframe thead th {\n",
       "        text-align: right;\n",
       "    }\n",
       "</style>\n",
       "<table border=\"1\" class=\"dataframe\">\n",
       "  <thead>\n",
       "    <tr style=\"text-align: right;\">\n",
       "      <th></th>\n",
       "      <th>code_dep</th>\n",
       "      <th>population</th>\n",
       "      <th>nom_op</th>\n",
       "      <th>nom_reg</th>\n",
       "      <th>nom_dep</th>\n",
       "      <th>insee_dep</th>\n",
       "      <th>nom_com</th>\n",
       "      <th>insee_com</th>\n",
       "      <th>site_2g</th>\n",
       "      <th>site_3g</th>\n",
       "      <th>site_4g</th>\n",
       "      <th>mes_4g_trim</th>\n",
       "    </tr>\n",
       "  </thead>\n",
       "  <tbody>\n",
       "    <tr>\n",
       "      <th>17561</th>\n",
       "      <td>69174</td>\n",
       "      <td>625.0</td>\n",
       "      <td>Orange</td>\n",
       "      <td>auvergne rhone alpes</td>\n",
       "      <td>rhone</td>\n",
       "      <td>69</td>\n",
       "      <td>SAUVAGES</td>\n",
       "      <td>69174</td>\n",
       "      <td>1</td>\n",
       "      <td>1</td>\n",
       "      <td>1</td>\n",
       "      <td>0</td>\n",
       "    </tr>\n",
       "    <tr>\n",
       "      <th>17571</th>\n",
       "      <td>69095</td>\n",
       "      <td>832.0</td>\n",
       "      <td>Orange</td>\n",
       "      <td>auvergne rhone alpes</td>\n",
       "      <td>rhone</td>\n",
       "      <td>69</td>\n",
       "      <td>GREZIEU LE MARCHE</td>\n",
       "      <td>69095</td>\n",
       "      <td>1</td>\n",
       "      <td>1</td>\n",
       "      <td>1</td>\n",
       "      <td>0</td>\n",
       "    </tr>\n",
       "    <tr>\n",
       "      <th>17584</th>\n",
       "      <td>69252</td>\n",
       "      <td>746.0</td>\n",
       "      <td>Orange</td>\n",
       "      <td>auvergne rhone alpes</td>\n",
       "      <td>rhone</td>\n",
       "      <td>69</td>\n",
       "      <td>TREVES</td>\n",
       "      <td>69252</td>\n",
       "      <td>1</td>\n",
       "      <td>1</td>\n",
       "      <td>1</td>\n",
       "      <td>0</td>\n",
       "    </tr>\n",
       "    <tr>\n",
       "      <th>17585</th>\n",
       "      <td>69172</td>\n",
       "      <td>819.0</td>\n",
       "      <td>Orange</td>\n",
       "      <td>auvergne rhone alpes</td>\n",
       "      <td>rhone</td>\n",
       "      <td>69</td>\n",
       "      <td>SALLES ARBUISSONNAS EN BEAUJOLAIS</td>\n",
       "      <td>69172</td>\n",
       "      <td>1</td>\n",
       "      <td>1</td>\n",
       "      <td>1</td>\n",
       "      <td>0</td>\n",
       "    </tr>\n",
       "    <tr>\n",
       "      <th>17588</th>\n",
       "      <td>69012</td>\n",
       "      <td>637.0</td>\n",
       "      <td>Orange</td>\n",
       "      <td>auvergne rhone alpes</td>\n",
       "      <td>rhone</td>\n",
       "      <td>69</td>\n",
       "      <td>ARDILLATS</td>\n",
       "      <td>69012</td>\n",
       "      <td>1</td>\n",
       "      <td>1</td>\n",
       "      <td>1</td>\n",
       "      <td>0</td>\n",
       "    </tr>\n",
       "    <tr>\n",
       "      <th>17652</th>\n",
       "      <td>69229</td>\n",
       "      <td>804.0</td>\n",
       "      <td>Orange</td>\n",
       "      <td>auvergne rhone alpes</td>\n",
       "      <td>rhone</td>\n",
       "      <td>69</td>\n",
       "      <td>SAINT NIZIER D AZERGUES</td>\n",
       "      <td>69229</td>\n",
       "      <td>1</td>\n",
       "      <td>1</td>\n",
       "      <td>1</td>\n",
       "      <td>0</td>\n",
       "    </tr>\n",
       "    <tr>\n",
       "      <th>17657</th>\n",
       "      <td>69060</td>\n",
       "      <td>730.0</td>\n",
       "      <td>Orange</td>\n",
       "      <td>auvergne rhone alpes</td>\n",
       "      <td>rhone</td>\n",
       "      <td>69</td>\n",
       "      <td>CLAVEISOLLES</td>\n",
       "      <td>69060</td>\n",
       "      <td>1</td>\n",
       "      <td>1</td>\n",
       "      <td>1</td>\n",
       "      <td>0</td>\n",
       "    </tr>\n",
       "    <tr>\n",
       "      <th>17683</th>\n",
       "      <td>69184</td>\n",
       "      <td>1000.0</td>\n",
       "      <td>Orange</td>\n",
       "      <td>auvergne rhone alpes</td>\n",
       "      <td>rhone</td>\n",
       "      <td>69</td>\n",
       "      <td>SAINTE CATHERINE</td>\n",
       "      <td>69184</td>\n",
       "      <td>1</td>\n",
       "      <td>1</td>\n",
       "      <td>1</td>\n",
       "      <td>0</td>\n",
       "    </tr>\n",
       "    <tr>\n",
       "      <th>17722</th>\n",
       "      <td>69188</td>\n",
       "      <td>918.0</td>\n",
       "      <td>Orange</td>\n",
       "      <td>auvergne rhone alpes</td>\n",
       "      <td>rhone</td>\n",
       "      <td>69</td>\n",
       "      <td>SAINT CLEMENT SUR VALSONNE</td>\n",
       "      <td>69188</td>\n",
       "      <td>1</td>\n",
       "      <td>1</td>\n",
       "      <td>1</td>\n",
       "      <td>0</td>\n",
       "    </tr>\n",
       "    <tr>\n",
       "      <th>17753</th>\n",
       "      <td>69236</td>\n",
       "      <td>584.0</td>\n",
       "      <td>Orange</td>\n",
       "      <td>auvergne rhone alpes</td>\n",
       "      <td>rhone</td>\n",
       "      <td>69</td>\n",
       "      <td>SAINT ROMAIN EN GIER</td>\n",
       "      <td>69236</td>\n",
       "      <td>1</td>\n",
       "      <td>1</td>\n",
       "      <td>1</td>\n",
       "      <td>0</td>\n",
       "    </tr>\n",
       "    <tr>\n",
       "      <th>17766</th>\n",
       "      <td>69240</td>\n",
       "      <td>636.0</td>\n",
       "      <td>Orange</td>\n",
       "      <td>auvergne rhone alpes</td>\n",
       "      <td>rhone</td>\n",
       "      <td>69</td>\n",
       "      <td>SAINT VINCENT DE REINS</td>\n",
       "      <td>69240</td>\n",
       "      <td>1</td>\n",
       "      <td>1</td>\n",
       "      <td>1</td>\n",
       "      <td>0</td>\n",
       "    </tr>\n",
       "    <tr>\n",
       "      <th>17868</th>\n",
       "      <td>69062</td>\n",
       "      <td>791.0</td>\n",
       "      <td>Orange</td>\n",
       "      <td>auvergne rhone alpes</td>\n",
       "      <td>rhone</td>\n",
       "      <td>69</td>\n",
       "      <td>COISE</td>\n",
       "      <td>69062</td>\n",
       "      <td>1</td>\n",
       "      <td>1</td>\n",
       "      <td>1</td>\n",
       "      <td>1</td>\n",
       "    </tr>\n",
       "    <tr>\n",
       "      <th>17881</th>\n",
       "      <td>69225</td>\n",
       "      <td>538.0</td>\n",
       "      <td>Orange</td>\n",
       "      <td>auvergne rhone alpes</td>\n",
       "      <td>rhone</td>\n",
       "      <td>69</td>\n",
       "      <td>SAINT MARCEL L ECLAIRE</td>\n",
       "      <td>69225</td>\n",
       "      <td>1</td>\n",
       "      <td>1</td>\n",
       "      <td>1</td>\n",
       "      <td>0</td>\n",
       "    </tr>\n",
       "    <tr>\n",
       "      <th>17904</th>\n",
       "      <td>69104</td>\n",
       "      <td>444.0</td>\n",
       "      <td>Orange</td>\n",
       "      <td>auvergne rhone alpes</td>\n",
       "      <td>rhone</td>\n",
       "      <td>69</td>\n",
       "      <td>JULLIE</td>\n",
       "      <td>69104</td>\n",
       "      <td>1</td>\n",
       "      <td>1</td>\n",
       "      <td>1</td>\n",
       "      <td>0</td>\n",
       "    </tr>\n",
       "    <tr>\n",
       "      <th>17950</th>\n",
       "      <td>69077</td>\n",
       "      <td>969.0</td>\n",
       "      <td>Orange</td>\n",
       "      <td>auvergne rhone alpes</td>\n",
       "      <td>rhone</td>\n",
       "      <td>69</td>\n",
       "      <td>DRACE</td>\n",
       "      <td>69077</td>\n",
       "      <td>1</td>\n",
       "      <td>1</td>\n",
       "      <td>1</td>\n",
       "      <td>0</td>\n",
       "    </tr>\n",
       "  </tbody>\n",
       "</table>\n",
       "</div>"
      ],
      "text/plain": [
       "      code_dep  population  nom_op               nom_reg nom_dep insee_dep  \\\n",
       "17561    69174       625.0  Orange  auvergne rhone alpes   rhone        69   \n",
       "17571    69095       832.0  Orange  auvergne rhone alpes   rhone        69   \n",
       "17584    69252       746.0  Orange  auvergne rhone alpes   rhone        69   \n",
       "17585    69172       819.0  Orange  auvergne rhone alpes   rhone        69   \n",
       "17588    69012       637.0  Orange  auvergne rhone alpes   rhone        69   \n",
       "17652    69229       804.0  Orange  auvergne rhone alpes   rhone        69   \n",
       "17657    69060       730.0  Orange  auvergne rhone alpes   rhone        69   \n",
       "17683    69184      1000.0  Orange  auvergne rhone alpes   rhone        69   \n",
       "17722    69188       918.0  Orange  auvergne rhone alpes   rhone        69   \n",
       "17753    69236       584.0  Orange  auvergne rhone alpes   rhone        69   \n",
       "17766    69240       636.0  Orange  auvergne rhone alpes   rhone        69   \n",
       "17868    69062       791.0  Orange  auvergne rhone alpes   rhone        69   \n",
       "17881    69225       538.0  Orange  auvergne rhone alpes   rhone        69   \n",
       "17904    69104       444.0  Orange  auvergne rhone alpes   rhone        69   \n",
       "17950    69077       969.0  Orange  auvergne rhone alpes   rhone        69   \n",
       "\n",
       "                                 nom_com insee_com  site_2g  site_3g  site_4g  \\\n",
       "17561                           SAUVAGES     69174        1        1        1   \n",
       "17571                  GREZIEU LE MARCHE     69095        1        1        1   \n",
       "17584                             TREVES     69252        1        1        1   \n",
       "17585  SALLES ARBUISSONNAS EN BEAUJOLAIS     69172        1        1        1   \n",
       "17588                          ARDILLATS     69012        1        1        1   \n",
       "17652            SAINT NIZIER D AZERGUES     69229        1        1        1   \n",
       "17657                       CLAVEISOLLES     69060        1        1        1   \n",
       "17683                   SAINTE CATHERINE     69184        1        1        1   \n",
       "17722         SAINT CLEMENT SUR VALSONNE     69188        1        1        1   \n",
       "17753               SAINT ROMAIN EN GIER     69236        1        1        1   \n",
       "17766             SAINT VINCENT DE REINS     69240        1        1        1   \n",
       "17868                              COISE     69062        1        1        1   \n",
       "17881             SAINT MARCEL L ECLAIRE     69225        1        1        1   \n",
       "17904                             JULLIE     69104        1        1        1   \n",
       "17950                              DRACE     69077        1        1        1   \n",
       "\n",
       "       mes_4g_trim  \n",
       "17561            0  \n",
       "17571            0  \n",
       "17584            0  \n",
       "17585            0  \n",
       "17588            0  \n",
       "17652            0  \n",
       "17657            0  \n",
       "17683            0  \n",
       "17722            0  \n",
       "17753            0  \n",
       "17766            0  \n",
       "17868            1  \n",
       "17881            0  \n",
       "17904            0  \n",
       "17950            0  "
      ]
     },
     "execution_count": 225,
     "metadata": {},
     "output_type": "execute_result"
    }
   ],
   "source": [
    "%timeit chercher_com(jointure,'rhone', 1000, 'Orange')\n",
    "chercher_com(jointure,'rhone', 1000, 'Orange')"
   ]
  },
  {
   "cell_type": "markdown",
   "metadata": {},
   "source": [
    "### Conclusion\n",
    "\n",
    "On estime ici la qualité de la couverture réseau en comptant le nombre d'antennes dans chaque commune, c'est une approche simpliste, en réalité les signaux vont  transiter entre les communes. Pour améliorer notre approche, il serait plus adapté de construire une carte de la densité du nombre d'antennes au Km². **Toutefois c'est un bon début, il faut toujours commencer par une solution simple, l'évaluer, puis itérer vers une amélioration, plutôt que de réfléchir éternellement à la mise en place d'une solution parfaite.**\n",
    "\n",
    "*Premature optimisation is the root of all evil. Donald Knuth*"
   ]
  },
  {
   "cell_type": "markdown",
   "metadata": {},
   "source": [
    "### Pour aller plus loin\n",
    "\n",
    "Il est évident que Rmote doit exploiter d'autres indicateurs afin d'affiner la sélection de communes candidates, par exemple l'accès à la fibre optique, la présence d'une ou plusieurs salles de sport, des restaurants, etc. Pour aller plus loin, utilisez le [fichier suivant](https://www.data.gouv.fr/fr/datasets/data-insee-sur-les-communes/) qui regroupe divers indicateurs par commune. À terme, certaines informations ne seront plus accessibles en open data, il faudra alors faire appel à des API payantes ou du web scraping pour collecter directement à la source."
   ]
  }
 ],
 "metadata": {
  "kernelspec": {
   "display_name": "Python 3",
   "language": "python",
   "name": "python3"
  },
  "language_info": {
   "codemirror_mode": {
    "name": "ipython",
    "version": 3
   },
   "file_extension": ".py",
   "mimetype": "text/x-python",
   "name": "python",
   "nbconvert_exporter": "python",
   "pygments_lexer": "ipython3",
   "version": "3.7.4"
  }
 },
 "nbformat": 4,
 "nbformat_minor": 4
}
