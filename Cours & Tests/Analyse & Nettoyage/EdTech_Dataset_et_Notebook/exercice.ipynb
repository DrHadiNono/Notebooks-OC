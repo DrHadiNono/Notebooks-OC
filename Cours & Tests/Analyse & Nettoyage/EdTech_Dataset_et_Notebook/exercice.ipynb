{
 "cells": [
  {
   "cell_type": "code",
   "execution_count": 405,
   "metadata": {},
   "outputs": [],
   "source": [
    "import pandas as pd\n",
    "import numpy as np"
   ]
  },
  {
   "cell_type": "markdown",
   "metadata": {},
   "source": [
    "## Énoncé\n",
    "En tant que Data Scientist vous venez de décrocher une mission avec une plateforme d'éducation en ligne leader sur le marché européen, vous allez bientôt signer le contrat et vous consacrer au sujet pour les deux prochaines semaines.\n",
    "\n",
    "Ce leader de l'EdTech voit grand, ayant une forte implantation en France et en Europe, les dirigeants souhaitent également se développer sur le territoire américain qui regorge d'opportunités pour la formation en ligne, de par la taille de la population et des besoins liés aux métiers du numérique. L'entreprise souhaite démarrer son implantation aux USA en sélectionnant les territoires géographiques les plus prometteurs afin de lancer des campagnes publicitaires ciblées.\n",
    "\n",
    "## Mission\n",
    "Pour cette mission, on vous demande de déterminer la liste des villes prioritaires en vous basant sur des données récoltées par l'administration et disponibles en open-data. Votre objectif est de **fournir des résultats impactants** afin de guider Lesley en charge du développement pour la région Amérique du Nord.\n",
    "\n",
    "Pour ce travail, votre client a identifié [une source de données](https://data.ed.gov/dataset/college-scorecard-all-data-files-through-6-2020/resources?resource=658b5b83-ac9f-4e41-913e-9ba9411d7967) intéressante et a déjà initié une sélection de variables, à vous de compléter l'étude."
   ]
  },
  {
   "cell_type": "markdown",
   "metadata": {},
   "source": [
    "# Exercice\n",
    "## Partie 1 - Inspection des données (10 minutes)\n",
    "<img src='./oc_logo.png' width=15px /> Chargez le fichier `edtech_market_study_usa.csv` à l'aide de Pandas. Stockez le résultat du chargement dans la variable `df`.\n",
    "\n",
    "Les colonnes du fichier sont uniquement séparées par des virgules."
   ]
  },
  {
   "cell_type": "code",
   "execution_count": 406,
   "metadata": {},
   "outputs": [],
   "source": [
    "df = pd.read_csv('edtech_market_study_usa.csv', sep=',')"
   ]
  },
  {
   "cell_type": "markdown",
   "metadata": {},
   "source": [
    " "
   ]
  },
  {
   "cell_type": "markdown",
   "metadata": {},
   "source": [
    "<img src='./oc_logo.png' width=15px /> Pouvez-vous afficher les 5 premières lignes du dataframe pour vérifier que les données sont bien chargées ?"
   ]
  },
  {
   "cell_type": "code",
   "execution_count": 407,
   "metadata": {},
   "outputs": [
    {
     "data": {
      "text/html": [
       "<div>\n",
       "<style scoped>\n",
       "    .dataframe tbody tr th:only-of-type {\n",
       "        vertical-align: middle;\n",
       "    }\n",
       "\n",
       "    .dataframe tbody tr th {\n",
       "        vertical-align: top;\n",
       "    }\n",
       "\n",
       "    .dataframe thead th {\n",
       "        text-align: right;\n",
       "    }\n",
       "</style>\n",
       "<table border=\"1\" class=\"dataframe\">\n",
       "  <thead>\n",
       "    <tr style=\"text-align: right;\">\n",
       "      <th></th>\n",
       "      <th>ID</th>\n",
       "      <th>NOM</th>\n",
       "      <th>VILLE</th>\n",
       "      <th>ETAT</th>\n",
       "      <th>LATITUDE</th>\n",
       "      <th>LONGITUDE</th>\n",
       "      <th>A_DISTANCE_SEULEMENT</th>\n",
       "      <th>NOMBRE_ETUDIANTS</th>\n",
       "      <th>AGE_ENTREE</th>\n",
       "      <th>COUT_MOYEN_ANNEE_ACADEMIE</th>\n",
       "      <th>TAUX_ADMISSION</th>\n",
       "      <th>DEFAUT_PAIEMENT_2ANNEES</th>\n",
       "      <th>DEFAUT_PAIEMENT_3ANNEES</th>\n",
       "    </tr>\n",
       "  </thead>\n",
       "  <tbody>\n",
       "    <tr>\n",
       "      <th>0</th>\n",
       "      <td>100200</td>\n",
       "      <td>Alabama A &amp; M University</td>\n",
       "      <td>Normal</td>\n",
       "      <td>AL</td>\n",
       "      <td>34.783368</td>\n",
       "      <td>-86.568502</td>\n",
       "      <td>0.0</td>\n",
       "      <td>1368</td>\n",
       "      <td>20.283741368</td>\n",
       "      <td>22489.0</td>\n",
       "      <td>0.8986</td>\n",
       "      <td>0.114</td>\n",
       "      <td>0.182</td>\n",
       "    </tr>\n",
       "    <tr>\n",
       "      <th>1</th>\n",
       "      <td>105200</td>\n",
       "      <td>University of Alabama at Birmingham</td>\n",
       "      <td>Birmingham</td>\n",
       "      <td>AL</td>\n",
       "      <td>33.505697</td>\n",
       "      <td>-86.799345</td>\n",
       "      <td>0.0</td>\n",
       "      <td>2730</td>\n",
       "      <td>23.60797466</td>\n",
       "      <td>24347.0</td>\n",
       "      <td>0.9211</td>\n",
       "      <td>0.060</td>\n",
       "      <td>0.057</td>\n",
       "    </tr>\n",
       "    <tr>\n",
       "      <th>2</th>\n",
       "      <td>2503400</td>\n",
       "      <td>Amridge University</td>\n",
       "      <td>Montgomery</td>\n",
       "      <td>AL</td>\n",
       "      <td>32.362609</td>\n",
       "      <td>-86.174010</td>\n",
       "      <td>1.0</td>\n",
       "      <td>135</td>\n",
       "      <td>33.672297297</td>\n",
       "      <td>17680.0</td>\n",
       "      <td>NaN</td>\n",
       "      <td>0.071</td>\n",
       "      <td>0.110</td>\n",
       "    </tr>\n",
       "    <tr>\n",
       "      <th>3</th>\n",
       "      <td>105500</td>\n",
       "      <td>University of Alabama in Huntsville</td>\n",
       "      <td>Huntsville</td>\n",
       "      <td>AL</td>\n",
       "      <td>34.724557</td>\n",
       "      <td>-86.640449</td>\n",
       "      <td>0.0</td>\n",
       "      <td>1175</td>\n",
       "      <td>22.727919632</td>\n",
       "      <td>23441.0</td>\n",
       "      <td>0.8087</td>\n",
       "      <td>0.077</td>\n",
       "      <td>0.059</td>\n",
       "    </tr>\n",
       "    <tr>\n",
       "      <th>4</th>\n",
       "      <td>100500</td>\n",
       "      <td>Alabama State University</td>\n",
       "      <td>Montgomery</td>\n",
       "      <td>AL</td>\n",
       "      <td>32.364317</td>\n",
       "      <td>-86.295677</td>\n",
       "      <td>0.0</td>\n",
       "      <td>1281</td>\n",
       "      <td>20.130990415</td>\n",
       "      <td>21476.0</td>\n",
       "      <td>0.9774</td>\n",
       "      <td>0.132</td>\n",
       "      <td>0.203</td>\n",
       "    </tr>\n",
       "  </tbody>\n",
       "</table>\n",
       "</div>"
      ],
      "text/plain": [
       "        ID                                  NOM       VILLE ETAT   LATITUDE  \\\n",
       "0   100200             Alabama A & M University      Normal   AL  34.783368   \n",
       "1   105200  University of Alabama at Birmingham  Birmingham   AL  33.505697   \n",
       "2  2503400                   Amridge University  Montgomery   AL  32.362609   \n",
       "3   105500  University of Alabama in Huntsville  Huntsville   AL  34.724557   \n",
       "4   100500             Alabama State University  Montgomery   AL  32.364317   \n",
       "\n",
       "   LONGITUDE  A_DISTANCE_SEULEMENT NOMBRE_ETUDIANTS    AGE_ENTREE  \\\n",
       "0 -86.568502                   0.0             1368  20.283741368   \n",
       "1 -86.799345                   0.0             2730   23.60797466   \n",
       "2 -86.174010                   1.0              135  33.672297297   \n",
       "3 -86.640449                   0.0             1175  22.727919632   \n",
       "4 -86.295677                   0.0             1281  20.130990415   \n",
       "\n",
       "   COUT_MOYEN_ANNEE_ACADEMIE  TAUX_ADMISSION  DEFAUT_PAIEMENT_2ANNEES  \\\n",
       "0                    22489.0          0.8986                    0.114   \n",
       "1                    24347.0          0.9211                    0.060   \n",
       "2                    17680.0             NaN                    0.071   \n",
       "3                    23441.0          0.8087                    0.077   \n",
       "4                    21476.0          0.9774                    0.132   \n",
       "\n",
       "   DEFAUT_PAIEMENT_3ANNEES  \n",
       "0                    0.182  \n",
       "1                    0.057  \n",
       "2                    0.110  \n",
       "3                    0.059  \n",
       "4                    0.203  "
      ]
     },
     "execution_count": 407,
     "metadata": {},
     "output_type": "execute_result"
    }
   ],
   "source": [
    "df.head(5)"
   ]
  },
  {
   "cell_type": "markdown",
   "metadata": {},
   "source": [
    " "
   ]
  },
  {
   "cell_type": "markdown",
   "metadata": {},
   "source": [
    "<img src='./oc_logo.png' width=15px /> Combien de lignes et colonnes sont contenues dans `df` ?"
   ]
  },
  {
   "cell_type": "code",
   "execution_count": 408,
   "metadata": {},
   "outputs": [
    {
     "data": {
      "text/plain": [
       "(6806, 13)"
      ]
     },
     "execution_count": 408,
     "metadata": {},
     "output_type": "execute_result"
    }
   ],
   "source": [
    "df.shape"
   ]
  },
  {
   "cell_type": "markdown",
   "metadata": {},
   "source": [
    " "
   ]
  },
  {
   "cell_type": "markdown",
   "metadata": {},
   "source": [
    "<img src='./oc_logo.png' width=15px /> Affichez le type des colonnes"
   ]
  },
  {
   "cell_type": "code",
   "execution_count": 409,
   "metadata": {},
   "outputs": [
    {
     "data": {
      "text/plain": [
       "ID                             int64\n",
       "NOM                           object\n",
       "VILLE                         object\n",
       "ETAT                          object\n",
       "LATITUDE                     float64\n",
       "LONGITUDE                    float64\n",
       "A_DISTANCE_SEULEMENT         float64\n",
       "NOMBRE_ETUDIANTS              object\n",
       "AGE_ENTREE                    object\n",
       "COUT_MOYEN_ANNEE_ACADEMIE    float64\n",
       "TAUX_ADMISSION               float64\n",
       "DEFAUT_PAIEMENT_2ANNEES      float64\n",
       "DEFAUT_PAIEMENT_3ANNEES      float64\n",
       "dtype: object"
      ]
     },
     "execution_count": 409,
     "metadata": {},
     "output_type": "execute_result"
    }
   ],
   "source": [
    "df.dtypes"
   ]
  },
  {
   "cell_type": "markdown",
   "metadata": {},
   "source": [
    " "
   ]
  },
  {
   "cell_type": "markdown",
   "metadata": {},
   "source": [
    "<img src='./oc_logo.png' width=15px /> Les deux colonnes `NOMBRE_ETUDIANTS` et `AGE_ENTREE` ne sont pas bien typées, corrigez cela."
   ]
  },
  {
   "cell_type": "code",
   "execution_count": 410,
   "metadata": {},
   "outputs": [
    {
     "data": {
      "text/plain": [
       "ID                             int64\n",
       "NOM                           object\n",
       "VILLE                         object\n",
       "ETAT                          object\n",
       "LATITUDE                     float64\n",
       "LONGITUDE                    float64\n",
       "A_DISTANCE_SEULEMENT         float64\n",
       "NOMBRE_ETUDIANTS             float64\n",
       "AGE_ENTREE                   float64\n",
       "COUT_MOYEN_ANNEE_ACADEMIE    float64\n",
       "TAUX_ADMISSION               float64\n",
       "DEFAUT_PAIEMENT_2ANNEES      float64\n",
       "DEFAUT_PAIEMENT_3ANNEES      float64\n",
       "dtype: object"
      ]
     },
     "execution_count": 410,
     "metadata": {},
     "output_type": "execute_result"
    }
   ],
   "source": [
    "df['NOMBRE_ETUDIANTS'].unique\n",
    "df.loc[df['NOMBRE_ETUDIANTS']=='PrivacySuppressed','NOMBRE_ETUDIANTS']=np.nan\n",
    "df['NOMBRE_ETUDIANTS']= pd.to_numeric(df['NOMBRE_ETUDIANTS'])\n",
    "df.loc[df['AGE_ENTREE']=='PrivacySuppressed','AGE_ENTREE']=np.nan\n",
    "df['AGE_ENTREE']= pd.to_numeric(df['AGE_ENTREE'])\n",
    "df.dtypes"
   ]
  },
  {
   "cell_type": "markdown",
   "metadata": {},
   "source": [
    " "
   ]
  },
  {
   "cell_type": "markdown",
   "metadata": {},
   "source": [
    "<img src='./oc_logo.png' width=15px /> Existe-t-il des valeurs manquantes dans ce jeu de données ?"
   ]
  },
  {
   "cell_type": "code",
   "execution_count": 411,
   "metadata": {},
   "outputs": [
    {
     "data": {
      "text/plain": [
       "ID                              0\n",
       "NOM                             0\n",
       "VILLE                           0\n",
       "ETAT                            0\n",
       "LATITUDE                      475\n",
       "LONGITUDE                     475\n",
       "A_DISTANCE_SEULEMENT          475\n",
       "NOMBRE_ETUDIANTS              747\n",
       "AGE_ENTREE                    626\n",
       "COUT_MOYEN_ANNEE_ACADEMIE    3375\n",
       "TAUX_ADMISSION               4800\n",
       "DEFAUT_PAIEMENT_2ANNEES      1296\n",
       "DEFAUT_PAIEMENT_3ANNEES       927\n",
       "dtype: int64"
      ]
     },
     "execution_count": 411,
     "metadata": {},
     "output_type": "execute_result"
    }
   ],
   "source": [
    "df.isna().sum()"
   ]
  },
  {
   "cell_type": "markdown",
   "metadata": {},
   "source": [
    " "
   ]
  },
  {
   "cell_type": "markdown",
   "metadata": {},
   "source": [
    "<img src='./oc_logo.png' width=15px /> Vérifions s'il existe des doublons pour la variable ID qui est un identifiant unique"
   ]
  },
  {
   "cell_type": "code",
   "execution_count": 412,
   "metadata": {},
   "outputs": [
    {
     "data": {
      "text/plain": [
       "30"
      ]
     },
     "execution_count": 412,
     "metadata": {},
     "output_type": "execute_result"
    }
   ],
   "source": [
    "df['ID'].duplicated().sum()"
   ]
  },
  {
   "cell_type": "markdown",
   "metadata": {},
   "source": [
    " "
   ]
  },
  {
   "cell_type": "markdown",
   "metadata": {},
   "source": [
    "<img src='./oc_logo.png' width=15px /> Nous allons maintenant nous débarrasser des duplicatas en supprimant la version la moins bien renseignée"
   ]
  },
  {
   "cell_type": "code",
   "execution_count": 413,
   "metadata": {},
   "outputs": [
    {
     "data": {
      "text/plain": [
       "0"
      ]
     },
     "execution_count": 413,
     "metadata": {},
     "output_type": "execute_result"
    }
   ],
   "source": [
    "# on compte le nombre de valeurs manquantes pour la ligne et on stocke dans une nouvelle colonne\n",
    "df['NB_NAN'] = df.isna().sum(axis=1)\n",
    "# trie des lignes en fonction du nombre de valeurs manquantes\n",
    "df.sort_values('NB_NAN', inplace=True)\n",
    "# suppression des duplicatas en gardant les versions les mieux remplies\n",
    "df.drop_duplicates('ID', keep='first', inplace=True)\n",
    "df['ID'].duplicated().sum()"
   ]
  },
  {
   "cell_type": "markdown",
   "metadata": {},
   "source": [
    "## Partie 2 - Exploration (2 heures)\n",
    "\n",
    "<img src='./oc_logo.png' width=15px /> Combien d'établissements sont représentés dans ce fichier ?"
   ]
  },
  {
   "cell_type": "code",
   "execution_count": 414,
   "metadata": {},
   "outputs": [
    {
     "data": {
      "text/plain": [
       "6776"
      ]
     },
     "execution_count": 414,
     "metadata": {},
     "output_type": "execute_result"
    }
   ],
   "source": [
    "df['ID'].count()"
   ]
  },
  {
   "cell_type": "markdown",
   "metadata": {},
   "source": [
    " "
   ]
  },
  {
   "cell_type": "markdown",
   "metadata": {},
   "source": [
    "<img src='./oc_logo.png' width=15px /> On souhaite savoir si la couverture des états est représentative, à savoir si le nombre d'établissements est significatif. **Donnez le nombre d'établissements par état**."
   ]
  },
  {
   "cell_type": "code",
   "execution_count": 415,
   "metadata": {},
   "outputs": [
    {
     "data": {
      "text/plain": [
       "ETAT\n",
       "AK      9\n",
       "AL     85\n",
       "AR     92\n",
       "AS      1\n",
       "AZ    117\n",
       "CA    701\n",
       "CO    109\n",
       "CT     80\n",
       "DC     22\n",
       "DE     21\n",
       "FL    383\n",
       "FM      1\n",
       "GA    176\n",
       "GU      3\n",
       "HI     23\n",
       "IA     86\n",
       "ID     38\n",
       "IL    263\n",
       "IN    135\n",
       "KS     80\n",
       "KY     94\n",
       "LA    125\n",
       "MA    161\n",
       "MD     87\n",
       "ME     40\n",
       "MH      1\n",
       "MI    191\n",
       "MN    117\n",
       "MO    162\n",
       "MP      1\n",
       "MS     60\n",
       "MT     33\n",
       "NC    183\n",
       "ND     28\n",
       "NE     46\n",
       "NH     38\n",
       "NJ    167\n",
       "NM     49\n",
       "NV     39\n",
       "NY    449\n",
       "OH    298\n",
       "OK    110\n",
       "OR     77\n",
       "PA    356\n",
       "PR    142\n",
       "PW      1\n",
       "RI     23\n",
       "SC     99\n",
       "SD     29\n",
       "TN    159\n",
       "TX    433\n",
       "UT     72\n",
       "VA    166\n",
       "VI      2\n",
       "VT     25\n",
       "WA    106\n",
       "WI     98\n",
       "WV     74\n",
       "WY     10\n",
       "Name: ID, dtype: int64"
      ]
     },
     "execution_count": 415,
     "metadata": {},
     "output_type": "execute_result"
    }
   ],
   "source": [
    "etab_state = df.groupby('ETAT')['ID'].count()\n",
    "etab_state"
   ]
  },
  {
   "cell_type": "markdown",
   "metadata": {},
   "source": [
    " "
   ]
  },
  {
   "cell_type": "markdown",
   "metadata": {},
   "source": [
    "<img src='./oc_logo.png' width=15px /> Suite aux résultats de la question précédente, pensez-vous qu'il est normal que certains états possèdent si peu d'établissements ? Voici [un lien intéressant](https://www.factmonster.com/us/postal-information/state-abbreviations-and-state-postal-codes). \n",
    "\n",
    "Identifiez les états avec moins de 5 établissements éducatifs."
   ]
  },
  {
   "cell_type": "code",
   "execution_count": 416,
   "metadata": {},
   "outputs": [
    {
     "data": {
      "text/plain": [
       "Index(['AS', 'FM', 'GU', 'MH', 'MP', 'PW', 'VI'], dtype='object', name='ETAT')"
      ]
     },
     "execution_count": 416,
     "metadata": {},
     "output_type": "execute_result"
    }
   ],
   "source": [
    "small_states = etab_state[etab_state<=5].index\n",
    "small_states"
   ]
  },
  {
   "cell_type": "markdown",
   "metadata": {},
   "source": [
    " "
   ]
  },
  {
   "cell_type": "markdown",
   "metadata": {},
   "source": [
    "<img src='./oc_logo.png' width=15px /> Supprimez les établissements situés dans ces états, nos résultats risquent de ne pas être assez représentatifs si on les exploite."
   ]
  },
  {
   "cell_type": "code",
   "execution_count": 417,
   "metadata": {},
   "outputs": [],
   "source": [
    "# df.drop(df[df['ETAT'].isin(small_states)].index, inplace=True)\n",
    "df = df[~df['ETAT'].isin(small_states)]"
   ]
  },
  {
   "cell_type": "markdown",
   "metadata": {},
   "source": [
    " "
   ]
  },
  {
   "cell_type": "markdown",
   "metadata": {},
   "source": [
    "<img src='./oc_logo.png' width=15px /> Quels sont les 3 états qui hébergent le plus d'établissements fonctionnant en mode à distance ?"
   ]
  },
  {
   "cell_type": "code",
   "execution_count": 418,
   "metadata": {},
   "outputs": [
    {
     "data": {
      "text/plain": [
       "ETAT\n",
       "CA    9.0\n",
       "AZ    4.0\n",
       "WV    3.0\n",
       "Name: A_DISTANCE_SEULEMENT, dtype: float64"
      ]
     },
     "execution_count": 418,
     "metadata": {},
     "output_type": "execute_result"
    }
   ],
   "source": [
    "df.groupby('ETAT')['A_DISTANCE_SEULEMENT'].sum().sort_values(ascending=False).head(3)"
   ]
  },
  {
   "cell_type": "markdown",
   "metadata": {},
   "source": [
    " "
   ]
  },
  {
   "cell_type": "markdown",
   "metadata": {},
   "source": [
    "<img src='./oc_logo.png' width=15px /> Nous allons exploiter le taux de défaut de paiement de l'établissement pour se renseigner sur le potentiel local d'une formation à coût inférieur. \n",
    "\n",
    "Faites une moyenne des variables `DEFAUT_PAIEMENT_2ANNEES` et `DEFAUT_PAIEMENT_3ANNEES`, stockez le résultat dans une nouvelle colonne `DEFAUT_PAIEMENT`."
   ]
  },
  {
   "cell_type": "code",
   "execution_count": 419,
   "metadata": {},
   "outputs": [],
   "source": [
    "df['DEFAUT_PAIEMENT']=df[['DEFAUT_PAIEMENT_2ANNEES','DEFAUT_PAIEMENT_3ANNEES']].mean(axis=1)"
   ]
  },
  {
   "cell_type": "markdown",
   "metadata": {},
   "source": [
    " "
   ]
  },
  {
   "cell_type": "markdown",
   "metadata": {},
   "source": [
    "<img src='./oc_logo.png' width=15px /> Remplacez les valeurs manquantes de la colonne `DEFAUT_PAIEMENT` par zéro."
   ]
  },
  {
   "cell_type": "code",
   "execution_count": 420,
   "metadata": {},
   "outputs": [],
   "source": [
    "df['DEFAUT_PAIEMENT'] = df['DEFAUT_PAIEMENT'].replace(np.nan,0)"
   ]
  },
  {
   "cell_type": "markdown",
   "metadata": {},
   "source": [
    " "
   ]
  },
  {
   "cell_type": "markdown",
   "metadata": {},
   "source": [
    "<img src='./oc_logo.png' width=15px /> Il serait intéressant de connaître le nombre d'étudiants potentiels par ville dans le but de cibler prioritairement les plus peuplées, une hypothétique opération publicitaire serait alors plus rentable.\n",
    "\n",
    "Pour retrouver le nombre d'étudiants ayant fait une demande d'inscription, nous allons nous baser sur le nombre d'étudiants acceptés et sur le taux d'admission. \n",
    "\n",
    "Dans un premier temps remplacez les taux d'admission manquants par la valeur médiane de la variable."
   ]
  },
  {
   "cell_type": "code",
   "execution_count": 421,
   "metadata": {},
   "outputs": [],
   "source": [
    "df['TAUX_ADMISSION']=df['TAUX_ADMISSION'].replace(np.nan,df['TAUX_ADMISSION'].median())"
   ]
  },
  {
   "cell_type": "markdown",
   "metadata": {},
   "source": [
    " "
   ]
  },
  {
   "cell_type": "markdown",
   "metadata": {},
   "source": [
    "<img src='./oc_logo.png' width=15px /> Supprimez les lignes ayant un taux d'admission nul, cela paraît peu probable."
   ]
  },
  {
   "cell_type": "code",
   "execution_count": 422,
   "metadata": {},
   "outputs": [],
   "source": [
    "df = df[df['TAUX_ADMISSION']>0]"
   ]
  },
  {
   "cell_type": "markdown",
   "metadata": {},
   "source": [
    " "
   ]
  },
  {
   "cell_type": "markdown",
   "metadata": {},
   "source": [
    "<img src='./oc_logo.png' width=15px /> Remplacez les valeurs manquantes de la colonne `NOMBRE_ETUDIANTS` en remplaçant par la valeur médiane de la variable."
   ]
  },
  {
   "cell_type": "code",
   "execution_count": 423,
   "metadata": {},
   "outputs": [],
   "source": [
    "df['NOMBRE_ETUDIANTS']=df['NOMBRE_ETUDIANTS'].replace(np.nan,df['NOMBRE_ETUDIANTS'].median())"
   ]
  },
  {
   "cell_type": "markdown",
   "metadata": {},
   "source": [
    " "
   ]
  },
  {
   "cell_type": "markdown",
   "metadata": {},
   "source": [
    "<img src='./oc_logo.png' width=15px /> À l'aide d'un calcul savant, retrouvez le nombre d'étudiants ayant fait une demande d'inscription."
   ]
  },
  {
   "cell_type": "code",
   "execution_count": 424,
   "metadata": {},
   "outputs": [],
   "source": [
    "df['NOMBRE_ETUDIANTS_DEMANDEURS'] = df['NOMBRE_ETUDIANTS']/df['TAUX_ADMISSION']"
   ]
  },
  {
   "cell_type": "markdown",
   "metadata": {},
   "source": [
    " "
   ]
  },
  {
   "cell_type": "markdown",
   "metadata": {},
   "source": [
    "<img src='./oc_logo.png' width=15px /> Nous utiliserons plus tard la variable `COUT_MOYEN_ANNEE_ACADEMIE`, afin de quantifier le budget éducation des étudiants. Avant cela, il faut remplacer les valeurs manquantes de la variable par la médiane."
   ]
  },
  {
   "cell_type": "code",
   "execution_count": 425,
   "metadata": {},
   "outputs": [],
   "source": [
    "df['COUT_MOYEN_ANNEE_ACADEMIE']=df['COUT_MOYEN_ANNEE_ACADEMIE'].replace(np.nan,df['COUT_MOYEN_ANNEE_ACADEMIE'].median())"
   ]
  },
  {
   "cell_type": "markdown",
   "metadata": {},
   "source": [
    "### Création des scores "
   ]
  },
  {
   "cell_type": "markdown",
   "metadata": {},
   "source": [
    " "
   ]
  },
  {
   "cell_type": "markdown",
   "metadata": {},
   "source": [
    "<img src='./oc_logo.png' width=15px /> Nous allons maintenant créer un score entre 0 et 1 pour noter le critère population étudiante de chaque ville (1 ville pour la plus peuplée, 0 pour la moins peuplée).\n",
    "\n",
    "Créez une colonne `SCORE_POP` contenant le score de la variable `NOMBRE_ETUDIANTS_DEMANDEURS`."
   ]
  },
  {
   "cell_type": "code",
   "execution_count": 426,
   "metadata": {},
   "outputs": [],
   "source": [
    "df['SCORE_POP'] = df['NOMBRE_ETUDIANTS']/df['NOMBRE_ETUDIANTS_DEMANDEURS'].max()"
   ]
  },
  {
   "cell_type": "markdown",
   "metadata": {},
   "source": [
    " "
   ]
  },
  {
   "cell_type": "markdown",
   "metadata": {},
   "source": [
    "<img src='./oc_logo.png' width=15px /> Créez une colonne `SCORE_COUT` contenant le score issu de la variable `COUT_MOYEN_ANNEE_ACADEMIE`."
   ]
  },
  {
   "cell_type": "code",
   "execution_count": 427,
   "metadata": {},
   "outputs": [],
   "source": [
    "df['SCORE_COUT'] = df['COUT_MOYEN_ANNEE_ACADEMIE']/df['COUT_MOYEN_ANNEE_ACADEMIE'].max()"
   ]
  },
  {
   "cell_type": "markdown",
   "metadata": {},
   "source": [
    " "
   ]
  },
  {
   "cell_type": "markdown",
   "metadata": {},
   "source": [
    "<img src='./oc_logo.png' width=15px /> Créez une colonne `SCORE_DEFAUT` contenant le score issu de la variable `DEFAUT_PAIEMENT`."
   ]
  },
  {
   "cell_type": "code",
   "execution_count": 428,
   "metadata": {},
   "outputs": [],
   "source": [
    "df['SCORE_DEFAUT'] = df['DEFAUT_PAIEMENT']/df['DEFAUT_PAIEMENT'].max()"
   ]
  },
  {
   "cell_type": "markdown",
   "metadata": {},
   "source": [
    " "
   ]
  },
  {
   "cell_type": "markdown",
   "metadata": {},
   "source": [
    "<img src='./oc_logo.png' width=15px /> Par curiosité, on se demande si il existe une relation entre les variables `SCORE_DEFAUT` et `SCORE_COUT`. Pour démontrer cela, calculer la corrélation linéaire entre les deux variables."
   ]
  },
  {
   "cell_type": "code",
   "execution_count": 429,
   "metadata": {},
   "outputs": [
    {
     "name": "stdout",
     "output_type": "stream",
     "text": [
      "r= -0.25598856286364796\n"
     ]
    }
   ],
   "source": [
    "print('r=', df[['SCORE_DEFAUT', 'SCORE_COUT']].corr().iloc[0,1])"
   ]
  },
  {
   "cell_type": "markdown",
   "metadata": {},
   "source": [
    " "
   ]
  },
  {
   "cell_type": "markdown",
   "metadata": {},
   "source": [
    "<img src='./oc_logo.png' width=15px /> On souhaite identifier les écoles ayant un fort potentiel économique pour notre client, voici la liste des critères que l'on recherche :\n",
    "- Nombre important d'étudiants\n",
    "- Prix élevé de la formation\n",
    "- Taux d'admission faible\n",
    "\n",
    "Utilisez les scores calculés précédemment pour construire un nouvel indicateur (`SCORE_SYNT`) synthétisant ces propriétés."
   ]
  },
  {
   "cell_type": "code",
   "execution_count": 439,
   "metadata": {},
   "outputs": [],
   "source": [
    "df['SCORE_SYNT'] =  (df['SCORE_POP'] + df['SCORE_COUT'] + (1 - df['TAUX_ADMISSION'])) / 3"
   ]
  },
  {
   "cell_type": "markdown",
   "metadata": {},
   "source": [
    " "
   ]
  },
  {
   "cell_type": "markdown",
   "metadata": {},
   "source": [
    "<img src='./oc_logo.png' width=15px /> Donnez la liste des 15 établissements les mieux classés par rapport à `SCORE_SYNT`"
   ]
  },
  {
   "cell_type": "code",
   "execution_count": 440,
   "metadata": {},
   "outputs": [
    {
     "data": {
      "text/html": [
       "<div>\n",
       "<style scoped>\n",
       "    .dataframe tbody tr th:only-of-type {\n",
       "        vertical-align: middle;\n",
       "    }\n",
       "\n",
       "    .dataframe tbody tr th {\n",
       "        vertical-align: top;\n",
       "    }\n",
       "\n",
       "    .dataframe thead th {\n",
       "        text-align: right;\n",
       "    }\n",
       "</style>\n",
       "<table border=\"1\" class=\"dataframe\">\n",
       "  <thead>\n",
       "    <tr style=\"text-align: right;\">\n",
       "      <th></th>\n",
       "      <th>NOM</th>\n",
       "      <th>ETAT</th>\n",
       "      <th>SCORE_POP</th>\n",
       "      <th>SCORE_COUT</th>\n",
       "      <th>TAUX_ADMISSION</th>\n",
       "      <th>SCORE_SYNT</th>\n",
       "    </tr>\n",
       "  </thead>\n",
       "  <tbody>\n",
       "    <tr>\n",
       "      <th>2153</th>\n",
       "      <td>Columbia University in the City of New York</td>\n",
       "      <td>NY</td>\n",
       "      <td>0.013686</td>\n",
       "      <td>0.772348</td>\n",
       "      <td>0.0591</td>\n",
       "      <td>0.575644</td>\n",
       "    </tr>\n",
       "    <tr>\n",
       "      <th>890</th>\n",
       "      <td>University of Chicago</td>\n",
       "      <td>IL</td>\n",
       "      <td>0.005750</td>\n",
       "      <td>0.785837</td>\n",
       "      <td>0.0726</td>\n",
       "      <td>0.572996</td>\n",
       "    </tr>\n",
       "    <tr>\n",
       "      <th>1492</th>\n",
       "      <td>Harvard University</td>\n",
       "      <td>MA</td>\n",
       "      <td>0.005873</td>\n",
       "      <td>0.738106</td>\n",
       "      <td>0.0473</td>\n",
       "      <td>0.565560</td>\n",
       "    </tr>\n",
       "    <tr>\n",
       "      <th>983</th>\n",
       "      <td>Northwestern University</td>\n",
       "      <td>IL</td>\n",
       "      <td>0.010693</td>\n",
       "      <td>0.757043</td>\n",
       "      <td>0.0847</td>\n",
       "      <td>0.561012</td>\n",
       "    </tr>\n",
       "    <tr>\n",
       "      <th>605</th>\n",
       "      <td>Yale University</td>\n",
       "      <td>CT</td>\n",
       "      <td>0.004472</td>\n",
       "      <td>0.739715</td>\n",
       "      <td>0.0635</td>\n",
       "      <td>0.560229</td>\n",
       "    </tr>\n",
       "    <tr>\n",
       "      <th>2992</th>\n",
       "      <td>University of Pennsylvania</td>\n",
       "      <td>PA</td>\n",
       "      <td>0.010626</td>\n",
       "      <td>0.753141</td>\n",
       "      <td>0.0841</td>\n",
       "      <td>0.559889</td>\n",
       "    </tr>\n",
       "    <tr>\n",
       "      <th>3841</th>\n",
       "      <td>Stanford University</td>\n",
       "      <td>CA</td>\n",
       "      <td>0.005582</td>\n",
       "      <td>0.717084</td>\n",
       "      <td>0.0436</td>\n",
       "      <td>0.559689</td>\n",
       "    </tr>\n",
       "    <tr>\n",
       "      <th>2413</th>\n",
       "      <td>Duke University</td>\n",
       "      <td>NC</td>\n",
       "      <td>0.008619</td>\n",
       "      <td>0.751917</td>\n",
       "      <td>0.0891</td>\n",
       "      <td>0.557145</td>\n",
       "    </tr>\n",
       "    <tr>\n",
       "      <th>3072</th>\n",
       "      <td>Brown University</td>\n",
       "      <td>RI</td>\n",
       "      <td>0.008115</td>\n",
       "      <td>0.737224</td>\n",
       "      <td>0.0767</td>\n",
       "      <td>0.556213</td>\n",
       "    </tr>\n",
       "    <tr>\n",
       "      <th>1959</th>\n",
       "      <td>Dartmouth College</td>\n",
       "      <td>NH</td>\n",
       "      <td>0.005257</td>\n",
       "      <td>0.745287</td>\n",
       "      <td>0.0874</td>\n",
       "      <td>0.554381</td>\n",
       "    </tr>\n",
       "    <tr>\n",
       "      <th>260</th>\n",
       "      <td>Claremont McKenna College</td>\n",
       "      <td>CA</td>\n",
       "      <td>0.001289</td>\n",
       "      <td>0.744436</td>\n",
       "      <td>0.0931</td>\n",
       "      <td>0.550875</td>\n",
       "    </tr>\n",
       "    <tr>\n",
       "      <th>203</th>\n",
       "      <td>California Institute of Technology</td>\n",
       "      <td>CA</td>\n",
       "      <td>0.000740</td>\n",
       "      <td>0.714926</td>\n",
       "      <td>0.0662</td>\n",
       "      <td>0.549822</td>\n",
       "    </tr>\n",
       "    <tr>\n",
       "      <th>411</th>\n",
       "      <td>Pomona College</td>\n",
       "      <td>CA</td>\n",
       "      <td>0.001838</td>\n",
       "      <td>0.723476</td>\n",
       "      <td>0.0761</td>\n",
       "      <td>0.549738</td>\n",
       "    </tr>\n",
       "    <tr>\n",
       "      <th>476</th>\n",
       "      <td>University of Southern California</td>\n",
       "      <td>CA</td>\n",
       "      <td>0.026744</td>\n",
       "      <td>0.748088</td>\n",
       "      <td>0.1296</td>\n",
       "      <td>0.548411</td>\n",
       "    </tr>\n",
       "    <tr>\n",
       "      <th>2046</th>\n",
       "      <td>Princeton University</td>\n",
       "      <td>NJ</td>\n",
       "      <td>0.003912</td>\n",
       "      <td>0.694682</td>\n",
       "      <td>0.0548</td>\n",
       "      <td>0.547931</td>\n",
       "    </tr>\n",
       "  </tbody>\n",
       "</table>\n",
       "</div>"
      ],
      "text/plain": [
       "                                              NOM ETAT  SCORE_POP  SCORE_COUT  \\\n",
       "2153  Columbia University in the City of New York   NY   0.013686    0.772348   \n",
       "890                         University of Chicago   IL   0.005750    0.785837   \n",
       "1492                           Harvard University   MA   0.005873    0.738106   \n",
       "983                       Northwestern University   IL   0.010693    0.757043   \n",
       "605                               Yale University   CT   0.004472    0.739715   \n",
       "2992                   University of Pennsylvania   PA   0.010626    0.753141   \n",
       "3841                          Stanford University   CA   0.005582    0.717084   \n",
       "2413                              Duke University   NC   0.008619    0.751917   \n",
       "3072                             Brown University   RI   0.008115    0.737224   \n",
       "1959                            Dartmouth College   NH   0.005257    0.745287   \n",
       "260                     Claremont McKenna College   CA   0.001289    0.744436   \n",
       "203            California Institute of Technology   CA   0.000740    0.714926   \n",
       "411                                Pomona College   CA   0.001838    0.723476   \n",
       "476             University of Southern California   CA   0.026744    0.748088   \n",
       "2046                         Princeton University   NJ   0.003912    0.694682   \n",
       "\n",
       "      TAUX_ADMISSION  SCORE_SYNT  \n",
       "2153          0.0591    0.575644  \n",
       "890           0.0726    0.572996  \n",
       "1492          0.0473    0.565560  \n",
       "983           0.0847    0.561012  \n",
       "605           0.0635    0.560229  \n",
       "2992          0.0841    0.559889  \n",
       "3841          0.0436    0.559689  \n",
       "2413          0.0891    0.557145  \n",
       "3072          0.0767    0.556213  \n",
       "1959          0.0874    0.554381  \n",
       "260           0.0931    0.550875  \n",
       "203           0.0662    0.549822  \n",
       "411           0.0761    0.549738  \n",
       "476           0.1296    0.548411  \n",
       "2046          0.0548    0.547931  "
      ]
     },
     "execution_count": 440,
     "metadata": {},
     "output_type": "execute_result"
    }
   ],
   "source": [
    "df.sort_values('SCORE_SYNT', ascending=False)[['NOM', 'ETAT', 'SCORE_POP', 'SCORE_COUT', 'TAUX_ADMISSION', 'SCORE_SYNT']].head(15)"
   ]
  },
  {
   "cell_type": "markdown",
   "metadata": {},
   "source": [
    " "
   ]
  },
  {
   "cell_type": "markdown",
   "metadata": {},
   "source": [
    "<img src='./oc_logo.png' width=15px /> Quels sont les 15 villes ayant les plus forts scores totaux ?"
   ]
  },
  {
   "cell_type": "code",
   "execution_count": 441,
   "metadata": {},
   "outputs": [
    {
     "data": {
      "text/html": [
       "<div>\n",
       "<style scoped>\n",
       "    .dataframe tbody tr th:only-of-type {\n",
       "        vertical-align: middle;\n",
       "    }\n",
       "\n",
       "    .dataframe tbody tr th {\n",
       "        vertical-align: top;\n",
       "    }\n",
       "\n",
       "    .dataframe thead th {\n",
       "        text-align: right;\n",
       "    }\n",
       "</style>\n",
       "<table border=\"1\" class=\"dataframe\">\n",
       "  <thead>\n",
       "    <tr style=\"text-align: right;\">\n",
       "      <th></th>\n",
       "      <th>SCORE_POP</th>\n",
       "      <th>SCORE_COUT</th>\n",
       "      <th>TAUX_ADMISSION</th>\n",
       "      <th>SCORE_SYNT</th>\n",
       "    </tr>\n",
       "    <tr>\n",
       "      <th>VILLE</th>\n",
       "      <th></th>\n",
       "      <th></th>\n",
       "      <th></th>\n",
       "      <th></th>\n",
       "    </tr>\n",
       "  </thead>\n",
       "  <tbody>\n",
       "    <tr>\n",
       "      <th>New York</th>\n",
       "      <td>0.863773</td>\n",
       "      <td>27.171684</td>\n",
       "      <td>52.8903</td>\n",
       "      <td>19.381719</td>\n",
       "    </tr>\n",
       "    <tr>\n",
       "      <th>Chicago</th>\n",
       "      <td>1.448080</td>\n",
       "      <td>18.739787</td>\n",
       "      <td>48.1950</td>\n",
       "      <td>13.664289</td>\n",
       "    </tr>\n",
       "    <tr>\n",
       "      <th>Houston</th>\n",
       "      <td>1.971793</td>\n",
       "      <td>16.596981</td>\n",
       "      <td>45.2818</td>\n",
       "      <td>13.095658</td>\n",
       "    </tr>\n",
       "    <tr>\n",
       "      <th>Los Angeles</th>\n",
       "      <td>0.443986</td>\n",
       "      <td>15.911045</td>\n",
       "      <td>34.5458</td>\n",
       "      <td>11.269744</td>\n",
       "    </tr>\n",
       "    <tr>\n",
       "      <th>Miami</th>\n",
       "      <td>0.601244</td>\n",
       "      <td>11.600581</td>\n",
       "      <td>33.9626</td>\n",
       "      <td>8.746408</td>\n",
       "    </tr>\n",
       "    <tr>\n",
       "      <th>Philadelphia</th>\n",
       "      <td>1.236584</td>\n",
       "      <td>12.733302</td>\n",
       "      <td>24.9637</td>\n",
       "      <td>8.668729</td>\n",
       "    </tr>\n",
       "    <tr>\n",
       "      <th>San Antonio</th>\n",
       "      <td>0.759308</td>\n",
       "      <td>10.874397</td>\n",
       "      <td>31.4057</td>\n",
       "      <td>8.409335</td>\n",
       "    </tr>\n",
       "    <tr>\n",
       "      <th>Atlanta</th>\n",
       "      <td>1.703088</td>\n",
       "      <td>10.046859</td>\n",
       "      <td>24.4662</td>\n",
       "      <td>8.094582</td>\n",
       "    </tr>\n",
       "    <tr>\n",
       "      <th>Brooklyn</th>\n",
       "      <td>0.331944</td>\n",
       "      <td>10.332586</td>\n",
       "      <td>36.6797</td>\n",
       "      <td>7.328277</td>\n",
       "    </tr>\n",
       "    <tr>\n",
       "      <th>Dallas</th>\n",
       "      <td>0.557328</td>\n",
       "      <td>9.542547</td>\n",
       "      <td>27.3729</td>\n",
       "      <td>6.908992</td>\n",
       "    </tr>\n",
       "    <tr>\n",
       "      <th>Boston</th>\n",
       "      <td>0.244898</td>\n",
       "      <td>10.774091</td>\n",
       "      <td>17.6401</td>\n",
       "      <td>6.792963</td>\n",
       "    </tr>\n",
       "    <tr>\n",
       "      <th>San Diego</th>\n",
       "      <td>0.590640</td>\n",
       "      <td>8.813717</td>\n",
       "      <td>21.5446</td>\n",
       "      <td>6.286586</td>\n",
       "    </tr>\n",
       "    <tr>\n",
       "      <th>Washington</th>\n",
       "      <td>0.456865</td>\n",
       "      <td>9.019580</td>\n",
       "      <td>18.6170</td>\n",
       "      <td>6.286482</td>\n",
       "    </tr>\n",
       "    <tr>\n",
       "      <th>Jacksonville</th>\n",
       "      <td>0.739682</td>\n",
       "      <td>8.118516</td>\n",
       "      <td>23.0250</td>\n",
       "      <td>6.277733</td>\n",
       "    </tr>\n",
       "    <tr>\n",
       "      <th>Springfield</th>\n",
       "      <td>0.535830</td>\n",
       "      <td>8.329764</td>\n",
       "      <td>22.2069</td>\n",
       "      <td>5.886231</td>\n",
       "    </tr>\n",
       "  </tbody>\n",
       "</table>\n",
       "</div>"
      ],
      "text/plain": [
       "              SCORE_POP  SCORE_COUT  TAUX_ADMISSION  SCORE_SYNT\n",
       "VILLE                                                          \n",
       "New York       0.863773   27.171684         52.8903   19.381719\n",
       "Chicago        1.448080   18.739787         48.1950   13.664289\n",
       "Houston        1.971793   16.596981         45.2818   13.095658\n",
       "Los Angeles    0.443986   15.911045         34.5458   11.269744\n",
       "Miami          0.601244   11.600581         33.9626    8.746408\n",
       "Philadelphia   1.236584   12.733302         24.9637    8.668729\n",
       "San Antonio    0.759308   10.874397         31.4057    8.409335\n",
       "Atlanta        1.703088   10.046859         24.4662    8.094582\n",
       "Brooklyn       0.331944   10.332586         36.6797    7.328277\n",
       "Dallas         0.557328    9.542547         27.3729    6.908992\n",
       "Boston         0.244898   10.774091         17.6401    6.792963\n",
       "San Diego      0.590640    8.813717         21.5446    6.286586\n",
       "Washington     0.456865    9.019580         18.6170    6.286482\n",
       "Jacksonville   0.739682    8.118516         23.0250    6.277733\n",
       "Springfield    0.535830    8.329764         22.2069    5.886231"
      ]
     },
     "execution_count": 441,
     "metadata": {},
     "output_type": "execute_result"
    }
   ],
   "source": [
    "df.groupby('VILLE')[['VILLE', 'SCORE_POP', 'SCORE_COUT', 'TAUX_ADMISSION', 'SCORE_SYNT']].sum().sort_values('SCORE_SYNT', ascending=False).head(15)"
   ]
  },
  {
   "cell_type": "code",
   "execution_count": 445,
   "metadata": {},
   "outputs": [
    {
     "data": {
      "text/html": [
       "<div>\n",
       "<style scoped>\n",
       "    .dataframe tbody tr th:only-of-type {\n",
       "        vertical-align: middle;\n",
       "    }\n",
       "\n",
       "    .dataframe tbody tr th {\n",
       "        vertical-align: top;\n",
       "    }\n",
       "\n",
       "    .dataframe thead th {\n",
       "        text-align: right;\n",
       "    }\n",
       "</style>\n",
       "<table border=\"1\" class=\"dataframe\">\n",
       "  <thead>\n",
       "    <tr style=\"text-align: right;\">\n",
       "      <th></th>\n",
       "      <th>SCORE_POP</th>\n",
       "      <th>SCORE_COUT</th>\n",
       "      <th>TAUX_ADMISSION</th>\n",
       "      <th>SCORE_SYNT</th>\n",
       "      <th>A_DISTANCE_SEULEMENT</th>\n",
       "    </tr>\n",
       "    <tr>\n",
       "      <th>VILLE</th>\n",
       "      <th></th>\n",
       "      <th></th>\n",
       "      <th></th>\n",
       "      <th></th>\n",
       "      <th></th>\n",
       "    </tr>\n",
       "  </thead>\n",
       "  <tbody>\n",
       "    <tr>\n",
       "      <th>New York</th>\n",
       "      <td>0.863773</td>\n",
       "      <td>27.171684</td>\n",
       "      <td>52.8903</td>\n",
       "      <td>19.381719</td>\n",
       "      <td>0.0</td>\n",
       "    </tr>\n",
       "    <tr>\n",
       "      <th>Chicago</th>\n",
       "      <td>1.448080</td>\n",
       "      <td>18.739787</td>\n",
       "      <td>48.1950</td>\n",
       "      <td>13.664289</td>\n",
       "      <td>0.0</td>\n",
       "    </tr>\n",
       "    <tr>\n",
       "      <th>Houston</th>\n",
       "      <td>1.971793</td>\n",
       "      <td>16.596981</td>\n",
       "      <td>45.2818</td>\n",
       "      <td>13.095658</td>\n",
       "      <td>0.0</td>\n",
       "    </tr>\n",
       "    <tr>\n",
       "      <th>Los Angeles</th>\n",
       "      <td>0.443986</td>\n",
       "      <td>15.911045</td>\n",
       "      <td>34.5458</td>\n",
       "      <td>11.269744</td>\n",
       "      <td>0.0</td>\n",
       "    </tr>\n",
       "    <tr>\n",
       "      <th>Miami</th>\n",
       "      <td>0.601244</td>\n",
       "      <td>11.600581</td>\n",
       "      <td>33.9626</td>\n",
       "      <td>8.746408</td>\n",
       "      <td>0.0</td>\n",
       "    </tr>\n",
       "    <tr>\n",
       "      <th>Philadelphia</th>\n",
       "      <td>1.236584</td>\n",
       "      <td>12.733302</td>\n",
       "      <td>24.9637</td>\n",
       "      <td>8.668729</td>\n",
       "      <td>0.0</td>\n",
       "    </tr>\n",
       "    <tr>\n",
       "      <th>San Antonio</th>\n",
       "      <td>0.759308</td>\n",
       "      <td>10.874397</td>\n",
       "      <td>31.4057</td>\n",
       "      <td>8.409335</td>\n",
       "      <td>0.0</td>\n",
       "    </tr>\n",
       "    <tr>\n",
       "      <th>Atlanta</th>\n",
       "      <td>1.703088</td>\n",
       "      <td>10.046859</td>\n",
       "      <td>24.4662</td>\n",
       "      <td>8.094582</td>\n",
       "      <td>0.0</td>\n",
       "    </tr>\n",
       "    <tr>\n",
       "      <th>Brooklyn</th>\n",
       "      <td>0.331944</td>\n",
       "      <td>10.332586</td>\n",
       "      <td>36.6797</td>\n",
       "      <td>7.328277</td>\n",
       "      <td>0.0</td>\n",
       "    </tr>\n",
       "    <tr>\n",
       "      <th>Dallas</th>\n",
       "      <td>0.557328</td>\n",
       "      <td>9.542547</td>\n",
       "      <td>27.3729</td>\n",
       "      <td>6.908992</td>\n",
       "      <td>0.0</td>\n",
       "    </tr>\n",
       "    <tr>\n",
       "      <th>Boston</th>\n",
       "      <td>0.244898</td>\n",
       "      <td>10.774091</td>\n",
       "      <td>17.6401</td>\n",
       "      <td>6.792963</td>\n",
       "      <td>1.0</td>\n",
       "    </tr>\n",
       "    <tr>\n",
       "      <th>San Diego</th>\n",
       "      <td>0.590640</td>\n",
       "      <td>8.813717</td>\n",
       "      <td>21.5446</td>\n",
       "      <td>6.286586</td>\n",
       "      <td>1.0</td>\n",
       "    </tr>\n",
       "    <tr>\n",
       "      <th>Washington</th>\n",
       "      <td>0.456865</td>\n",
       "      <td>9.019580</td>\n",
       "      <td>18.6170</td>\n",
       "      <td>6.286482</td>\n",
       "      <td>0.0</td>\n",
       "    </tr>\n",
       "    <tr>\n",
       "      <th>Jacksonville</th>\n",
       "      <td>0.739682</td>\n",
       "      <td>8.118516</td>\n",
       "      <td>23.0250</td>\n",
       "      <td>6.277733</td>\n",
       "      <td>0.0</td>\n",
       "    </tr>\n",
       "    <tr>\n",
       "      <th>Springfield</th>\n",
       "      <td>0.535830</td>\n",
       "      <td>8.329764</td>\n",
       "      <td>22.2069</td>\n",
       "      <td>5.886231</td>\n",
       "      <td>0.0</td>\n",
       "    </tr>\n",
       "  </tbody>\n",
       "</table>\n",
       "</div>"
      ],
      "text/plain": [
       "              SCORE_POP  SCORE_COUT  TAUX_ADMISSION  SCORE_SYNT  \\\n",
       "VILLE                                                             \n",
       "New York       0.863773   27.171684         52.8903   19.381719   \n",
       "Chicago        1.448080   18.739787         48.1950   13.664289   \n",
       "Houston        1.971793   16.596981         45.2818   13.095658   \n",
       "Los Angeles    0.443986   15.911045         34.5458   11.269744   \n",
       "Miami          0.601244   11.600581         33.9626    8.746408   \n",
       "Philadelphia   1.236584   12.733302         24.9637    8.668729   \n",
       "San Antonio    0.759308   10.874397         31.4057    8.409335   \n",
       "Atlanta        1.703088   10.046859         24.4662    8.094582   \n",
       "Brooklyn       0.331944   10.332586         36.6797    7.328277   \n",
       "Dallas         0.557328    9.542547         27.3729    6.908992   \n",
       "Boston         0.244898   10.774091         17.6401    6.792963   \n",
       "San Diego      0.590640    8.813717         21.5446    6.286586   \n",
       "Washington     0.456865    9.019580         18.6170    6.286482   \n",
       "Jacksonville   0.739682    8.118516         23.0250    6.277733   \n",
       "Springfield    0.535830    8.329764         22.2069    5.886231   \n",
       "\n",
       "              A_DISTANCE_SEULEMENT  \n",
       "VILLE                               \n",
       "New York                       0.0  \n",
       "Chicago                        0.0  \n",
       "Houston                        0.0  \n",
       "Los Angeles                    0.0  \n",
       "Miami                          0.0  \n",
       "Philadelphia                   0.0  \n",
       "San Antonio                    0.0  \n",
       "Atlanta                        0.0  \n",
       "Brooklyn                       0.0  \n",
       "Dallas                         0.0  \n",
       "Boston                         1.0  \n",
       "San Diego                      1.0  \n",
       "Washington                     0.0  \n",
       "Jacksonville                   0.0  \n",
       "Springfield                    0.0  "
      ]
     },
     "execution_count": 445,
     "metadata": {},
     "output_type": "execute_result"
    }
   ],
   "source": [
    "df.groupby('VILLE')[['VILLE', 'SCORE_POP', 'SCORE_COUT', 'TAUX_ADMISSION', 'SCORE_SYNT','A_DISTANCE_SEULEMENT']].sum().sort_values('SCORE_SYNT', ascending=False).head(15)"
   ]
  },
  {
   "cell_type": "markdown",
   "metadata": {},
   "source": [
    " "
   ]
  },
  {
   "cell_type": "markdown",
   "metadata": {},
   "source": [
    "<img src='./oc_logo.png' width=15px /> Et les états ?"
   ]
  },
  {
   "cell_type": "code",
   "execution_count": 444,
   "metadata": {},
   "outputs": [
    {
     "data": {
      "text/html": [
       "<div>\n",
       "<style scoped>\n",
       "    .dataframe tbody tr th:only-of-type {\n",
       "        vertical-align: middle;\n",
       "    }\n",
       "\n",
       "    .dataframe tbody tr th {\n",
       "        vertical-align: top;\n",
       "    }\n",
       "\n",
       "    .dataframe thead th {\n",
       "        text-align: right;\n",
       "    }\n",
       "</style>\n",
       "<table border=\"1\" class=\"dataframe\">\n",
       "  <thead>\n",
       "    <tr style=\"text-align: right;\">\n",
       "      <th></th>\n",
       "      <th>SCORE_POP</th>\n",
       "      <th>SCORE_COUT</th>\n",
       "      <th>TAUX_ADMISSION</th>\n",
       "      <th>SCORE_SYNT</th>\n",
       "      <th>A_DISTANCE_SEULEMENT</th>\n",
       "    </tr>\n",
       "    <tr>\n",
       "      <th>ETAT</th>\n",
       "      <th></th>\n",
       "      <th></th>\n",
       "      <th></th>\n",
       "      <th></th>\n",
       "      <th></th>\n",
       "    </tr>\n",
       "  </thead>\n",
       "  <tbody>\n",
       "    <tr>\n",
       "      <th>CA</th>\n",
       "      <td>9.535273</td>\n",
       "      <td>180.850802</td>\n",
       "      <td>480.5725</td>\n",
       "      <td>136.604525</td>\n",
       "      <td>9.0</td>\n",
       "    </tr>\n",
       "    <tr>\n",
       "      <th>NY</th>\n",
       "      <td>4.574724</td>\n",
       "      <td>127.790516</td>\n",
       "      <td>305.3332</td>\n",
       "      <td>91.344013</td>\n",
       "      <td>1.0</td>\n",
       "    </tr>\n",
       "    <tr>\n",
       "      <th>TX</th>\n",
       "      <td>8.738987</td>\n",
       "      <td>101.211030</td>\n",
       "      <td>301.4342</td>\n",
       "      <td>80.505272</td>\n",
       "      <td>1.0</td>\n",
       "    </tr>\n",
       "    <tr>\n",
       "      <th>FL</th>\n",
       "      <td>9.015471</td>\n",
       "      <td>94.673764</td>\n",
       "      <td>265.6467</td>\n",
       "      <td>73.680845</td>\n",
       "      <td>1.0</td>\n",
       "    </tr>\n",
       "    <tr>\n",
       "      <th>PA</th>\n",
       "      <td>8.624143</td>\n",
       "      <td>108.887533</td>\n",
       "      <td>253.1908</td>\n",
       "      <td>73.440292</td>\n",
       "      <td>0.0</td>\n",
       "    </tr>\n",
       "    <tr>\n",
       "      <th>OH</th>\n",
       "      <td>4.696831</td>\n",
       "      <td>77.891715</td>\n",
       "      <td>209.1235</td>\n",
       "      <td>57.155015</td>\n",
       "      <td>0.0</td>\n",
       "    </tr>\n",
       "    <tr>\n",
       "      <th>IL</th>\n",
       "      <td>3.543797</td>\n",
       "      <td>66.677624</td>\n",
       "      <td>181.0552</td>\n",
       "      <td>50.388740</td>\n",
       "      <td>0.0</td>\n",
       "    </tr>\n",
       "    <tr>\n",
       "      <th>MA</th>\n",
       "      <td>1.333169</td>\n",
       "      <td>57.882272</td>\n",
       "      <td>105.0249</td>\n",
       "      <td>38.396847</td>\n",
       "      <td>1.0</td>\n",
       "    </tr>\n",
       "    <tr>\n",
       "      <th>NC</th>\n",
       "      <td>4.160643</td>\n",
       "      <td>44.581437</td>\n",
       "      <td>121.9264</td>\n",
       "      <td>36.605227</td>\n",
       "      <td>1.0</td>\n",
       "    </tr>\n",
       "    <tr>\n",
       "      <th>MI</th>\n",
       "      <td>4.085186</td>\n",
       "      <td>47.055865</td>\n",
       "      <td>133.4562</td>\n",
       "      <td>36.228284</td>\n",
       "      <td>0.0</td>\n",
       "    </tr>\n",
       "    <tr>\n",
       "      <th>GA</th>\n",
       "      <td>4.843866</td>\n",
       "      <td>42.719772</td>\n",
       "      <td>120.2341</td>\n",
       "      <td>34.443179</td>\n",
       "      <td>1.0</td>\n",
       "    </tr>\n",
       "    <tr>\n",
       "      <th>VA</th>\n",
       "      <td>5.060238</td>\n",
       "      <td>44.254329</td>\n",
       "      <td>113.0367</td>\n",
       "      <td>33.759289</td>\n",
       "      <td>0.0</td>\n",
       "    </tr>\n",
       "    <tr>\n",
       "      <th>NJ</th>\n",
       "      <td>3.366789</td>\n",
       "      <td>42.700565</td>\n",
       "      <td>117.8847</td>\n",
       "      <td>31.727552</td>\n",
       "      <td>0.0</td>\n",
       "    </tr>\n",
       "    <tr>\n",
       "      <th>MO</th>\n",
       "      <td>2.036389</td>\n",
       "      <td>40.787559</td>\n",
       "      <td>113.4358</td>\n",
       "      <td>30.462716</td>\n",
       "      <td>2.0</td>\n",
       "    </tr>\n",
       "    <tr>\n",
       "      <th>TN</th>\n",
       "      <td>2.783480</td>\n",
       "      <td>41.514936</td>\n",
       "      <td>112.3406</td>\n",
       "      <td>30.319272</td>\n",
       "      <td>1.0</td>\n",
       "    </tr>\n",
       "  </tbody>\n",
       "</table>\n",
       "</div>"
      ],
      "text/plain": [
       "      SCORE_POP  SCORE_COUT  TAUX_ADMISSION  SCORE_SYNT  A_DISTANCE_SEULEMENT\n",
       "ETAT                                                                         \n",
       "CA     9.535273  180.850802        480.5725  136.604525                   9.0\n",
       "NY     4.574724  127.790516        305.3332   91.344013                   1.0\n",
       "TX     8.738987  101.211030        301.4342   80.505272                   1.0\n",
       "FL     9.015471   94.673764        265.6467   73.680845                   1.0\n",
       "PA     8.624143  108.887533        253.1908   73.440292                   0.0\n",
       "OH     4.696831   77.891715        209.1235   57.155015                   0.0\n",
       "IL     3.543797   66.677624        181.0552   50.388740                   0.0\n",
       "MA     1.333169   57.882272        105.0249   38.396847                   1.0\n",
       "NC     4.160643   44.581437        121.9264   36.605227                   1.0\n",
       "MI     4.085186   47.055865        133.4562   36.228284                   0.0\n",
       "GA     4.843866   42.719772        120.2341   34.443179                   1.0\n",
       "VA     5.060238   44.254329        113.0367   33.759289                   0.0\n",
       "NJ     3.366789   42.700565        117.8847   31.727552                   0.0\n",
       "MO     2.036389   40.787559        113.4358   30.462716                   2.0\n",
       "TN     2.783480   41.514936        112.3406   30.319272                   1.0"
      ]
     },
     "execution_count": 444,
     "metadata": {},
     "output_type": "execute_result"
    }
   ],
   "source": [
    "df.groupby('ETAT')[['ETAT', 'SCORE_POP', 'SCORE_COUT', 'TAUX_ADMISSION', 'SCORE_SYNT','A_DISTANCE_SEULEMENT']].sum().sort_values('SCORE_SYNT', ascending=False).head(15)"
   ]
  },
  {
   "cell_type": "markdown",
   "metadata": {},
   "source": [
    "Coincidence avec le nombre d'établissements à distance ? ;)"
   ]
  },
  {
   "cell_type": "markdown",
   "metadata": {},
   "source": [
    " "
   ]
  },
  {
   "cell_type": "markdown",
   "metadata": {},
   "source": [
    "<img src='./oc_logo.png' width=15px /> Conclusions\n",
    "\n",
    "Vous venez d'identifier un ensemble de villes potentiellement intéressantes pour un développement commercial, il faut maintenant les présenter à votre client pour le convaincre de la pertinence de vos analyses !\n",
    "\n",
    "Dans cet exercice vous avez appris à nettoyer et explorer un jeu de données pour en extraire des données exploitables (ici à travers les scores). Essayez toujours de présenter des résultats simples à comprendre, ici les scores sont directement issus des indicateurs, ils sont bornés entre 0 et 1."
   ]
  },
  {
   "cell_type": "markdown",
   "metadata": {},
   "source": [
    "<img src='./oc_logo.png' width=15px /> Perspectives d'amélioration\n",
    "\n",
    "Nous n'avons pas exploité toutes les données, par exemple pour illustrer nos analyses il est indispensable de créer des visualisations graphiques avec matplotlib et seaborn, et pourquoi pas faire une carte interactive (avec folium) en utilisant lattitude et longitude."
   ]
  },
  {
   "cell_type": "markdown",
   "metadata": {},
   "source": [
    " "
   ]
  }
 ],
 "metadata": {
  "kernelspec": {
   "display_name": "Python 3",
   "language": "python",
   "name": "python3"
  },
  "language_info": {
   "codemirror_mode": {
    "name": "ipython",
    "version": 3
   },
   "file_extension": ".py",
   "mimetype": "text/x-python",
   "name": "python",
   "nbconvert_exporter": "python",
   "pygments_lexer": "ipython3",
   "version": "3.9.7"
  }
 },
 "nbformat": 4,
 "nbformat_minor": 4
}
