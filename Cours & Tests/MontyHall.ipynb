{
 "cells": [
  {
   "cell_type": "code",
   "execution_count": 1,
   "id": "b6791b08",
   "metadata": {},
   "outputs": [],
   "source": [
    "# Pour afficher les graphiques dans la continuité du code, \n",
    "# et non pas dans une fenêtre à part:\n",
    "%matplotlib inline\n",
    "\n",
    "# Pour utiliser la fonction randint, qui génère des nombres\n",
    "# entiers de façon aléatoire:\n",
    "from random import randint, seed\n",
    "\n",
    "# Un Enum est une structure de données qui consiste en un \n",
    "# ensemble d'éléments nommés. Une variable de ce type peut\n",
    "# avoir comme valeur un de ces éléments.\n",
    "from enum import Enum\n",
    "\n",
    "# Pour pouvoir afficher des graphiques:\n",
    "import matplotlib.pyplot as plt"
   ]
  },
  {
   "cell_type": "code",
   "execution_count": 2,
   "id": "59d96700",
   "metadata": {},
   "outputs": [],
   "source": [
    "# Ici nous définissons une sous-classe de Enum, qui contiendra \n",
    "# les stratégies possibles.\n",
    "class Strategie(Enum):\n",
    "    CHANGER = 1\n",
    "    GARDER = 2\n",
    "    RANDOM = 3"
   ]
  },
  {
   "cell_type": "code",
   "execution_count": 3,
   "id": "6a4947c9",
   "metadata": {},
   "outputs": [],
   "source": [
    "# Utilise l'horloge système pour initialiser le générateur de \n",
    "# nombres pseudo-aléatoires.\n",
    "seed()\n",
    "\n",
    "def play_game(strategie):\n",
    "    '''Simule une partie du jeu Monty Hall.\n",
    "    \n",
    "    Cette fonction simule le choix de la porte par le participant, \n",
    "    l'élimination d'une mauvaise porte par le présentateur, et le \n",
    "    choix final. Elle ne retourne que le résultat de la partie, parce \n",
    "    que nous n'aurons besoin que du résultat pour effectuer nos calculs.\n",
    "    \n",
    "    Args:\n",
    "        strategie (Strategie): La stratégie du joueur\n",
    "        \n",
    "    Returns:\n",
    "        bool: Le joueur a-t-il gagné?\n",
    "    '''\n",
    "\n",
    "    portes = [0, 1, 2]\n",
    "    \n",
    "    bonne_porte = randint(0,2)\n",
    "    \n",
    "    # Choix du joueur\n",
    "    premier_choix = randint(0,2)\n",
    "    \n",
    "    # Il nous reste deux portes\n",
    "    portes.remove(premier_choix)\n",
    "    \n",
    "    # Le présentateur élimine une porte\n",
    "    if premier_choix == bonne_porte:\n",
    "        portes.remove(portes[randint(0,1)])\n",
    "    else:\n",
    "        portes = [bonne_porte]\n",
    "    \n",
    "    deuxieme_choix = 0\n",
    "    # Le deuxieme choix depend de la strategie\n",
    "    if strategie == Strategie.CHANGER:\n",
    "        deuxieme_choix = portes[0]\n",
    "    elif strategie == Strategie.GARDER:\n",
    "        deuxieme_choix = premier_choix\n",
    "    elif strategie == Strategie.RANDOM:\n",
    "        if randint(0,1):\n",
    "            deuxieme_choix = portes[0]\n",
    "        else:\n",
    "            pass\n",
    "    else:\n",
    "        raise ValueError(\"Stratégie non reconnue!\")\n",
    "    \n",
    "    return deuxieme_choix == bonne_porte      "
   ]
  },
  {
   "cell_type": "code",
   "execution_count": 4,
   "id": "34f9a58b",
   "metadata": {},
   "outputs": [
    {
     "data": {
      "text/plain": [
       "True"
      ]
     },
     "execution_count": 4,
     "metadata": {},
     "output_type": "execute_result"
    }
   ],
   "source": [
    "play_game(Strategie.CHANGER)"
   ]
  },
  {
   "cell_type": "code",
   "execution_count": 5,
   "id": "3a917c31",
   "metadata": {},
   "outputs": [],
   "source": [
    "def play(strategie, nb_tours):\n",
    "    return [1 if play_game(strategie) else 0 for i in range(nb_tours)]"
   ]
  },
  {
   "cell_type": "code",
   "execution_count": 6,
   "id": "1f7513f8",
   "metadata": {},
   "outputs": [
    {
     "data": {
      "text/plain": [
       "327"
      ]
     },
     "execution_count": 6,
     "metadata": {},
     "output_type": "execute_result"
    }
   ],
   "source": [
    "sum(play(Strategie.GARDER, 1000))"
   ]
  },
  {
   "cell_type": "code",
   "execution_count": 7,
   "id": "eb1db109",
   "metadata": {},
   "outputs": [
    {
     "data": {
      "text/plain": [
       "651"
      ]
     },
     "execution_count": 7,
     "metadata": {},
     "output_type": "execute_result"
    }
   ],
   "source": [
    "sum(play(Strategie.CHANGER, 1000))"
   ]
  },
  {
   "cell_type": "code",
   "execution_count": 8,
   "id": "26757d37",
   "metadata": {},
   "outputs": [
    {
     "data": {
      "text/plain": [
       "509"
      ]
     },
     "execution_count": 8,
     "metadata": {},
     "output_type": "execute_result"
    }
   ],
   "source": [
    "sum(play(Strategie.RANDOM, 1000))"
   ]
  },
  {
   "cell_type": "code",
   "execution_count": 9,
   "id": "c03db1d7",
   "metadata": {},
   "outputs": [
    {
     "data": {
      "text/plain": [
       "[<matplotlib.lines.Line2D at 0x20e3088f610>]"
      ]
     },
     "execution_count": 9,
     "metadata": {},
     "output_type": "execute_result"
    },
    {
     "data": {
      "image/png": "[encoded data removed]",
      "text/plain": [
       "<Figure size 432x288 with 1 Axes>"
      ]
     },
     "metadata": {
      "needs_background": "light"
     },
     "output_type": "display_data"
    }
   ],
   "source": [
    "plt.plot(play(Strategie.GARDER, 50))"
   ]
  },
  {
   "cell_type": "code",
   "execution_count": 16,
   "id": "02b49c4f",
   "metadata": {},
   "outputs": [
    {
     "data": {
      "text/plain": [
       "<BarContainer object of 3 artists>"
      ]
     },
     "execution_count": 16,
     "metadata": {},
     "output_type": "execute_result"
    },
    {
     "data": {
      "image/png": "[encoded data removed]",
      "text/plain": [
       "<Figure size 432x288 with 1 Axes>"
      ]
     },
     "metadata": {
      "needs_background": "light"
     },
     "output_type": "display_data"
    }
   ],
   "source": [
    "plt.bar([1,2,3],[sum(play(Strategie.GARDER, 1000)), sum(play(Strategie.CHANGER, 1000)), sum(play(Strategie.RANDOM, 1000))])"
   ]
  },
  {
   "cell_type": "code",
   "execution_count": 11,
   "id": "7401d9a0",
   "metadata": {},
   "outputs": [
    {
     "name": "stdout",
     "output_type": "stream",
     "text": [
      "En changeant de porte, le joueur a gagné 6635 sur 10000 parties.\n",
      "En gardant son choix initial, le joueur a gagné 3343 sur 10000 parties.\n"
     ]
    }
   ],
   "source": [
    "print(\"En changeant de porte, le joueur a gagné {} sur 10000 parties.\"\n",
    "      .format(sum(play(Strategie.CHANGER, 10000))))\n",
    "      \n",
    "print(\"En gardant son choix initial, le joueur a gagné {} sur 10000 parties.\"\n",
    "      .format(sum(play(Strategie.GARDER, 10000))))"
   ]
  },
  {
   "cell_type": "code",
   "execution_count": 12,
   "id": "4187b43e",
   "metadata": {},
   "outputs": [],
   "source": [
    "gains_changer = []\n",
    "gains_garder = []\n",
    "gains_random = []\n",
    "samples =  [1000, 10000, 20000, 50000, 80000, 100000]\n",
    "for tours in samples:\n",
    "    gains_changer.append(play(Strategie.CHANGER, tours))\n",
    "    gains_random.append(play(Strategie.RANDOM, tours))\n",
    "    gains_garder.append(play(Strategie.GARDER, tours))"
   ]
  },
  {
   "cell_type": "code",
   "execution_count": 13,
   "id": "919020b3",
   "metadata": {},
   "outputs": [
    {
     "data": {
      "image/png": "[encoded data removed]",
      "text/plain": [
       "<Figure size 432x288 with 1 Axes>"
      ]
     },
     "metadata": {
      "needs_background": "light"
     },
     "output_type": "display_data"
    }
   ],
   "source": [
    "figure = plt.figure()\n",
    "plot = plt.scatter(samples, [sum(x) for x in gains_changer])\n",
    "plot = plt.scatter(samples, [sum(x) for x in gains_garder])\n",
    "plot = plt.scatter(samples, [sum(x) for x in gains_random])"
   ]
  },
  {
   "cell_type": "code",
   "execution_count": 14,
   "id": "38341cee",
   "metadata": {},
   "outputs": [
    {
     "data": {
      "image/png": "[encoded data removed]",
      "text/plain": [
       "<Figure size 432x288 with 1 Axes>"
      ]
     },
     "metadata": {
      "needs_background": "light"
     },
     "output_type": "display_data"
    }
   ],
   "source": [
    "figure = plt.figure()\n",
    "plot = plt.scatter(samples, [sum(gains_changer[i])/samples[i] for i in range(len(samples))])\n",
    "plot = plt.scatter(samples, [sum(gains_garder[i])/samples[i] for i in range(len(samples))])\n",
    "plot = plt.scatter(samples, [sum(gains_random[i])/samples[i] for i in range(len(samples))])"
   ]
  },
  {
   "cell_type": "code",
   "execution_count": null,
   "id": "b9b5e4ce",
   "metadata": {},
   "outputs": [],
   "source": []
  }
 ],
 "metadata": {
  "kernelspec": {
   "display_name": "Python 3 (ipykernel)",
   "language": "python",
   "name": "python3"
  },
  "language_info": {
   "codemirror_mode": {
    "name": "ipython",
    "version": 3
   },
   "file_extension": ".py",
   "mimetype": "text/x-python",
   "name": "python",
   "nbconvert_exporter": "python",
   "pygments_lexer": "ipython3",
   "version": "3.9.7"
  }
 },
 "nbformat": 4,
 "nbformat_minor": 5
}
