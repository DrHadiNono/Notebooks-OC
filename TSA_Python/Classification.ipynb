{
 "cells": [
  {
   "attachments": {},
   "cell_type": "markdown",
   "metadata": {},
   "source": [
    "# Import & Setup"
   ]
  },
  {
   "cell_type": "code",
   "execution_count": 1,
   "metadata": {},
   "outputs": [],
   "source": [
    "# !pip install --upgrade numpy matplotlib seaborn pandas scipy scikit-learn statsmodels pmdarima lightgbm pyts sktime Keras tensorflow tensorflow-addons sktime-dl"
   ]
  },
  {
   "cell_type": "code",
   "execution_count": 38,
   "metadata": {},
   "outputs": [],
   "source": [
    "from sklearn.metrics import roc_auc_score, f1_score\n",
    "from pyts.datasets import load_gunpoint\n",
    "from pyts.classification import TimeSeriesForest\n",
    "from sktime.classification.distance_based import ProximityForest, KNeighborsTimeSeriesClassifier\n",
    "from sktime.classification.interval_based import RandomIntervalSpectralEnsemble\n",
    "from sktime.classification.dictionary_based import ContractableBOSS, MUSE\n",
    "from sktime.classification.kernel_based import RocketClassifier\n",
    "from sktime.classification.feature_based import Catch22Classifier\n",
    "from sktime.classification.hybrid import HIVECOTEV1, HIVECOTEV2\n",
    "from lightgbm import LGBMClassifier"
   ]
  },
  {
   "attachments": {},
   "cell_type": "markdown",
   "metadata": {},
   "source": [
    "# Load Data"
   ]
  },
  {
   "cell_type": "code",
   "execution_count": 4,
   "metadata": {},
   "outputs": [
    {
     "data": {
      "text/plain": [
       "array([[-0.6478854 , -0.64199155, -0.63818632, ..., -0.64042873,\n",
       "        -0.63866571, -0.63865722],\n",
       "       [-0.64442658, -0.64540093, -0.64705511, ..., -0.6349345 ,\n",
       "        -0.6344968 , -0.63159565],\n",
       "       [-0.77835282, -0.77827907, -0.77715084, ..., -0.70419626,\n",
       "        -0.70760524, -0.7071202 ],\n",
       "       ...,\n",
       "       [-0.77912617, -0.77837863, -0.7757449 , ..., -0.50500603,\n",
       "        -0.50373099, -0.50438486],\n",
       "       [-0.70303339, -0.70261754, -0.70250356, ..., -0.64113375,\n",
       "        -0.64140622, -0.64210896],\n",
       "       [-1.4357199 , -1.4322717 , -1.4329285 , ..., -1.4354619 ,\n",
       "        -1.4352821 , -1.4308845 ]])"
      ]
     },
     "metadata": {},
     "output_type": "display_data"
    },
    {
     "data": {
      "text/plain": [
       "array([2, 2, 1, 1, 2, 2, 2, 2, 2, 1, 1, 1, 1, 1, 2, 1, 2, 2, 1, 2, 1, 1,\n",
       "       1, 2, 1, 2, 1, 1, 2, 1, 1, 2, 2, 1, 2, 1, 2, 2, 2, 2, 2, 1, 1, 1,\n",
       "       2, 2, 1, 2, 1, 2], dtype=int64)"
      ]
     },
     "metadata": {},
     "output_type": "display_data"
    }
   ],
   "source": [
    "X_train, X_test, y_train, y_test = load_gunpoint(return_X_y=True)\n",
    "\n",
    "display(X_train)\n",
    "display(y_train)"
   ]
  },
  {
   "cell_type": "code",
   "execution_count": 18,
   "metadata": {},
   "outputs": [],
   "source": [
    "def eval_clf(clf, X_train, X_test, y_train, y_test):\n",
    "    clf.fit(X_train, y_train)\n",
    "\n",
    "    predictions = clf.predict(X_test)\n",
    "\n",
    "    return dict(\n",
    "    score = clf.score(X_test, y_test),\n",
    "    f1_score = f1_score(y_test,predictions),\n",
    "    roc_auc_score = roc_auc_score(y_test,predictions),\n",
    "    )    "
   ]
  },
  {
   "attachments": {},
   "cell_type": "markdown",
   "metadata": {},
   "source": [
    "# KNeighbors TimeSeries Classifier"
   ]
  },
  {
   "cell_type": "code",
   "execution_count": 21,
   "metadata": {},
   "outputs": [
    {
     "data": {
      "text/plain": [
       "{'score': 0.9,\n",
       " 'f1_score': 0.8993288590604027,\n",
       " 'roc_auc_score': 0.9002489331436699}"
      ]
     },
     "execution_count": 21,
     "metadata": {},
     "output_type": "execute_result"
    }
   ],
   "source": [
    "clf = KNeighborsTimeSeriesClassifier(n_jobs=-1, n_neighbors=5, weights='distance')\n",
    "eval_clf(clf, X_train, X_test, y_train, y_test)"
   ]
  },
  {
   "attachments": {},
   "cell_type": "markdown",
   "metadata": {},
   "source": [
    "# Proximity Forest"
   ]
  },
  {
   "cell_type": "code",
   "execution_count": null,
   "metadata": {},
   "outputs": [],
   "source": [
    "clf = ProximityForest(distance_measure='dtw',n_estimators=10, n_jobs=-1)\n",
    "eval_clf(clf, X_train, X_test, y_train, y_test)"
   ]
  },
  {
   "attachments": {},
   "cell_type": "markdown",
   "metadata": {},
   "source": [
    "# Time Series Forest (TSF)"
   ]
  },
  {
   "cell_type": "code",
   "execution_count": 22,
   "metadata": {},
   "outputs": [
    {
     "name": "stderr",
     "output_type": "stream",
     "text": [
      "c:\\Users\\hi\\AppData\\Local\\Programs\\Python\\Python310\\lib\\site-packages\\sklearn\\ensemble\\_forest.py:424: FutureWarning: `max_features='auto'` has been deprecated in 1.1 and will be removed in 1.3. To keep the past behaviour, explicitly set `max_features='sqrt'` or remove this parameter as it is also the default value for RandomForestClassifiers and ExtraTreesClassifiers.\n",
      "  warn(\n",
      "c:\\Users\\hi\\AppData\\Local\\Programs\\Python\\Python310\\lib\\site-packages\\sklearn\\utils\\deprecation.py:101: FutureWarning: Attribute `base_estimator_` was deprecated in version 1.2 and will be removed in 1.4. Use `estimator_` instead.\n",
      "  warnings.warn(msg, category=FutureWarning)\n"
     ]
    },
    {
     "data": {
      "text/plain": [
       "{'score': 0.9733333333333334,\n",
       " 'f1_score': 0.9733333333333333,\n",
       " 'roc_auc_score': 0.97350640113798}"
      ]
     },
     "execution_count": 22,
     "metadata": {},
     "output_type": "execute_result"
    }
   ],
   "source": [
    "clf = TimeSeriesForest(random_state=43, n_jobs=-1)\n",
    "eval_clf(clf, X_train, X_test, y_train, y_test)"
   ]
  },
  {
   "attachments": {},
   "cell_type": "markdown",
   "metadata": {},
   "source": [
    "# Random Interval Spectral Ensemble (RISE)"
   ]
  },
  {
   "cell_type": "code",
   "execution_count": 23,
   "metadata": {},
   "outputs": [
    {
     "data": {
      "text/plain": [
       "{'score': 0.98,\n",
       " 'f1_score': 0.9801324503311258,\n",
       " 'roc_auc_score': 0.980085348506401}"
      ]
     },
     "execution_count": 23,
     "metadata": {},
     "output_type": "execute_result"
    }
   ],
   "source": [
    "clf = RandomIntervalSpectralEnsemble(n_jobs=-1, n_estimators=20)\n",
    "eval_clf(clf, X_train, X_test, y_train, y_test)"
   ]
  },
  {
   "attachments": {},
   "cell_type": "markdown",
   "metadata": {},
   "source": [
    "# Contractable BOSS (cBOSS)"
   ]
  },
  {
   "cell_type": "code",
   "execution_count": 24,
   "metadata": {},
   "outputs": [
    {
     "name": "stderr",
     "output_type": "stream",
     "text": [
      "c:\\Users\\hi\\AppData\\Local\\Programs\\Python\\Python310\\lib\\site-packages\\sklearn\\utils\\deprecation.py:86: FutureWarning: Function delayed is deprecated; The function `delayed` has been moved from `sklearn.utils.fixes` to `sklearn.utils.parallel`. This import path will be removed in 1.5.\n",
      "  warnings.warn(msg, category=FutureWarning)\n",
      "c:\\Users\\hi\\AppData\\Local\\Programs\\Python\\Python310\\lib\\site-packages\\sklearn\\utils\\parallel.py:114: UserWarning: `sklearn.utils.parallel.delayed` should be used with `sklearn.utils.parallel.Parallel` to make it possible to propagate the scikit-learn configuration of the current thread to the joblib workers.\n",
      "  warnings.warn(\n"
     ]
    },
    {
     "data": {
      "text/plain": [
       "{'score': 1.0, 'f1_score': 1.0, 'roc_auc_score': 1.0}"
      ]
     },
     "execution_count": 24,
     "metadata": {},
     "output_type": "execute_result"
    }
   ],
   "source": [
    "clf = ContractableBOSS(n_parameter_samples=10, max_ensemble_size=10, n_jobs=-1)\n",
    "eval_clf(clf, X_train, X_test, y_train, y_test)\n"
   ]
  },
  {
   "attachments": {},
   "cell_type": "markdown",
   "metadata": {},
   "source": [
    "# WEASLE-MUSE"
   ]
  },
  {
   "cell_type": "code",
   "execution_count": 25,
   "metadata": {},
   "outputs": [
    {
     "name": "stderr",
     "output_type": "stream",
     "text": [
      "c:\\Users\\hi\\AppData\\Local\\Programs\\Python\\Python310\\lib\\site-packages\\sktime\\classification\\dictionary_based\\_muse.py:202: UserWarning: MUSE Warning: Input series is univariate; MUSE is designed for multivariate series. It is recommended WEASEL is used instead.\n",
      "  warnings.warn(\n"
     ]
    },
    {
     "data": {
      "text/plain": [
       "{'score': 1.0, 'f1_score': 1.0, 'roc_auc_score': 1.0}"
      ]
     },
     "execution_count": 25,
     "metadata": {},
     "output_type": "execute_result"
    }
   ],
   "source": [
    "clf = MUSE(window_inc=4, use_first_order_differences=False, n_jobs=-1)\n",
    "eval_clf(clf, X_train, X_test, y_train, y_test)"
   ]
  },
  {
   "attachments": {},
   "cell_type": "markdown",
   "metadata": {},
   "source": [
    "# Random Convolutional Kernel Transform (ROCKET)"
   ]
  },
  {
   "cell_type": "code",
   "execution_count": 29,
   "metadata": {},
   "outputs": [
    {
     "data": {
      "text/plain": [
       "{'score': 1.0, 'f1_score': 1.0, 'roc_auc_score': 1.0}"
      ]
     },
     "execution_count": 29,
     "metadata": {},
     "output_type": "execute_result"
    }
   ],
   "source": [
    "clf = RocketClassifier(num_kernels=1500, n_jobs=-1)\n",
    "eval_clf(clf, X_train, X_test, y_train, y_test)"
   ]
  },
  {
   "attachments": {},
   "cell_type": "markdown",
   "metadata": {},
   "source": [
    "# Catch22"
   ]
  },
  {
   "cell_type": "code",
   "execution_count": 36,
   "metadata": {},
   "outputs": [
    {
     "name": "stderr",
     "output_type": "stream",
     "text": [
      "c:\\Users\\hi\\AppData\\Local\\Programs\\Python\\Python310\\lib\\site-packages\\sktime\\datatypes\\_panel\\_convert.py:714: FutureWarning: iteritems is deprecated and will be removed in a future version. Use .items instead.\n",
      "  for _label, _series in multi_ind_dataframe.iteritems():  # noqa\n",
      "c:\\Users\\hi\\AppData\\Local\\Programs\\Python\\Python310\\lib\\site-packages\\sktime\\datatypes\\_panel\\_convert.py:714: FutureWarning: iteritems is deprecated and will be removed in a future version. Use .items instead.\n",
      "  for _label, _series in multi_ind_dataframe.iteritems():  # noqa\n",
      "c:\\Users\\hi\\AppData\\Local\\Programs\\Python\\Python310\\lib\\site-packages\\sktime\\datatypes\\_panel\\_convert.py:714: FutureWarning: iteritems is deprecated and will be removed in a future version. Use .items instead.\n",
      "  for _label, _series in multi_ind_dataframe.iteritems():  # noqa\n"
     ]
    },
    {
     "data": {
      "text/plain": [
       "{'score': 0.7866666666666666,\n",
       " 'f1_score': 0.7647058823529413,\n",
       " 'roc_auc_score': 0.7880512091038406}"
      ]
     },
     "execution_count": 36,
     "metadata": {},
     "output_type": "execute_result"
    }
   ],
   "source": [
    "clf = Catch22Classifier(\n",
    "    estimator=LGBMClassifier(n_estimators=15, n_jobs=-1),\n",
    "    outlier_norm=True,\n",
    "    n_jobs=-1\n",
    ")\n",
    "eval_clf(clf, X_train, X_test, y_train, y_test)"
   ]
  },
  {
   "attachments": {},
   "cell_type": "markdown",
   "metadata": {},
   "source": [
    "# HIVE-COTE"
   ]
  },
  {
   "cell_type": "code",
   "execution_count": null,
   "metadata": {},
   "outputs": [],
   "source": [
    "clf = HIVECOTEV1(n_jobs=-1)\n",
    "eval_clf(clf, X_train, X_test, y_train, y_test)"
   ]
  },
  {
   "cell_type": "code",
   "execution_count": null,
   "metadata": {},
   "outputs": [],
   "source": [
    "clf = HIVECOTEV2(n_jobs=-1)\n",
    "eval_clf(clf, X_train, X_test, y_train, y_test)"
   ]
  }
 ],
 "metadata": {
  "kernelspec": {
   "display_name": "Python 3",
   "language": "python",
   "name": "python3"
  },
  "language_info": {
   "codemirror_mode": {
    "name": "ipython",
    "version": 3
   },
   "file_extension": ".py",
   "mimetype": "text/x-python",
   "name": "python",
   "nbconvert_exporter": "python",
   "pygments_lexer": "ipython3",
   "version": "3.10.6"
  },
  "orig_nbformat": 4,
  "vscode": {
   "interpreter": {
    "hash": "05edeca27d2be48d11434ffce186c0e157f9ec02bfa6bd68d9b9924c9deed1d0"
   }
  }
 },
 "nbformat": 4,
 "nbformat_minor": 2
}
