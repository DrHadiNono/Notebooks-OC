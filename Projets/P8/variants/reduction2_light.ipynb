{
 "cells": [
  {
   "cell_type": "code",
   "execution_count": 1,
   "metadata": {},
   "outputs": [],
   "source": [
    "from pyspark import SparkContext, SparkConf\n",
    "from pyspark.sql import SparkSession, SQLContext\n",
    "from pyspark.mllib.linalg.distributed import RowMatrix\n",
    "from pyspark.ml.feature import PCA\n",
    "from pyspark.ml.linalg import Vectors\n",
    "# from pathlib import Path\n",
    "import pandas as pd\n",
    "# import os"
   ]
  },
  {
   "cell_type": "code",
   "execution_count": 2,
   "metadata": {},
   "outputs": [],
   "source": [
    "production_mode = False\n",
    "local_mode = True"
   ]
  },
  {
   "cell_type": "code",
   "execution_count": 3,
   "metadata": {},
   "outputs": [],
   "source": [
    "# conf = SparkConf().setAppName(\"reduction\") \\\n",
    "#     .set(\"spark.driver.memory\", \"30g\") \\\n",
    "#     .set(\"spark.executor.memory\", \"30g\")\n",
    "# sc = SparkContext.getOrCreate(conf)\n",
    "\n",
    "sc = SparkContext()\n",
    "spark = SparkSession(sc)\n",
    "\n",
    "origin_path = 'F:/' if local_mode else 's3a://dr.hadinono/OC/P8/'\n",
    "\n",
    "csv_dir = origin_path+'fruits-360/CSV/'\n",
    "csv_separate_dir = csv_dir+'Separate/Apple_Braeburn'\n",
    "\n",
    "# Create the data folders to store the outputs\n",
    "# for name in os.listdir(img_dir[:-2]):\n",
    "#     Path(output_dir+name).mkdir(parents=True, exist_ok=True)\n",
    "    # Path(csv_separate_dir+name).mkdir(parents=True, exist_ok=True)"
   ]
  },
  {
   "cell_type": "code",
   "execution_count": 4,
   "metadata": {},
   "outputs": [],
   "source": [
    "# Read the images-csv files\n",
    "# df = spark.read.options(delimiter=\",\", header=True,\n",
    "#                         maxCharsPerColumn=-1, maxColumns=100*100*3+1).csv(csv_separate_dir)\n",
    "df = spark.read.options(delimiter=\";\", header=True, maxCharsPerColumn=-1).csv(csv_separate_dir).limit(5)"
   ]
  },
  {
   "cell_type": "code",
   "execution_count": 5,
   "metadata": {},
   "outputs": [],
   "source": [
    "# Keep the labels\n",
    "labels = df.select('label')\n",
    "if not production_mode:\n",
    "    labels = labels.limit(5)\n",
    "labels = labels.rdd.map(lambda x : {'label':x.label}).collect()\n",
    "labels = pd.DataFrame(labels)"
   ]
  },
  {
   "cell_type": "code",
   "execution_count": 6,
   "metadata": {},
   "outputs": [],
   "source": [
    "# Convert data to matrix\n",
    "# rows = df.drop('label')\n",
    "rows = df.select('features')\n",
    "# rows = rows.select('0', '1', '2', '3', '4', '5', '6', '7', '8', '9', '10')\n",
    "if not production_mode:\n",
    "    rows = rows.limit(5)\n",
    "# rows = rows.rdd.map(list)\n",
    "n=-1\n",
    "if not production_mode:\n",
    "    n=10\n",
    "rows = rows.rdd.map(lambda row: Vectors.dense([float(x) for x in row.features.strip('][').split(',')[:n]]))\n",
    "# rows.persist()"
   ]
  },
  {
   "cell_type": "code",
   "execution_count": 7,
   "metadata": {},
   "outputs": [
    {
     "name": "stderr",
     "output_type": "stream",
     "text": [
      "c:\\Users\\el-ha\\anaconda3\\lib\\site-packages\\pyspark\\sql\\context.py:112: FutureWarning: Deprecated in 3.0.0. Use SparkSession.builder.getOrCreate() instead.\n",
      "  warnings.warn(\n"
     ]
    }
   ],
   "source": [
    "sqlContext = SQLContext(sc)"
   ]
  },
  {
   "cell_type": "code",
   "execution_count": 8,
   "metadata": {},
   "outputs": [
    {
     "name": "stdout",
     "output_type": "stream",
     "text": [
      "+--------------------+\n",
      "|            features|\n",
      "+--------------------+\n",
      "|[255.0,255.0,255....|\n",
      "|[255.0,255.0,255....|\n",
      "|[255.0,255.0,255....|\n",
      "|[255.0,255.0,255....|\n",
      "|[255.0,255.0,255....|\n",
      "+--------------------+\n",
      "\n"
     ]
    }
   ],
   "source": [
    "df = sqlContext.createDataFrame(rows.map(lambda x: (x, )), [\"features\"])\n",
    "df.show()"
   ]
  },
  {
   "cell_type": "code",
   "execution_count": 9,
   "metadata": {},
   "outputs": [],
   "source": [
    "pca_extracted = PCA(k=2, inputCol=\"features\", outputCol=\"pca_features\")\n",
    "model = pca_extracted.fit(df)\n",
    "features = model.transform(df)"
   ]
  },
  {
   "cell_type": "code",
   "execution_count": 12,
   "metadata": {},
   "outputs": [],
   "source": [
    "dfr = pd.concat([labels,pd.DataFrame({'features':features.select('pca_features').rdd.collect()})], axis=1)\n",
    "# if not production_mode:\n",
    "#     display(dfr.head())\n",
    "dfr.to_csv(csv_dir+'data-reduced.csv', index=False, sep=\";\" , quoting=3)"
   ]
  },
  {
   "cell_type": "code",
   "execution_count": null,
   "metadata": {},
   "outputs": [],
   "source": [
    "# Close Spark\n",
    "print('>>>>>>>> all done!')\n",
    "sc.stop()\n",
    "spark.stop()"
   ]
  }
 ],
 "metadata": {
  "kernelspec": {
   "display_name": "Python 3.9.7 ('base')",
   "language": "python",
   "name": "python3"
  },
  "language_info": {
   "codemirror_mode": {
    "name": "ipython",
    "version": 3
   },
   "file_extension": ".py",
   "mimetype": "text/x-python",
   "name": "python",
   "nbconvert_exporter": "python",
   "pygments_lexer": "ipython3",
   "version": "3.9.7"
  },
  "orig_nbformat": 4,
  "vscode": {
   "interpreter": {
    "hash": "22a000a366ddd64c4ddab40e3652306b9e13e369594fde0c1e9f1fab224351e6"
   }
  }
 },
 "nbformat": 4,
 "nbformat_minor": 2
}
